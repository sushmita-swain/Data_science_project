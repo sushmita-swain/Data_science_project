{
 "cells": [
  {
   "cell_type": "markdown",
   "metadata": {},
   "source": [
    "# Covid-19 notification "
   ]
  },
  {
   "cell_type": "markdown",
   "metadata": {},
   "source": [
    "#### A desktop notifier app runs on your system and it will be used to send you notifications after every specific interval of time. You can use the libraries like win10toast, requests, etc to build this app."
   ]
  },
  {
   "cell_type": "markdown",
   "metadata": {},
   "source": [
    "## part1 ( importing libraries)"
   ]
  },
  {
   "cell_type": "code",
   "execution_count": 1,
   "metadata": {},
   "outputs": [],
   "source": [
    "import datetime #for reading present date\n",
    "import time \n",
    "import requests #for retreiving coronavirus data from web\n",
    "from plyer import notification #for getting notification on your PC"
   ]
  },
  {
   "cell_type": "markdown",
   "metadata": {},
   "source": [
    "## part2 (retrieving the data from the web)"
   ]
  },
  {
   "cell_type": "code",
   "execution_count": 2,
   "metadata": {},
   "outputs": [],
   "source": [
    "#let there is no data initially\n",
    "covidData = None\n",
    "try:\n",
    "    covidData = requests.get(\"https://corona-rest-api.herokuapp.com/Api/india\")\n",
    "except:\n",
    "    #if the data is not fetched due to lack of internet\n",
    "    print(\"Please! Check your internet connection\")"
   ]
  },
  {
   "cell_type": "markdown",
   "metadata": {},
   "source": [
    "## part3 (creating custom notification)\n"
   ]
  },
  {
   "cell_type": "code",
   "execution_count": null,
   "metadata": {},
   "outputs": [],
   "source": [
    "#if we fetched data\n",
    "if (covidData != None):\n",
    "    #converting data into JSON format\n",
    "    data = covidData.json()['Success']\n",
    "    \n",
    "    #repeating the loop for multiple times\n",
    "    while(True):\n",
    "        notification.notify(\n",
    "            #title of the notification,\n",
    "            title = \"COVID19 Stats on {}\".format(datetime.date.today()),\n",
    "            #the body of the notification\n",
    "            message = \"Total cases : {totalcases}\\nToday cases : {todaycases}\\nToday deaths :{todaydeaths}\\nTotal active :{active}\".format(\n",
    "                        totalcases = data['cases'],\n",
    "                        todaycases = data['todayCases'],\n",
    "                        todaydeaths = data['todayDeaths'],\n",
    "                        active = data[\"active\"]),  \n",
    "            #creating icon for the notification\n",
    "            #we need to download a icon of ico file format\n",
    "            #app_icon = \"Paomedia-Small-N-Flat-Bell.ico\",\n",
    "            # the notification stays for 50sec\n",
    "            timeout  = 50\n",
    "        )\n",
    "        #sleep for 4 hrs => 60*60*4 sec\n",
    "        #notification repeats after every 4hrs\n",
    "        time.sleep(60*60*4)"
   ]
  },
  {
   "cell_type": "markdown",
   "metadata": {},
   "source": [
    "timeout — tells how much time a notification should show up on thedesktop"
   ]
  },
  {
   "cell_type": "markdown",
   "metadata": {},
   "source": [
    "time.sleep ()— tells after what interval of time the notification should popup"
   ]
  },
  {
   "cell_type": "markdown",
   "metadata": {},
   "source": [
    "# Simple notification app"
   ]
  },
  {
   "cell_type": "code",
   "execution_count": null,
   "metadata": {},
   "outputs": [],
   "source": [
    "from plyer import notification"
   ]
  },
  {
   "cell_type": "code",
   "execution_count": null,
   "metadata": {},
   "outputs": [],
   "source": [
    "notification.notify(\n",
    "    title = ' Welcome to the WSS',\n",
    "    message = 'Subscribe WSS',\n",
    "    app_icon = None,\n",
    "    timeout = 10,\n",
    ")"
   ]
  },
  {
   "cell_type": "markdown",
   "metadata": {},
   "source": [
    "#  Live Cricket score desktop notifier using python "
   ]
  },
  {
   "cell_type": "code",
   "execution_count": 1,
   "metadata": {},
   "outputs": [],
   "source": [
    "import sports"
   ]
  },
  {
   "cell_type": "code",
   "execution_count": 2,
   "metadata": {},
   "outputs": [
    {
     "name": "stdout",
     "output_type": "stream",
     "text": [
      "[Balochistan 173/3 (20.0 ov.)-174/6 (19.1 ov.) Sindh, Mumbai Indians 166/5 (19.4 ov.)-162/4 (20.0 ov.) Delhi Capitals, Sunrisers Hyderabad 158/4 (20.0 ov.)-163/5 (19.5 ov.) Rajasthan Royals, Northern 145/7 (20.0 ov.)-140/8 (20.0 ov.) Southern Punjab, Australia 0-0 India, Surrey 0-159/2 (13.0 ov.) Sussex, Glamorgan 0-0 Kent, Worcestershire 0-0 Lancashire, Sussex 0-0 Hampshire, Surrey Stars 0-0 Yorkshire Diamonds]\n"
     ]
    }
   ],
   "source": [
    "matchinfo = sports.get_sport('CRICKET')\n",
    "print(matchinfo)\n"
   ]
  },
  {
   "cell_type": "code",
   "execution_count": 4,
   "metadata": {},
   "outputs": [],
   "source": [
    "from pynotifier import Notification"
   ]
  },
  {
   "cell_type": "code",
   "execution_count": 5,
   "metadata": {},
   "outputs": [],
   "source": [
    "Notification(\n",
    "    title = 'IPL Live Score Updates',\n",
    "    description = str(matchinfo),\n",
    "    duration = 60,\n",
    "    ).send()"
   ]
  },
  {
   "cell_type": "markdown",
   "metadata": {},
   "source": [
    "# Battery percent desktop notifier using python"
   ]
  },
  {
   "cell_type": "code",
   "execution_count": 6,
   "metadata": {},
   "outputs": [],
   "source": [
    "import psutil"
   ]
  },
  {
   "cell_type": "code",
   "execution_count": 8,
   "metadata": {},
   "outputs": [],
   "source": [
    "battery = psutil.sensors_battery()\n",
    "\n",
    "percent = battery.percent"
   ]
  },
  {
   "cell_type": "code",
   "execution_count": 9,
   "metadata": {},
   "outputs": [],
   "source": [
    "from pynotifier import Notification"
   ]
  },
  {
   "cell_type": "code",
   "execution_count": 13,
   "metadata": {},
   "outputs": [],
   "source": [
    "Notification(\n",
    "    title = 'Battery Percentage',\n",
    "    description = str(percent) + \"% Battery Remaining\",\n",
    "    duration = 5,\n",
    "    ).send()"
   ]
  },
  {
   "cell_type": "markdown",
   "metadata": {},
   "source": [
    "# Take a break notification"
   ]
  },
  {
   "cell_type": "code",
   "execution_count": null,
   "metadata": {},
   "outputs": [],
   "source": [
    "  \n",
    "# \"Take a Break\" Notification system in Python \n",
    "#This code is contributed by Rishabh Narayan\n",
    "\n",
    "from plyer import notification  #pip install plyer\n",
    "import time\n",
    "\n",
    "def notifyMe(title, message):\n",
    "    notification.notify(\n",
    "        title = title,\n",
    "        message = message,\n",
    "        app_icon = None,\n",
    "        timeout = 10,\n",
    "    )\n",
    "\n",
    "\n",
    "if __name__ == '__main__':\n",
    "    while True:\n",
    "        notifyMe(\"Hey User, take a break now !!\", \"You should follow the 20-20-20 rule to keep your eyes healthy\")\n",
    "        time.sleep(1200)"
   ]
  },
  {
   "cell_type": "code",
   "execution_count": null,
   "metadata": {},
   "outputs": [],
   "source": []
  }
 ],
 "metadata": {
  "kernelspec": {
   "display_name": "Python 3",
   "language": "python",
   "name": "python3"
  },
  "language_info": {
   "codemirror_mode": {
    "name": "ipython",
    "version": 3
   },
   "file_extension": ".py",
   "mimetype": "text/x-python",
   "name": "python",
   "nbconvert_exporter": "python",
   "pygments_lexer": "ipython3",
   "version": "3.7.9"
  }
 },
 "nbformat": 4,
 "nbformat_minor": 4
}

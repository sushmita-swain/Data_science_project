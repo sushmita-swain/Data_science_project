{
 "cells": [
  {
   "cell_type": "code",
   "execution_count": 24,
   "metadata": {},
   "outputs": [],
   "source": [
    "import pandas as pd"
   ]
  },
  {
   "cell_type": "code",
   "execution_count": 25,
   "metadata": {},
   "outputs": [],
   "source": [
    "data = pd.read_csv(\"D:\\\\Data_science_project\\\\Data_science_project\\\\pycaret\\\\heart_failure_clinical_records_dataset.csv\")"
   ]
  },
  {
   "cell_type": "code",
   "execution_count": 26,
   "metadata": {},
   "outputs": [
    {
     "data": {
      "text/html": [
       "<div>\n",
       "<style scoped>\n",
       "    .dataframe tbody tr th:only-of-type {\n",
       "        vertical-align: middle;\n",
       "    }\n",
       "\n",
       "    .dataframe tbody tr th {\n",
       "        vertical-align: top;\n",
       "    }\n",
       "\n",
       "    .dataframe thead th {\n",
       "        text-align: right;\n",
       "    }\n",
       "</style>\n",
       "<table border=\"1\" class=\"dataframe\">\n",
       "  <thead>\n",
       "    <tr style=\"text-align: right;\">\n",
       "      <th></th>\n",
       "      <th>age</th>\n",
       "      <th>anaemia</th>\n",
       "      <th>creatinine_phosphokinase</th>\n",
       "      <th>diabetes</th>\n",
       "      <th>ejection_fraction</th>\n",
       "      <th>high_blood_pressure</th>\n",
       "      <th>platelets</th>\n",
       "      <th>serum_creatinine</th>\n",
       "      <th>serum_sodium</th>\n",
       "      <th>sex</th>\n",
       "      <th>smoking</th>\n",
       "      <th>time</th>\n",
       "      <th>DEATH_EVENT</th>\n",
       "    </tr>\n",
       "  </thead>\n",
       "  <tbody>\n",
       "    <tr>\n",
       "      <th>0</th>\n",
       "      <td>75.0</td>\n",
       "      <td>0</td>\n",
       "      <td>582</td>\n",
       "      <td>0</td>\n",
       "      <td>20</td>\n",
       "      <td>1</td>\n",
       "      <td>265000.00</td>\n",
       "      <td>1.9</td>\n",
       "      <td>130</td>\n",
       "      <td>1</td>\n",
       "      <td>0</td>\n",
       "      <td>4</td>\n",
       "      <td>1</td>\n",
       "    </tr>\n",
       "    <tr>\n",
       "      <th>1</th>\n",
       "      <td>55.0</td>\n",
       "      <td>0</td>\n",
       "      <td>7861</td>\n",
       "      <td>0</td>\n",
       "      <td>38</td>\n",
       "      <td>0</td>\n",
       "      <td>263358.03</td>\n",
       "      <td>1.1</td>\n",
       "      <td>136</td>\n",
       "      <td>1</td>\n",
       "      <td>0</td>\n",
       "      <td>6</td>\n",
       "      <td>1</td>\n",
       "    </tr>\n",
       "    <tr>\n",
       "      <th>2</th>\n",
       "      <td>65.0</td>\n",
       "      <td>0</td>\n",
       "      <td>146</td>\n",
       "      <td>0</td>\n",
       "      <td>20</td>\n",
       "      <td>0</td>\n",
       "      <td>162000.00</td>\n",
       "      <td>1.3</td>\n",
       "      <td>129</td>\n",
       "      <td>1</td>\n",
       "      <td>1</td>\n",
       "      <td>7</td>\n",
       "      <td>1</td>\n",
       "    </tr>\n",
       "    <tr>\n",
       "      <th>3</th>\n",
       "      <td>50.0</td>\n",
       "      <td>1</td>\n",
       "      <td>111</td>\n",
       "      <td>0</td>\n",
       "      <td>20</td>\n",
       "      <td>0</td>\n",
       "      <td>210000.00</td>\n",
       "      <td>1.9</td>\n",
       "      <td>137</td>\n",
       "      <td>1</td>\n",
       "      <td>0</td>\n",
       "      <td>7</td>\n",
       "      <td>1</td>\n",
       "    </tr>\n",
       "    <tr>\n",
       "      <th>4</th>\n",
       "      <td>65.0</td>\n",
       "      <td>1</td>\n",
       "      <td>160</td>\n",
       "      <td>1</td>\n",
       "      <td>20</td>\n",
       "      <td>0</td>\n",
       "      <td>327000.00</td>\n",
       "      <td>2.7</td>\n",
       "      <td>116</td>\n",
       "      <td>0</td>\n",
       "      <td>0</td>\n",
       "      <td>8</td>\n",
       "      <td>1</td>\n",
       "    </tr>\n",
       "  </tbody>\n",
       "</table>\n",
       "</div>"
      ],
      "text/plain": [
       "    age  anaemia  creatinine_phosphokinase  diabetes  ejection_fraction  \\\n",
       "0  75.0        0                       582         0                 20   \n",
       "1  55.0        0                      7861         0                 38   \n",
       "2  65.0        0                       146         0                 20   \n",
       "3  50.0        1                       111         0                 20   \n",
       "4  65.0        1                       160         1                 20   \n",
       "\n",
       "   high_blood_pressure  platelets  serum_creatinine  serum_sodium  sex  \\\n",
       "0                    1  265000.00               1.9           130    1   \n",
       "1                    0  263358.03               1.1           136    1   \n",
       "2                    0  162000.00               1.3           129    1   \n",
       "3                    0  210000.00               1.9           137    1   \n",
       "4                    0  327000.00               2.7           116    0   \n",
       "\n",
       "   smoking  time  DEATH_EVENT  \n",
       "0        0     4            1  \n",
       "1        0     6            1  \n",
       "2        1     7            1  \n",
       "3        0     7            1  \n",
       "4        0     8            1  "
      ]
     },
     "execution_count": 26,
     "metadata": {},
     "output_type": "execute_result"
    }
   ],
   "source": [
    "data.head()"
   ]
  },
  {
   "cell_type": "code",
   "execution_count": 27,
   "metadata": {},
   "outputs": [
    {
     "data": {
      "text/plain": [
       "(299, 13)"
      ]
     },
     "execution_count": 27,
     "metadata": {},
     "output_type": "execute_result"
    }
   ],
   "source": [
    "#shape\n",
    "data.shape"
   ]
  },
  {
   "cell_type": "code",
   "execution_count": 28,
   "metadata": {},
   "outputs": [
    {
     "data": {
      "text/plain": [
       "age                         0\n",
       "anaemia                     0\n",
       "creatinine_phosphokinase    0\n",
       "diabetes                    0\n",
       "ejection_fraction           0\n",
       "high_blood_pressure         0\n",
       "platelets                   0\n",
       "serum_creatinine            0\n",
       "serum_sodium                0\n",
       "sex                         0\n",
       "smoking                     0\n",
       "time                        0\n",
       "DEATH_EVENT                 0\n",
       "dtype: int64"
      ]
     },
     "execution_count": 28,
     "metadata": {},
     "output_type": "execute_result"
    }
   ],
   "source": [
    "#check for missing values\n",
    "data.isnull().sum()"
   ]
  },
  {
   "cell_type": "code",
   "execution_count": 29,
   "metadata": {},
   "outputs": [
    {
     "data": {
      "text/plain": [
       "Index(['age', 'anaemia', 'creatinine_phosphokinase', 'diabetes',\n",
       "       'ejection_fraction', 'high_blood_pressure', 'platelets',\n",
       "       'serum_creatinine', 'serum_sodium', 'sex', 'smoking', 'time',\n",
       "       'DEATH_EVENT'],\n",
       "      dtype='object')"
      ]
     },
     "execution_count": 29,
     "metadata": {},
     "output_type": "execute_result"
    }
   ],
   "source": [
    "#columns\n",
    "data.columns"
   ]
  },
  {
   "cell_type": "code",
   "execution_count": 30,
   "metadata": {},
   "outputs": [],
   "source": [
    "# rename a columns\n",
    "# data.rename(columns={'DEATH_EVENT':'class'},inplace=True)"
   ]
  },
  {
   "cell_type": "code",
   "execution_count": 31,
   "metadata": {},
   "outputs": [
    {
     "data": {
      "text/html": [
       "<div>\n",
       "<style scoped>\n",
       "    .dataframe tbody tr th:only-of-type {\n",
       "        vertical-align: middle;\n",
       "    }\n",
       "\n",
       "    .dataframe tbody tr th {\n",
       "        vertical-align: top;\n",
       "    }\n",
       "\n",
       "    .dataframe thead th {\n",
       "        text-align: right;\n",
       "    }\n",
       "</style>\n",
       "<table border=\"1\" class=\"dataframe\">\n",
       "  <thead>\n",
       "    <tr style=\"text-align: right;\">\n",
       "      <th></th>\n",
       "      <th>age</th>\n",
       "      <th>anaemia</th>\n",
       "      <th>creatinine_phosphokinase</th>\n",
       "      <th>diabetes</th>\n",
       "      <th>ejection_fraction</th>\n",
       "      <th>high_blood_pressure</th>\n",
       "      <th>platelets</th>\n",
       "      <th>serum_creatinine</th>\n",
       "      <th>serum_sodium</th>\n",
       "      <th>sex</th>\n",
       "      <th>smoking</th>\n",
       "      <th>time</th>\n",
       "      <th>DEATH_EVENT</th>\n",
       "    </tr>\n",
       "  </thead>\n",
       "  <tbody>\n",
       "    <tr>\n",
       "      <th>count</th>\n",
       "      <td>299.000000</td>\n",
       "      <td>299.000000</td>\n",
       "      <td>299.000000</td>\n",
       "      <td>299.000000</td>\n",
       "      <td>299.000000</td>\n",
       "      <td>299.000000</td>\n",
       "      <td>299.000000</td>\n",
       "      <td>299.00000</td>\n",
       "      <td>299.000000</td>\n",
       "      <td>299.000000</td>\n",
       "      <td>299.00000</td>\n",
       "      <td>299.000000</td>\n",
       "      <td>299.00000</td>\n",
       "    </tr>\n",
       "    <tr>\n",
       "      <th>mean</th>\n",
       "      <td>60.833893</td>\n",
       "      <td>0.431438</td>\n",
       "      <td>581.839465</td>\n",
       "      <td>0.418060</td>\n",
       "      <td>38.083612</td>\n",
       "      <td>0.351171</td>\n",
       "      <td>263358.029264</td>\n",
       "      <td>1.39388</td>\n",
       "      <td>136.625418</td>\n",
       "      <td>0.648829</td>\n",
       "      <td>0.32107</td>\n",
       "      <td>130.260870</td>\n",
       "      <td>0.32107</td>\n",
       "    </tr>\n",
       "    <tr>\n",
       "      <th>std</th>\n",
       "      <td>11.894809</td>\n",
       "      <td>0.496107</td>\n",
       "      <td>970.287881</td>\n",
       "      <td>0.494067</td>\n",
       "      <td>11.834841</td>\n",
       "      <td>0.478136</td>\n",
       "      <td>97804.236869</td>\n",
       "      <td>1.03451</td>\n",
       "      <td>4.412477</td>\n",
       "      <td>0.478136</td>\n",
       "      <td>0.46767</td>\n",
       "      <td>77.614208</td>\n",
       "      <td>0.46767</td>\n",
       "    </tr>\n",
       "    <tr>\n",
       "      <th>min</th>\n",
       "      <td>40.000000</td>\n",
       "      <td>0.000000</td>\n",
       "      <td>23.000000</td>\n",
       "      <td>0.000000</td>\n",
       "      <td>14.000000</td>\n",
       "      <td>0.000000</td>\n",
       "      <td>25100.000000</td>\n",
       "      <td>0.50000</td>\n",
       "      <td>113.000000</td>\n",
       "      <td>0.000000</td>\n",
       "      <td>0.00000</td>\n",
       "      <td>4.000000</td>\n",
       "      <td>0.00000</td>\n",
       "    </tr>\n",
       "    <tr>\n",
       "      <th>25%</th>\n",
       "      <td>51.000000</td>\n",
       "      <td>0.000000</td>\n",
       "      <td>116.500000</td>\n",
       "      <td>0.000000</td>\n",
       "      <td>30.000000</td>\n",
       "      <td>0.000000</td>\n",
       "      <td>212500.000000</td>\n",
       "      <td>0.90000</td>\n",
       "      <td>134.000000</td>\n",
       "      <td>0.000000</td>\n",
       "      <td>0.00000</td>\n",
       "      <td>73.000000</td>\n",
       "      <td>0.00000</td>\n",
       "    </tr>\n",
       "    <tr>\n",
       "      <th>50%</th>\n",
       "      <td>60.000000</td>\n",
       "      <td>0.000000</td>\n",
       "      <td>250.000000</td>\n",
       "      <td>0.000000</td>\n",
       "      <td>38.000000</td>\n",
       "      <td>0.000000</td>\n",
       "      <td>262000.000000</td>\n",
       "      <td>1.10000</td>\n",
       "      <td>137.000000</td>\n",
       "      <td>1.000000</td>\n",
       "      <td>0.00000</td>\n",
       "      <td>115.000000</td>\n",
       "      <td>0.00000</td>\n",
       "    </tr>\n",
       "    <tr>\n",
       "      <th>75%</th>\n",
       "      <td>70.000000</td>\n",
       "      <td>1.000000</td>\n",
       "      <td>582.000000</td>\n",
       "      <td>1.000000</td>\n",
       "      <td>45.000000</td>\n",
       "      <td>1.000000</td>\n",
       "      <td>303500.000000</td>\n",
       "      <td>1.40000</td>\n",
       "      <td>140.000000</td>\n",
       "      <td>1.000000</td>\n",
       "      <td>1.00000</td>\n",
       "      <td>203.000000</td>\n",
       "      <td>1.00000</td>\n",
       "    </tr>\n",
       "    <tr>\n",
       "      <th>max</th>\n",
       "      <td>95.000000</td>\n",
       "      <td>1.000000</td>\n",
       "      <td>7861.000000</td>\n",
       "      <td>1.000000</td>\n",
       "      <td>80.000000</td>\n",
       "      <td>1.000000</td>\n",
       "      <td>850000.000000</td>\n",
       "      <td>9.40000</td>\n",
       "      <td>148.000000</td>\n",
       "      <td>1.000000</td>\n",
       "      <td>1.00000</td>\n",
       "      <td>285.000000</td>\n",
       "      <td>1.00000</td>\n",
       "    </tr>\n",
       "  </tbody>\n",
       "</table>\n",
       "</div>"
      ],
      "text/plain": [
       "              age     anaemia  creatinine_phosphokinase    diabetes  \\\n",
       "count  299.000000  299.000000                299.000000  299.000000   \n",
       "mean    60.833893    0.431438                581.839465    0.418060   \n",
       "std     11.894809    0.496107                970.287881    0.494067   \n",
       "min     40.000000    0.000000                 23.000000    0.000000   \n",
       "25%     51.000000    0.000000                116.500000    0.000000   \n",
       "50%     60.000000    0.000000                250.000000    0.000000   \n",
       "75%     70.000000    1.000000                582.000000    1.000000   \n",
       "max     95.000000    1.000000               7861.000000    1.000000   \n",
       "\n",
       "       ejection_fraction  high_blood_pressure      platelets  \\\n",
       "count         299.000000           299.000000     299.000000   \n",
       "mean           38.083612             0.351171  263358.029264   \n",
       "std            11.834841             0.478136   97804.236869   \n",
       "min            14.000000             0.000000   25100.000000   \n",
       "25%            30.000000             0.000000  212500.000000   \n",
       "50%            38.000000             0.000000  262000.000000   \n",
       "75%            45.000000             1.000000  303500.000000   \n",
       "max            80.000000             1.000000  850000.000000   \n",
       "\n",
       "       serum_creatinine  serum_sodium         sex    smoking        time  \\\n",
       "count         299.00000    299.000000  299.000000  299.00000  299.000000   \n",
       "mean            1.39388    136.625418    0.648829    0.32107  130.260870   \n",
       "std             1.03451      4.412477    0.478136    0.46767   77.614208   \n",
       "min             0.50000    113.000000    0.000000    0.00000    4.000000   \n",
       "25%             0.90000    134.000000    0.000000    0.00000   73.000000   \n",
       "50%             1.10000    137.000000    1.000000    0.00000  115.000000   \n",
       "75%             1.40000    140.000000    1.000000    1.00000  203.000000   \n",
       "max             9.40000    148.000000    1.000000    1.00000  285.000000   \n",
       "\n",
       "       DEATH_EVENT  \n",
       "count    299.00000  \n",
       "mean       0.32107  \n",
       "std        0.46767  \n",
       "min        0.00000  \n",
       "25%        0.00000  \n",
       "50%        0.00000  \n",
       "75%        1.00000  \n",
       "max        1.00000  "
      ]
     },
     "execution_count": 31,
     "metadata": {},
     "output_type": "execute_result"
    }
   ],
   "source": [
    "# Descriptive Stas\n",
    "data.describe()"
   ]
  },
  {
   "cell_type": "code",
   "execution_count": 32,
   "metadata": {},
   "outputs": [
    {
     "data": {
      "text/plain": [
       "0    203\n",
       "1     96\n",
       "Name: DEATH_EVENT, dtype: int64"
      ]
     },
     "execution_count": 32,
     "metadata": {},
     "output_type": "execute_result"
    }
   ],
   "source": [
    "# Value Count Plot\n",
    "data['DEATH_EVENT'].value_counts()"
   ]
  },
  {
   "cell_type": "code",
   "execution_count": 33,
   "metadata": {},
   "outputs": [
    {
     "data": {
      "text/plain": [
       "<AxesSubplot:>"
      ]
     },
     "execution_count": 33,
     "metadata": {},
     "output_type": "execute_result"
    },
    {
     "data": {
      "image/png": "[encoded data removed]",
      "text/plain": [
       "<Figure size 432x288 with 1 Axes>"
      ]
     },
     "metadata": {
      "needs_background": "light"
     },
     "output_type": "display_data"
    }
   ],
   "source": [
    "data['DEATH_EVENT'].value_counts().plot(kind='bar')"
   ]
  },
  {
   "cell_type": "markdown",
   "metadata": {},
   "source": [
    "# Using PyCaret for ML"
   ]
  },
  {
   "cell_type": "code",
   "execution_count": 34,
   "metadata": {},
   "outputs": [],
   "source": [
    "import pycaret.classification"
   ]
  },
  {
   "cell_type": "code",
   "execution_count": 35,
   "metadata": {},
   "outputs": [
    {
     "data": {
      "text/plain": [
       "['USI',\n",
       " 'X',\n",
       " 'X_test',\n",
       " 'X_train',\n",
       " '__builtins__',\n",
       " '__cached__',\n",
       " '__doc__',\n",
       " '__file__',\n",
       " '__loader__',\n",
       " '__name__',\n",
       " '__package__',\n",
       " '__spec__',\n",
       " '__warningregistry__',\n",
       " '_create_bucket_gcp',\n",
       " '_create_container_azure',\n",
       " '_download_blob_azure',\n",
       " '_download_blob_gcp',\n",
       " '_upload_blob_azure',\n",
       " '_upload_blob_gcp',\n",
       " 'automl',\n",
       " 'blend_models',\n",
       " 'calibrate_model',\n",
       " 'compare_models',\n",
       " 'create_model',\n",
       " 'create_model_container',\n",
       " 'data_before_preprocess',\n",
       " 'deploy_model',\n",
       " 'display_container',\n",
       " 'ensemble_model',\n",
       " 'evaluate_model',\n",
       " 'exp_name_log',\n",
       " 'experiment__',\n",
       " 'finalize_model',\n",
       " 'fix_imbalance_method_param',\n",
       " 'fix_imbalance_param',\n",
       " 'folds_shuffle_param',\n",
       " 'get_config',\n",
       " 'get_logs',\n",
       " 'get_system_logs',\n",
       " 'gpu_param',\n",
       " 'html_param',\n",
       " 'interpret_model',\n",
       " 'load_model',\n",
       " 'log_plots_param',\n",
       " 'logger',\n",
       " 'logging_param',\n",
       " 'master_model_container',\n",
       " 'models',\n",
       " 'n_jobs_param',\n",
       " 'optimize_threshold',\n",
       " 'plot_model',\n",
       " 'predict_model',\n",
       " 'prep_pipe',\n",
       " 'pull',\n",
       " 'save_model',\n",
       " 'seed',\n",
       " 'set_config',\n",
       " 'setup',\n",
       " 'stack_models',\n",
       " 'target_param',\n",
       " 'tune_model',\n",
       " 'y',\n",
       " 'y_test',\n",
       " 'y_train']"
      ]
     },
     "execution_count": 35,
     "metadata": {},
     "output_type": "execute_result"
    }
   ],
   "source": [
    "# Methods/Attrib\n",
    "dir(pycaret.classification)"
   ]
  },
  {
   "cell_type": "code",
   "execution_count": 36,
   "metadata": {},
   "outputs": [],
   "source": [
    "# Simplify way\n",
    "import pycaret.classification as pc"
   ]
  },
  {
   "cell_type": "code",
   "execution_count": 37,
   "metadata": {},
   "outputs": [
    {
     "data": {
      "text/plain": [
       "['USI',\n",
       " 'X',\n",
       " 'X_test',\n",
       " 'X_train',\n",
       " '__builtins__',\n",
       " '__cached__',\n",
       " '__doc__',\n",
       " '__file__',\n",
       " '__loader__',\n",
       " '__name__',\n",
       " '__package__',\n",
       " '__spec__',\n",
       " '__warningregistry__',\n",
       " '_create_bucket_gcp',\n",
       " '_create_container_azure',\n",
       " '_download_blob_azure',\n",
       " '_download_blob_gcp',\n",
       " '_upload_blob_azure',\n",
       " '_upload_blob_gcp',\n",
       " 'automl',\n",
       " 'blend_models',\n",
       " 'calibrate_model',\n",
       " 'compare_models',\n",
       " 'create_model',\n",
       " 'create_model_container',\n",
       " 'data_before_preprocess',\n",
       " 'deploy_model',\n",
       " 'display_container',\n",
       " 'ensemble_model',\n",
       " 'evaluate_model',\n",
       " 'exp_name_log',\n",
       " 'experiment__',\n",
       " 'finalize_model',\n",
       " 'fix_imbalance_method_param',\n",
       " 'fix_imbalance_param',\n",
       " 'folds_shuffle_param',\n",
       " 'get_config',\n",
       " 'get_logs',\n",
       " 'get_system_logs',\n",
       " 'gpu_param',\n",
       " 'html_param',\n",
       " 'interpret_model',\n",
       " 'load_model',\n",
       " 'log_plots_param',\n",
       " 'logger',\n",
       " 'logging_param',\n",
       " 'master_model_container',\n",
       " 'models',\n",
       " 'n_jobs_param',\n",
       " 'optimize_threshold',\n",
       " 'plot_model',\n",
       " 'predict_model',\n",
       " 'prep_pipe',\n",
       " 'pull',\n",
       " 'save_model',\n",
       " 'seed',\n",
       " 'set_config',\n",
       " 'setup',\n",
       " 'stack_models',\n",
       " 'target_param',\n",
       " 'tune_model',\n",
       " 'y',\n",
       " 'y_test',\n",
       " 'y_train']"
      ]
     },
     "execution_count": 37,
     "metadata": {},
     "output_type": "execute_result"
    }
   ],
   "source": [
    "dir(pc)"
   ]
  },
  {
   "cell_type": "code",
   "execution_count": 38,
   "metadata": {},
   "outputs": [
    {
     "name": "stdout",
     "output_type": "stream",
     "text": [
      "Setup Succesfully Completed!\n"
     ]
    },
    {
     "data": {
      "text/html": [
       "<style  type=\"text/css\" >\n",
       "</style><table id=\"T_b9fbf9d8_f012_11ea_82f7_7cd30a80f0bf\" ><thead>    <tr>        <th class=\"blank level0\" ></th>        <th class=\"col_heading level0 col0\" >Description</th>        <th class=\"col_heading level0 col1\" >Value</th>    </tr></thead><tbody>\n",
       "                <tr>\n",
       "                        <th id=\"T_b9fbf9d8_f012_11ea_82f7_7cd30a80f0bflevel0_row0\" class=\"row_heading level0 row0\" >0</th>\n",
       "                        <td id=\"T_b9fbf9d8_f012_11ea_82f7_7cd30a80f0bfrow0_col0\" class=\"data row0 col0\" >session_id</td>\n",
       "                        <td id=\"T_b9fbf9d8_f012_11ea_82f7_7cd30a80f0bfrow0_col1\" class=\"data row0 col1\" >8719</td>\n",
       "            </tr>\n",
       "            <tr>\n",
       "                        <th id=\"T_b9fbf9d8_f012_11ea_82f7_7cd30a80f0bflevel0_row1\" class=\"row_heading level0 row1\" >1</th>\n",
       "                        <td id=\"T_b9fbf9d8_f012_11ea_82f7_7cd30a80f0bfrow1_col0\" class=\"data row1 col0\" >Target Type</td>\n",
       "                        <td id=\"T_b9fbf9d8_f012_11ea_82f7_7cd30a80f0bfrow1_col1\" class=\"data row1 col1\" >Binary</td>\n",
       "            </tr>\n",
       "            <tr>\n",
       "                        <th id=\"T_b9fbf9d8_f012_11ea_82f7_7cd30a80f0bflevel0_row2\" class=\"row_heading level0 row2\" >2</th>\n",
       "                        <td id=\"T_b9fbf9d8_f012_11ea_82f7_7cd30a80f0bfrow2_col0\" class=\"data row2 col0\" >Label Encoded</td>\n",
       "                        <td id=\"T_b9fbf9d8_f012_11ea_82f7_7cd30a80f0bfrow2_col1\" class=\"data row2 col1\" >0: 0, 1: 1</td>\n",
       "            </tr>\n",
       "            <tr>\n",
       "                        <th id=\"T_b9fbf9d8_f012_11ea_82f7_7cd30a80f0bflevel0_row3\" class=\"row_heading level0 row3\" >3</th>\n",
       "                        <td id=\"T_b9fbf9d8_f012_11ea_82f7_7cd30a80f0bfrow3_col0\" class=\"data row3 col0\" >Original Data</td>\n",
       "                        <td id=\"T_b9fbf9d8_f012_11ea_82f7_7cd30a80f0bfrow3_col1\" class=\"data row3 col1\" >(299, 13)</td>\n",
       "            </tr>\n",
       "            <tr>\n",
       "                        <th id=\"T_b9fbf9d8_f012_11ea_82f7_7cd30a80f0bflevel0_row4\" class=\"row_heading level0 row4\" >4</th>\n",
       "                        <td id=\"T_b9fbf9d8_f012_11ea_82f7_7cd30a80f0bfrow4_col0\" class=\"data row4 col0\" >Missing Values </td>\n",
       "                        <td id=\"T_b9fbf9d8_f012_11ea_82f7_7cd30a80f0bfrow4_col1\" class=\"data row4 col1\" >False</td>\n",
       "            </tr>\n",
       "            <tr>\n",
       "                        <th id=\"T_b9fbf9d8_f012_11ea_82f7_7cd30a80f0bflevel0_row5\" class=\"row_heading level0 row5\" >5</th>\n",
       "                        <td id=\"T_b9fbf9d8_f012_11ea_82f7_7cd30a80f0bfrow5_col0\" class=\"data row5 col0\" >Numeric Features </td>\n",
       "                        <td id=\"T_b9fbf9d8_f012_11ea_82f7_7cd30a80f0bfrow5_col1\" class=\"data row5 col1\" >6</td>\n",
       "            </tr>\n",
       "            <tr>\n",
       "                        <th id=\"T_b9fbf9d8_f012_11ea_82f7_7cd30a80f0bflevel0_row6\" class=\"row_heading level0 row6\" >6</th>\n",
       "                        <td id=\"T_b9fbf9d8_f012_11ea_82f7_7cd30a80f0bfrow6_col0\" class=\"data row6 col0\" >Categorical Features </td>\n",
       "                        <td id=\"T_b9fbf9d8_f012_11ea_82f7_7cd30a80f0bfrow6_col1\" class=\"data row6 col1\" >6</td>\n",
       "            </tr>\n",
       "            <tr>\n",
       "                        <th id=\"T_b9fbf9d8_f012_11ea_82f7_7cd30a80f0bflevel0_row7\" class=\"row_heading level0 row7\" >7</th>\n",
       "                        <td id=\"T_b9fbf9d8_f012_11ea_82f7_7cd30a80f0bfrow7_col0\" class=\"data row7 col0\" >Ordinal Features </td>\n",
       "                        <td id=\"T_b9fbf9d8_f012_11ea_82f7_7cd30a80f0bfrow7_col1\" class=\"data row7 col1\" >False</td>\n",
       "            </tr>\n",
       "            <tr>\n",
       "                        <th id=\"T_b9fbf9d8_f012_11ea_82f7_7cd30a80f0bflevel0_row8\" class=\"row_heading level0 row8\" >8</th>\n",
       "                        <td id=\"T_b9fbf9d8_f012_11ea_82f7_7cd30a80f0bfrow8_col0\" class=\"data row8 col0\" >High Cardinality Features </td>\n",
       "                        <td id=\"T_b9fbf9d8_f012_11ea_82f7_7cd30a80f0bfrow8_col1\" class=\"data row8 col1\" >False</td>\n",
       "            </tr>\n",
       "            <tr>\n",
       "                        <th id=\"T_b9fbf9d8_f012_11ea_82f7_7cd30a80f0bflevel0_row9\" class=\"row_heading level0 row9\" >9</th>\n",
       "                        <td id=\"T_b9fbf9d8_f012_11ea_82f7_7cd30a80f0bfrow9_col0\" class=\"data row9 col0\" >High Cardinality Method </td>\n",
       "                        <td id=\"T_b9fbf9d8_f012_11ea_82f7_7cd30a80f0bfrow9_col1\" class=\"data row9 col1\" >None</td>\n",
       "            </tr>\n",
       "            <tr>\n",
       "                        <th id=\"T_b9fbf9d8_f012_11ea_82f7_7cd30a80f0bflevel0_row10\" class=\"row_heading level0 row10\" >10</th>\n",
       "                        <td id=\"T_b9fbf9d8_f012_11ea_82f7_7cd30a80f0bfrow10_col0\" class=\"data row10 col0\" >Sampled Data</td>\n",
       "                        <td id=\"T_b9fbf9d8_f012_11ea_82f7_7cd30a80f0bfrow10_col1\" class=\"data row10 col1\" >(299, 13)</td>\n",
       "            </tr>\n",
       "            <tr>\n",
       "                        <th id=\"T_b9fbf9d8_f012_11ea_82f7_7cd30a80f0bflevel0_row11\" class=\"row_heading level0 row11\" >11</th>\n",
       "                        <td id=\"T_b9fbf9d8_f012_11ea_82f7_7cd30a80f0bfrow11_col0\" class=\"data row11 col0\" >Transformed Train Set</td>\n",
       "                        <td id=\"T_b9fbf9d8_f012_11ea_82f7_7cd30a80f0bfrow11_col1\" class=\"data row11 col1\" >(209, 33)</td>\n",
       "            </tr>\n",
       "            <tr>\n",
       "                        <th id=\"T_b9fbf9d8_f012_11ea_82f7_7cd30a80f0bflevel0_row12\" class=\"row_heading level0 row12\" >12</th>\n",
       "                        <td id=\"T_b9fbf9d8_f012_11ea_82f7_7cd30a80f0bfrow12_col0\" class=\"data row12 col0\" >Transformed Test Set</td>\n",
       "                        <td id=\"T_b9fbf9d8_f012_11ea_82f7_7cd30a80f0bfrow12_col1\" class=\"data row12 col1\" >(90, 33)</td>\n",
       "            </tr>\n",
       "            <tr>\n",
       "                        <th id=\"T_b9fbf9d8_f012_11ea_82f7_7cd30a80f0bflevel0_row13\" class=\"row_heading level0 row13\" >13</th>\n",
       "                        <td id=\"T_b9fbf9d8_f012_11ea_82f7_7cd30a80f0bfrow13_col0\" class=\"data row13 col0\" >Numeric Imputer </td>\n",
       "                        <td id=\"T_b9fbf9d8_f012_11ea_82f7_7cd30a80f0bfrow13_col1\" class=\"data row13 col1\" >mean</td>\n",
       "            </tr>\n",
       "            <tr>\n",
       "                        <th id=\"T_b9fbf9d8_f012_11ea_82f7_7cd30a80f0bflevel0_row14\" class=\"row_heading level0 row14\" >14</th>\n",
       "                        <td id=\"T_b9fbf9d8_f012_11ea_82f7_7cd30a80f0bfrow14_col0\" class=\"data row14 col0\" >Categorical Imputer </td>\n",
       "                        <td id=\"T_b9fbf9d8_f012_11ea_82f7_7cd30a80f0bfrow14_col1\" class=\"data row14 col1\" >constant</td>\n",
       "            </tr>\n",
       "            <tr>\n",
       "                        <th id=\"T_b9fbf9d8_f012_11ea_82f7_7cd30a80f0bflevel0_row15\" class=\"row_heading level0 row15\" >15</th>\n",
       "                        <td id=\"T_b9fbf9d8_f012_11ea_82f7_7cd30a80f0bfrow15_col0\" class=\"data row15 col0\" >Normalize </td>\n",
       "                        <td id=\"T_b9fbf9d8_f012_11ea_82f7_7cd30a80f0bfrow15_col1\" class=\"data row15 col1\" >False</td>\n",
       "            </tr>\n",
       "            <tr>\n",
       "                        <th id=\"T_b9fbf9d8_f012_11ea_82f7_7cd30a80f0bflevel0_row16\" class=\"row_heading level0 row16\" >16</th>\n",
       "                        <td id=\"T_b9fbf9d8_f012_11ea_82f7_7cd30a80f0bfrow16_col0\" class=\"data row16 col0\" >Normalize Method </td>\n",
       "                        <td id=\"T_b9fbf9d8_f012_11ea_82f7_7cd30a80f0bfrow16_col1\" class=\"data row16 col1\" >None</td>\n",
       "            </tr>\n",
       "            <tr>\n",
       "                        <th id=\"T_b9fbf9d8_f012_11ea_82f7_7cd30a80f0bflevel0_row17\" class=\"row_heading level0 row17\" >17</th>\n",
       "                        <td id=\"T_b9fbf9d8_f012_11ea_82f7_7cd30a80f0bfrow17_col0\" class=\"data row17 col0\" >Transformation </td>\n",
       "                        <td id=\"T_b9fbf9d8_f012_11ea_82f7_7cd30a80f0bfrow17_col1\" class=\"data row17 col1\" >False</td>\n",
       "            </tr>\n",
       "            <tr>\n",
       "                        <th id=\"T_b9fbf9d8_f012_11ea_82f7_7cd30a80f0bflevel0_row18\" class=\"row_heading level0 row18\" >18</th>\n",
       "                        <td id=\"T_b9fbf9d8_f012_11ea_82f7_7cd30a80f0bfrow18_col0\" class=\"data row18 col0\" >Transformation Method </td>\n",
       "                        <td id=\"T_b9fbf9d8_f012_11ea_82f7_7cd30a80f0bfrow18_col1\" class=\"data row18 col1\" >None</td>\n",
       "            </tr>\n",
       "            <tr>\n",
       "                        <th id=\"T_b9fbf9d8_f012_11ea_82f7_7cd30a80f0bflevel0_row19\" class=\"row_heading level0 row19\" >19</th>\n",
       "                        <td id=\"T_b9fbf9d8_f012_11ea_82f7_7cd30a80f0bfrow19_col0\" class=\"data row19 col0\" >PCA </td>\n",
       "                        <td id=\"T_b9fbf9d8_f012_11ea_82f7_7cd30a80f0bfrow19_col1\" class=\"data row19 col1\" >False</td>\n",
       "            </tr>\n",
       "            <tr>\n",
       "                        <th id=\"T_b9fbf9d8_f012_11ea_82f7_7cd30a80f0bflevel0_row20\" class=\"row_heading level0 row20\" >20</th>\n",
       "                        <td id=\"T_b9fbf9d8_f012_11ea_82f7_7cd30a80f0bfrow20_col0\" class=\"data row20 col0\" >PCA Method </td>\n",
       "                        <td id=\"T_b9fbf9d8_f012_11ea_82f7_7cd30a80f0bfrow20_col1\" class=\"data row20 col1\" >None</td>\n",
       "            </tr>\n",
       "            <tr>\n",
       "                        <th id=\"T_b9fbf9d8_f012_11ea_82f7_7cd30a80f0bflevel0_row21\" class=\"row_heading level0 row21\" >21</th>\n",
       "                        <td id=\"T_b9fbf9d8_f012_11ea_82f7_7cd30a80f0bfrow21_col0\" class=\"data row21 col0\" >PCA Components </td>\n",
       "                        <td id=\"T_b9fbf9d8_f012_11ea_82f7_7cd30a80f0bfrow21_col1\" class=\"data row21 col1\" >None</td>\n",
       "            </tr>\n",
       "            <tr>\n",
       "                        <th id=\"T_b9fbf9d8_f012_11ea_82f7_7cd30a80f0bflevel0_row22\" class=\"row_heading level0 row22\" >22</th>\n",
       "                        <td id=\"T_b9fbf9d8_f012_11ea_82f7_7cd30a80f0bfrow22_col0\" class=\"data row22 col0\" >Ignore Low Variance </td>\n",
       "                        <td id=\"T_b9fbf9d8_f012_11ea_82f7_7cd30a80f0bfrow22_col1\" class=\"data row22 col1\" >False</td>\n",
       "            </tr>\n",
       "            <tr>\n",
       "                        <th id=\"T_b9fbf9d8_f012_11ea_82f7_7cd30a80f0bflevel0_row23\" class=\"row_heading level0 row23\" >23</th>\n",
       "                        <td id=\"T_b9fbf9d8_f012_11ea_82f7_7cd30a80f0bfrow23_col0\" class=\"data row23 col0\" >Combine Rare Levels </td>\n",
       "                        <td id=\"T_b9fbf9d8_f012_11ea_82f7_7cd30a80f0bfrow23_col1\" class=\"data row23 col1\" >False</td>\n",
       "            </tr>\n",
       "            <tr>\n",
       "                        <th id=\"T_b9fbf9d8_f012_11ea_82f7_7cd30a80f0bflevel0_row24\" class=\"row_heading level0 row24\" >24</th>\n",
       "                        <td id=\"T_b9fbf9d8_f012_11ea_82f7_7cd30a80f0bfrow24_col0\" class=\"data row24 col0\" >Rare Level Threshold </td>\n",
       "                        <td id=\"T_b9fbf9d8_f012_11ea_82f7_7cd30a80f0bfrow24_col1\" class=\"data row24 col1\" >None</td>\n",
       "            </tr>\n",
       "            <tr>\n",
       "                        <th id=\"T_b9fbf9d8_f012_11ea_82f7_7cd30a80f0bflevel0_row25\" class=\"row_heading level0 row25\" >25</th>\n",
       "                        <td id=\"T_b9fbf9d8_f012_11ea_82f7_7cd30a80f0bfrow25_col0\" class=\"data row25 col0\" >Numeric Binning </td>\n",
       "                        <td id=\"T_b9fbf9d8_f012_11ea_82f7_7cd30a80f0bfrow25_col1\" class=\"data row25 col1\" >False</td>\n",
       "            </tr>\n",
       "            <tr>\n",
       "                        <th id=\"T_b9fbf9d8_f012_11ea_82f7_7cd30a80f0bflevel0_row26\" class=\"row_heading level0 row26\" >26</th>\n",
       "                        <td id=\"T_b9fbf9d8_f012_11ea_82f7_7cd30a80f0bfrow26_col0\" class=\"data row26 col0\" >Remove Outliers </td>\n",
       "                        <td id=\"T_b9fbf9d8_f012_11ea_82f7_7cd30a80f0bfrow26_col1\" class=\"data row26 col1\" >False</td>\n",
       "            </tr>\n",
       "            <tr>\n",
       "                        <th id=\"T_b9fbf9d8_f012_11ea_82f7_7cd30a80f0bflevel0_row27\" class=\"row_heading level0 row27\" >27</th>\n",
       "                        <td id=\"T_b9fbf9d8_f012_11ea_82f7_7cd30a80f0bfrow27_col0\" class=\"data row27 col0\" >Outliers Threshold </td>\n",
       "                        <td id=\"T_b9fbf9d8_f012_11ea_82f7_7cd30a80f0bfrow27_col1\" class=\"data row27 col1\" >None</td>\n",
       "            </tr>\n",
       "            <tr>\n",
       "                        <th id=\"T_b9fbf9d8_f012_11ea_82f7_7cd30a80f0bflevel0_row28\" class=\"row_heading level0 row28\" >28</th>\n",
       "                        <td id=\"T_b9fbf9d8_f012_11ea_82f7_7cd30a80f0bfrow28_col0\" class=\"data row28 col0\" >Remove Multicollinearity </td>\n",
       "                        <td id=\"T_b9fbf9d8_f012_11ea_82f7_7cd30a80f0bfrow28_col1\" class=\"data row28 col1\" >False</td>\n",
       "            </tr>\n",
       "            <tr>\n",
       "                        <th id=\"T_b9fbf9d8_f012_11ea_82f7_7cd30a80f0bflevel0_row29\" class=\"row_heading level0 row29\" >29</th>\n",
       "                        <td id=\"T_b9fbf9d8_f012_11ea_82f7_7cd30a80f0bfrow29_col0\" class=\"data row29 col0\" >Multicollinearity Threshold </td>\n",
       "                        <td id=\"T_b9fbf9d8_f012_11ea_82f7_7cd30a80f0bfrow29_col1\" class=\"data row29 col1\" >None</td>\n",
       "            </tr>\n",
       "            <tr>\n",
       "                        <th id=\"T_b9fbf9d8_f012_11ea_82f7_7cd30a80f0bflevel0_row30\" class=\"row_heading level0 row30\" >30</th>\n",
       "                        <td id=\"T_b9fbf9d8_f012_11ea_82f7_7cd30a80f0bfrow30_col0\" class=\"data row30 col0\" >Clustering </td>\n",
       "                        <td id=\"T_b9fbf9d8_f012_11ea_82f7_7cd30a80f0bfrow30_col1\" class=\"data row30 col1\" >False</td>\n",
       "            </tr>\n",
       "            <tr>\n",
       "                        <th id=\"T_b9fbf9d8_f012_11ea_82f7_7cd30a80f0bflevel0_row31\" class=\"row_heading level0 row31\" >31</th>\n",
       "                        <td id=\"T_b9fbf9d8_f012_11ea_82f7_7cd30a80f0bfrow31_col0\" class=\"data row31 col0\" >Clustering Iteration </td>\n",
       "                        <td id=\"T_b9fbf9d8_f012_11ea_82f7_7cd30a80f0bfrow31_col1\" class=\"data row31 col1\" >None</td>\n",
       "            </tr>\n",
       "            <tr>\n",
       "                        <th id=\"T_b9fbf9d8_f012_11ea_82f7_7cd30a80f0bflevel0_row32\" class=\"row_heading level0 row32\" >32</th>\n",
       "                        <td id=\"T_b9fbf9d8_f012_11ea_82f7_7cd30a80f0bfrow32_col0\" class=\"data row32 col0\" >Polynomial Features </td>\n",
       "                        <td id=\"T_b9fbf9d8_f012_11ea_82f7_7cd30a80f0bfrow32_col1\" class=\"data row32 col1\" >False</td>\n",
       "            </tr>\n",
       "            <tr>\n",
       "                        <th id=\"T_b9fbf9d8_f012_11ea_82f7_7cd30a80f0bflevel0_row33\" class=\"row_heading level0 row33\" >33</th>\n",
       "                        <td id=\"T_b9fbf9d8_f012_11ea_82f7_7cd30a80f0bfrow33_col0\" class=\"data row33 col0\" >Polynomial Degree </td>\n",
       "                        <td id=\"T_b9fbf9d8_f012_11ea_82f7_7cd30a80f0bfrow33_col1\" class=\"data row33 col1\" >None</td>\n",
       "            </tr>\n",
       "            <tr>\n",
       "                        <th id=\"T_b9fbf9d8_f012_11ea_82f7_7cd30a80f0bflevel0_row34\" class=\"row_heading level0 row34\" >34</th>\n",
       "                        <td id=\"T_b9fbf9d8_f012_11ea_82f7_7cd30a80f0bfrow34_col0\" class=\"data row34 col0\" >Trignometry Features </td>\n",
       "                        <td id=\"T_b9fbf9d8_f012_11ea_82f7_7cd30a80f0bfrow34_col1\" class=\"data row34 col1\" >False</td>\n",
       "            </tr>\n",
       "            <tr>\n",
       "                        <th id=\"T_b9fbf9d8_f012_11ea_82f7_7cd30a80f0bflevel0_row35\" class=\"row_heading level0 row35\" >35</th>\n",
       "                        <td id=\"T_b9fbf9d8_f012_11ea_82f7_7cd30a80f0bfrow35_col0\" class=\"data row35 col0\" >Polynomial Threshold </td>\n",
       "                        <td id=\"T_b9fbf9d8_f012_11ea_82f7_7cd30a80f0bfrow35_col1\" class=\"data row35 col1\" >None</td>\n",
       "            </tr>\n",
       "            <tr>\n",
       "                        <th id=\"T_b9fbf9d8_f012_11ea_82f7_7cd30a80f0bflevel0_row36\" class=\"row_heading level0 row36\" >36</th>\n",
       "                        <td id=\"T_b9fbf9d8_f012_11ea_82f7_7cd30a80f0bfrow36_col0\" class=\"data row36 col0\" >Group Features </td>\n",
       "                        <td id=\"T_b9fbf9d8_f012_11ea_82f7_7cd30a80f0bfrow36_col1\" class=\"data row36 col1\" >False</td>\n",
       "            </tr>\n",
       "            <tr>\n",
       "                        <th id=\"T_b9fbf9d8_f012_11ea_82f7_7cd30a80f0bflevel0_row37\" class=\"row_heading level0 row37\" >37</th>\n",
       "                        <td id=\"T_b9fbf9d8_f012_11ea_82f7_7cd30a80f0bfrow37_col0\" class=\"data row37 col0\" >Feature Selection </td>\n",
       "                        <td id=\"T_b9fbf9d8_f012_11ea_82f7_7cd30a80f0bfrow37_col1\" class=\"data row37 col1\" >False</td>\n",
       "            </tr>\n",
       "            <tr>\n",
       "                        <th id=\"T_b9fbf9d8_f012_11ea_82f7_7cd30a80f0bflevel0_row38\" class=\"row_heading level0 row38\" >38</th>\n",
       "                        <td id=\"T_b9fbf9d8_f012_11ea_82f7_7cd30a80f0bfrow38_col0\" class=\"data row38 col0\" >Features Selection Threshold </td>\n",
       "                        <td id=\"T_b9fbf9d8_f012_11ea_82f7_7cd30a80f0bfrow38_col1\" class=\"data row38 col1\" >None</td>\n",
       "            </tr>\n",
       "            <tr>\n",
       "                        <th id=\"T_b9fbf9d8_f012_11ea_82f7_7cd30a80f0bflevel0_row39\" class=\"row_heading level0 row39\" >39</th>\n",
       "                        <td id=\"T_b9fbf9d8_f012_11ea_82f7_7cd30a80f0bfrow39_col0\" class=\"data row39 col0\" >Feature Interaction </td>\n",
       "                        <td id=\"T_b9fbf9d8_f012_11ea_82f7_7cd30a80f0bfrow39_col1\" class=\"data row39 col1\" >False</td>\n",
       "            </tr>\n",
       "            <tr>\n",
       "                        <th id=\"T_b9fbf9d8_f012_11ea_82f7_7cd30a80f0bflevel0_row40\" class=\"row_heading level0 row40\" >40</th>\n",
       "                        <td id=\"T_b9fbf9d8_f012_11ea_82f7_7cd30a80f0bfrow40_col0\" class=\"data row40 col0\" >Feature Ratio </td>\n",
       "                        <td id=\"T_b9fbf9d8_f012_11ea_82f7_7cd30a80f0bfrow40_col1\" class=\"data row40 col1\" >False</td>\n",
       "            </tr>\n",
       "            <tr>\n",
       "                        <th id=\"T_b9fbf9d8_f012_11ea_82f7_7cd30a80f0bflevel0_row41\" class=\"row_heading level0 row41\" >41</th>\n",
       "                        <td id=\"T_b9fbf9d8_f012_11ea_82f7_7cd30a80f0bfrow41_col0\" class=\"data row41 col0\" >Interaction Threshold </td>\n",
       "                        <td id=\"T_b9fbf9d8_f012_11ea_82f7_7cd30a80f0bfrow41_col1\" class=\"data row41 col1\" >None</td>\n",
       "            </tr>\n",
       "            <tr>\n",
       "                        <th id=\"T_b9fbf9d8_f012_11ea_82f7_7cd30a80f0bflevel0_row42\" class=\"row_heading level0 row42\" >42</th>\n",
       "                        <td id=\"T_b9fbf9d8_f012_11ea_82f7_7cd30a80f0bfrow42_col0\" class=\"data row42 col0\" >Fix Imbalance</td>\n",
       "                        <td id=\"T_b9fbf9d8_f012_11ea_82f7_7cd30a80f0bfrow42_col1\" class=\"data row42 col1\" >False</td>\n",
       "            </tr>\n",
       "            <tr>\n",
       "                        <th id=\"T_b9fbf9d8_f012_11ea_82f7_7cd30a80f0bflevel0_row43\" class=\"row_heading level0 row43\" >43</th>\n",
       "                        <td id=\"T_b9fbf9d8_f012_11ea_82f7_7cd30a80f0bfrow43_col0\" class=\"data row43 col0\" >Fix Imbalance Method</td>\n",
       "                        <td id=\"T_b9fbf9d8_f012_11ea_82f7_7cd30a80f0bfrow43_col1\" class=\"data row43 col1\" >SMOTE</td>\n",
       "            </tr>\n",
       "    </tbody></table>"
      ],
      "text/plain": [
       "<pandas.io.formats.style.Styler at 0x1c5d4960248>"
      ]
     },
     "metadata": {},
     "output_type": "display_data"
    }
   ],
   "source": [
    "# Init\n",
    "# Enter Y for all variables in dataset\n",
    "# Specify % of data for train/test/split\n",
    "clf = pc.setup(data=data,target='DEATH_EVENT')"
   ]
  },
  {
   "cell_type": "code",
   "execution_count": 39,
   "metadata": {},
   "outputs": [
    {
     "name": "stdout",
     "output_type": "stream",
     "text": [
      "Setup Succesfully Completed!\n"
     ]
    },
    {
     "data": {
      "text/html": [
       "<style  type=\"text/css\" >\n",
       "</style><table id=\"T_bb3ad658_f012_11ea_81ed_7cd30a80f0bf\" ><thead>    <tr>        <th class=\"blank level0\" ></th>        <th class=\"col_heading level0 col0\" >Description</th>        <th class=\"col_heading level0 col1\" >Value</th>    </tr></thead><tbody>\n",
       "                <tr>\n",
       "                        <th id=\"T_bb3ad658_f012_11ea_81ed_7cd30a80f0bflevel0_row0\" class=\"row_heading level0 row0\" >0</th>\n",
       "                        <td id=\"T_bb3ad658_f012_11ea_81ed_7cd30a80f0bfrow0_col0\" class=\"data row0 col0\" >session_id</td>\n",
       "                        <td id=\"T_bb3ad658_f012_11ea_81ed_7cd30a80f0bfrow0_col1\" class=\"data row0 col1\" >5587</td>\n",
       "            </tr>\n",
       "            <tr>\n",
       "                        <th id=\"T_bb3ad658_f012_11ea_81ed_7cd30a80f0bflevel0_row1\" class=\"row_heading level0 row1\" >1</th>\n",
       "                        <td id=\"T_bb3ad658_f012_11ea_81ed_7cd30a80f0bfrow1_col0\" class=\"data row1 col0\" >Target Type</td>\n",
       "                        <td id=\"T_bb3ad658_f012_11ea_81ed_7cd30a80f0bfrow1_col1\" class=\"data row1 col1\" >Binary</td>\n",
       "            </tr>\n",
       "            <tr>\n",
       "                        <th id=\"T_bb3ad658_f012_11ea_81ed_7cd30a80f0bflevel0_row2\" class=\"row_heading level0 row2\" >2</th>\n",
       "                        <td id=\"T_bb3ad658_f012_11ea_81ed_7cd30a80f0bfrow2_col0\" class=\"data row2 col0\" >Label Encoded</td>\n",
       "                        <td id=\"T_bb3ad658_f012_11ea_81ed_7cd30a80f0bfrow2_col1\" class=\"data row2 col1\" >0: 0, 1: 1</td>\n",
       "            </tr>\n",
       "            <tr>\n",
       "                        <th id=\"T_bb3ad658_f012_11ea_81ed_7cd30a80f0bflevel0_row3\" class=\"row_heading level0 row3\" >3</th>\n",
       "                        <td id=\"T_bb3ad658_f012_11ea_81ed_7cd30a80f0bfrow3_col0\" class=\"data row3 col0\" >Original Data</td>\n",
       "                        <td id=\"T_bb3ad658_f012_11ea_81ed_7cd30a80f0bfrow3_col1\" class=\"data row3 col1\" >(299, 13)</td>\n",
       "            </tr>\n",
       "            <tr>\n",
       "                        <th id=\"T_bb3ad658_f012_11ea_81ed_7cd30a80f0bflevel0_row4\" class=\"row_heading level0 row4\" >4</th>\n",
       "                        <td id=\"T_bb3ad658_f012_11ea_81ed_7cd30a80f0bfrow4_col0\" class=\"data row4 col0\" >Missing Values </td>\n",
       "                        <td id=\"T_bb3ad658_f012_11ea_81ed_7cd30a80f0bfrow4_col1\" class=\"data row4 col1\" >False</td>\n",
       "            </tr>\n",
       "            <tr>\n",
       "                        <th id=\"T_bb3ad658_f012_11ea_81ed_7cd30a80f0bflevel0_row5\" class=\"row_heading level0 row5\" >5</th>\n",
       "                        <td id=\"T_bb3ad658_f012_11ea_81ed_7cd30a80f0bfrow5_col0\" class=\"data row5 col0\" >Numeric Features </td>\n",
       "                        <td id=\"T_bb3ad658_f012_11ea_81ed_7cd30a80f0bfrow5_col1\" class=\"data row5 col1\" >6</td>\n",
       "            </tr>\n",
       "            <tr>\n",
       "                        <th id=\"T_bb3ad658_f012_11ea_81ed_7cd30a80f0bflevel0_row6\" class=\"row_heading level0 row6\" >6</th>\n",
       "                        <td id=\"T_bb3ad658_f012_11ea_81ed_7cd30a80f0bfrow6_col0\" class=\"data row6 col0\" >Categorical Features </td>\n",
       "                        <td id=\"T_bb3ad658_f012_11ea_81ed_7cd30a80f0bfrow6_col1\" class=\"data row6 col1\" >6</td>\n",
       "            </tr>\n",
       "            <tr>\n",
       "                        <th id=\"T_bb3ad658_f012_11ea_81ed_7cd30a80f0bflevel0_row7\" class=\"row_heading level0 row7\" >7</th>\n",
       "                        <td id=\"T_bb3ad658_f012_11ea_81ed_7cd30a80f0bfrow7_col0\" class=\"data row7 col0\" >Ordinal Features </td>\n",
       "                        <td id=\"T_bb3ad658_f012_11ea_81ed_7cd30a80f0bfrow7_col1\" class=\"data row7 col1\" >False</td>\n",
       "            </tr>\n",
       "            <tr>\n",
       "                        <th id=\"T_bb3ad658_f012_11ea_81ed_7cd30a80f0bflevel0_row8\" class=\"row_heading level0 row8\" >8</th>\n",
       "                        <td id=\"T_bb3ad658_f012_11ea_81ed_7cd30a80f0bfrow8_col0\" class=\"data row8 col0\" >High Cardinality Features </td>\n",
       "                        <td id=\"T_bb3ad658_f012_11ea_81ed_7cd30a80f0bfrow8_col1\" class=\"data row8 col1\" >False</td>\n",
       "            </tr>\n",
       "            <tr>\n",
       "                        <th id=\"T_bb3ad658_f012_11ea_81ed_7cd30a80f0bflevel0_row9\" class=\"row_heading level0 row9\" >9</th>\n",
       "                        <td id=\"T_bb3ad658_f012_11ea_81ed_7cd30a80f0bfrow9_col0\" class=\"data row9 col0\" >High Cardinality Method </td>\n",
       "                        <td id=\"T_bb3ad658_f012_11ea_81ed_7cd30a80f0bfrow9_col1\" class=\"data row9 col1\" >None</td>\n",
       "            </tr>\n",
       "            <tr>\n",
       "                        <th id=\"T_bb3ad658_f012_11ea_81ed_7cd30a80f0bflevel0_row10\" class=\"row_heading level0 row10\" >10</th>\n",
       "                        <td id=\"T_bb3ad658_f012_11ea_81ed_7cd30a80f0bfrow10_col0\" class=\"data row10 col0\" >Sampled Data</td>\n",
       "                        <td id=\"T_bb3ad658_f012_11ea_81ed_7cd30a80f0bfrow10_col1\" class=\"data row10 col1\" >(299, 13)</td>\n",
       "            </tr>\n",
       "            <tr>\n",
       "                        <th id=\"T_bb3ad658_f012_11ea_81ed_7cd30a80f0bflevel0_row11\" class=\"row_heading level0 row11\" >11</th>\n",
       "                        <td id=\"T_bb3ad658_f012_11ea_81ed_7cd30a80f0bfrow11_col0\" class=\"data row11 col0\" >Transformed Train Set</td>\n",
       "                        <td id=\"T_bb3ad658_f012_11ea_81ed_7cd30a80f0bfrow11_col1\" class=\"data row11 col1\" >(209, 30)</td>\n",
       "            </tr>\n",
       "            <tr>\n",
       "                        <th id=\"T_bb3ad658_f012_11ea_81ed_7cd30a80f0bflevel0_row12\" class=\"row_heading level0 row12\" >12</th>\n",
       "                        <td id=\"T_bb3ad658_f012_11ea_81ed_7cd30a80f0bfrow12_col0\" class=\"data row12 col0\" >Transformed Test Set</td>\n",
       "                        <td id=\"T_bb3ad658_f012_11ea_81ed_7cd30a80f0bfrow12_col1\" class=\"data row12 col1\" >(90, 30)</td>\n",
       "            </tr>\n",
       "            <tr>\n",
       "                        <th id=\"T_bb3ad658_f012_11ea_81ed_7cd30a80f0bflevel0_row13\" class=\"row_heading level0 row13\" >13</th>\n",
       "                        <td id=\"T_bb3ad658_f012_11ea_81ed_7cd30a80f0bfrow13_col0\" class=\"data row13 col0\" >Numeric Imputer </td>\n",
       "                        <td id=\"T_bb3ad658_f012_11ea_81ed_7cd30a80f0bfrow13_col1\" class=\"data row13 col1\" >mean</td>\n",
       "            </tr>\n",
       "            <tr>\n",
       "                        <th id=\"T_bb3ad658_f012_11ea_81ed_7cd30a80f0bflevel0_row14\" class=\"row_heading level0 row14\" >14</th>\n",
       "                        <td id=\"T_bb3ad658_f012_11ea_81ed_7cd30a80f0bfrow14_col0\" class=\"data row14 col0\" >Categorical Imputer </td>\n",
       "                        <td id=\"T_bb3ad658_f012_11ea_81ed_7cd30a80f0bfrow14_col1\" class=\"data row14 col1\" >constant</td>\n",
       "            </tr>\n",
       "            <tr>\n",
       "                        <th id=\"T_bb3ad658_f012_11ea_81ed_7cd30a80f0bflevel0_row15\" class=\"row_heading level0 row15\" >15</th>\n",
       "                        <td id=\"T_bb3ad658_f012_11ea_81ed_7cd30a80f0bfrow15_col0\" class=\"data row15 col0\" >Normalize </td>\n",
       "                        <td id=\"T_bb3ad658_f012_11ea_81ed_7cd30a80f0bfrow15_col1\" class=\"data row15 col1\" >False</td>\n",
       "            </tr>\n",
       "            <tr>\n",
       "                        <th id=\"T_bb3ad658_f012_11ea_81ed_7cd30a80f0bflevel0_row16\" class=\"row_heading level0 row16\" >16</th>\n",
       "                        <td id=\"T_bb3ad658_f012_11ea_81ed_7cd30a80f0bfrow16_col0\" class=\"data row16 col0\" >Normalize Method </td>\n",
       "                        <td id=\"T_bb3ad658_f012_11ea_81ed_7cd30a80f0bfrow16_col1\" class=\"data row16 col1\" >None</td>\n",
       "            </tr>\n",
       "            <tr>\n",
       "                        <th id=\"T_bb3ad658_f012_11ea_81ed_7cd30a80f0bflevel0_row17\" class=\"row_heading level0 row17\" >17</th>\n",
       "                        <td id=\"T_bb3ad658_f012_11ea_81ed_7cd30a80f0bfrow17_col0\" class=\"data row17 col0\" >Transformation </td>\n",
       "                        <td id=\"T_bb3ad658_f012_11ea_81ed_7cd30a80f0bfrow17_col1\" class=\"data row17 col1\" >False</td>\n",
       "            </tr>\n",
       "            <tr>\n",
       "                        <th id=\"T_bb3ad658_f012_11ea_81ed_7cd30a80f0bflevel0_row18\" class=\"row_heading level0 row18\" >18</th>\n",
       "                        <td id=\"T_bb3ad658_f012_11ea_81ed_7cd30a80f0bfrow18_col0\" class=\"data row18 col0\" >Transformation Method </td>\n",
       "                        <td id=\"T_bb3ad658_f012_11ea_81ed_7cd30a80f0bfrow18_col1\" class=\"data row18 col1\" >None</td>\n",
       "            </tr>\n",
       "            <tr>\n",
       "                        <th id=\"T_bb3ad658_f012_11ea_81ed_7cd30a80f0bflevel0_row19\" class=\"row_heading level0 row19\" >19</th>\n",
       "                        <td id=\"T_bb3ad658_f012_11ea_81ed_7cd30a80f0bfrow19_col0\" class=\"data row19 col0\" >PCA </td>\n",
       "                        <td id=\"T_bb3ad658_f012_11ea_81ed_7cd30a80f0bfrow19_col1\" class=\"data row19 col1\" >False</td>\n",
       "            </tr>\n",
       "            <tr>\n",
       "                        <th id=\"T_bb3ad658_f012_11ea_81ed_7cd30a80f0bflevel0_row20\" class=\"row_heading level0 row20\" >20</th>\n",
       "                        <td id=\"T_bb3ad658_f012_11ea_81ed_7cd30a80f0bfrow20_col0\" class=\"data row20 col0\" >PCA Method </td>\n",
       "                        <td id=\"T_bb3ad658_f012_11ea_81ed_7cd30a80f0bfrow20_col1\" class=\"data row20 col1\" >None</td>\n",
       "            </tr>\n",
       "            <tr>\n",
       "                        <th id=\"T_bb3ad658_f012_11ea_81ed_7cd30a80f0bflevel0_row21\" class=\"row_heading level0 row21\" >21</th>\n",
       "                        <td id=\"T_bb3ad658_f012_11ea_81ed_7cd30a80f0bfrow21_col0\" class=\"data row21 col0\" >PCA Components </td>\n",
       "                        <td id=\"T_bb3ad658_f012_11ea_81ed_7cd30a80f0bfrow21_col1\" class=\"data row21 col1\" >None</td>\n",
       "            </tr>\n",
       "            <tr>\n",
       "                        <th id=\"T_bb3ad658_f012_11ea_81ed_7cd30a80f0bflevel0_row22\" class=\"row_heading level0 row22\" >22</th>\n",
       "                        <td id=\"T_bb3ad658_f012_11ea_81ed_7cd30a80f0bfrow22_col0\" class=\"data row22 col0\" >Ignore Low Variance </td>\n",
       "                        <td id=\"T_bb3ad658_f012_11ea_81ed_7cd30a80f0bfrow22_col1\" class=\"data row22 col1\" >False</td>\n",
       "            </tr>\n",
       "            <tr>\n",
       "                        <th id=\"T_bb3ad658_f012_11ea_81ed_7cd30a80f0bflevel0_row23\" class=\"row_heading level0 row23\" >23</th>\n",
       "                        <td id=\"T_bb3ad658_f012_11ea_81ed_7cd30a80f0bfrow23_col0\" class=\"data row23 col0\" >Combine Rare Levels </td>\n",
       "                        <td id=\"T_bb3ad658_f012_11ea_81ed_7cd30a80f0bfrow23_col1\" class=\"data row23 col1\" >False</td>\n",
       "            </tr>\n",
       "            <tr>\n",
       "                        <th id=\"T_bb3ad658_f012_11ea_81ed_7cd30a80f0bflevel0_row24\" class=\"row_heading level0 row24\" >24</th>\n",
       "                        <td id=\"T_bb3ad658_f012_11ea_81ed_7cd30a80f0bfrow24_col0\" class=\"data row24 col0\" >Rare Level Threshold </td>\n",
       "                        <td id=\"T_bb3ad658_f012_11ea_81ed_7cd30a80f0bfrow24_col1\" class=\"data row24 col1\" >None</td>\n",
       "            </tr>\n",
       "            <tr>\n",
       "                        <th id=\"T_bb3ad658_f012_11ea_81ed_7cd30a80f0bflevel0_row25\" class=\"row_heading level0 row25\" >25</th>\n",
       "                        <td id=\"T_bb3ad658_f012_11ea_81ed_7cd30a80f0bfrow25_col0\" class=\"data row25 col0\" >Numeric Binning </td>\n",
       "                        <td id=\"T_bb3ad658_f012_11ea_81ed_7cd30a80f0bfrow25_col1\" class=\"data row25 col1\" >False</td>\n",
       "            </tr>\n",
       "            <tr>\n",
       "                        <th id=\"T_bb3ad658_f012_11ea_81ed_7cd30a80f0bflevel0_row26\" class=\"row_heading level0 row26\" >26</th>\n",
       "                        <td id=\"T_bb3ad658_f012_11ea_81ed_7cd30a80f0bfrow26_col0\" class=\"data row26 col0\" >Remove Outliers </td>\n",
       "                        <td id=\"T_bb3ad658_f012_11ea_81ed_7cd30a80f0bfrow26_col1\" class=\"data row26 col1\" >False</td>\n",
       "            </tr>\n",
       "            <tr>\n",
       "                        <th id=\"T_bb3ad658_f012_11ea_81ed_7cd30a80f0bflevel0_row27\" class=\"row_heading level0 row27\" >27</th>\n",
       "                        <td id=\"T_bb3ad658_f012_11ea_81ed_7cd30a80f0bfrow27_col0\" class=\"data row27 col0\" >Outliers Threshold </td>\n",
       "                        <td id=\"T_bb3ad658_f012_11ea_81ed_7cd30a80f0bfrow27_col1\" class=\"data row27 col1\" >None</td>\n",
       "            </tr>\n",
       "            <tr>\n",
       "                        <th id=\"T_bb3ad658_f012_11ea_81ed_7cd30a80f0bflevel0_row28\" class=\"row_heading level0 row28\" >28</th>\n",
       "                        <td id=\"T_bb3ad658_f012_11ea_81ed_7cd30a80f0bfrow28_col0\" class=\"data row28 col0\" >Remove Multicollinearity </td>\n",
       "                        <td id=\"T_bb3ad658_f012_11ea_81ed_7cd30a80f0bfrow28_col1\" class=\"data row28 col1\" >False</td>\n",
       "            </tr>\n",
       "            <tr>\n",
       "                        <th id=\"T_bb3ad658_f012_11ea_81ed_7cd30a80f0bflevel0_row29\" class=\"row_heading level0 row29\" >29</th>\n",
       "                        <td id=\"T_bb3ad658_f012_11ea_81ed_7cd30a80f0bfrow29_col0\" class=\"data row29 col0\" >Multicollinearity Threshold </td>\n",
       "                        <td id=\"T_bb3ad658_f012_11ea_81ed_7cd30a80f0bfrow29_col1\" class=\"data row29 col1\" >None</td>\n",
       "            </tr>\n",
       "            <tr>\n",
       "                        <th id=\"T_bb3ad658_f012_11ea_81ed_7cd30a80f0bflevel0_row30\" class=\"row_heading level0 row30\" >30</th>\n",
       "                        <td id=\"T_bb3ad658_f012_11ea_81ed_7cd30a80f0bfrow30_col0\" class=\"data row30 col0\" >Clustering </td>\n",
       "                        <td id=\"T_bb3ad658_f012_11ea_81ed_7cd30a80f0bfrow30_col1\" class=\"data row30 col1\" >False</td>\n",
       "            </tr>\n",
       "            <tr>\n",
       "                        <th id=\"T_bb3ad658_f012_11ea_81ed_7cd30a80f0bflevel0_row31\" class=\"row_heading level0 row31\" >31</th>\n",
       "                        <td id=\"T_bb3ad658_f012_11ea_81ed_7cd30a80f0bfrow31_col0\" class=\"data row31 col0\" >Clustering Iteration </td>\n",
       "                        <td id=\"T_bb3ad658_f012_11ea_81ed_7cd30a80f0bfrow31_col1\" class=\"data row31 col1\" >None</td>\n",
       "            </tr>\n",
       "            <tr>\n",
       "                        <th id=\"T_bb3ad658_f012_11ea_81ed_7cd30a80f0bflevel0_row32\" class=\"row_heading level0 row32\" >32</th>\n",
       "                        <td id=\"T_bb3ad658_f012_11ea_81ed_7cd30a80f0bfrow32_col0\" class=\"data row32 col0\" >Polynomial Features </td>\n",
       "                        <td id=\"T_bb3ad658_f012_11ea_81ed_7cd30a80f0bfrow32_col1\" class=\"data row32 col1\" >False</td>\n",
       "            </tr>\n",
       "            <tr>\n",
       "                        <th id=\"T_bb3ad658_f012_11ea_81ed_7cd30a80f0bflevel0_row33\" class=\"row_heading level0 row33\" >33</th>\n",
       "                        <td id=\"T_bb3ad658_f012_11ea_81ed_7cd30a80f0bfrow33_col0\" class=\"data row33 col0\" >Polynomial Degree </td>\n",
       "                        <td id=\"T_bb3ad658_f012_11ea_81ed_7cd30a80f0bfrow33_col1\" class=\"data row33 col1\" >None</td>\n",
       "            </tr>\n",
       "            <tr>\n",
       "                        <th id=\"T_bb3ad658_f012_11ea_81ed_7cd30a80f0bflevel0_row34\" class=\"row_heading level0 row34\" >34</th>\n",
       "                        <td id=\"T_bb3ad658_f012_11ea_81ed_7cd30a80f0bfrow34_col0\" class=\"data row34 col0\" >Trignometry Features </td>\n",
       "                        <td id=\"T_bb3ad658_f012_11ea_81ed_7cd30a80f0bfrow34_col1\" class=\"data row34 col1\" >False</td>\n",
       "            </tr>\n",
       "            <tr>\n",
       "                        <th id=\"T_bb3ad658_f012_11ea_81ed_7cd30a80f0bflevel0_row35\" class=\"row_heading level0 row35\" >35</th>\n",
       "                        <td id=\"T_bb3ad658_f012_11ea_81ed_7cd30a80f0bfrow35_col0\" class=\"data row35 col0\" >Polynomial Threshold </td>\n",
       "                        <td id=\"T_bb3ad658_f012_11ea_81ed_7cd30a80f0bfrow35_col1\" class=\"data row35 col1\" >None</td>\n",
       "            </tr>\n",
       "            <tr>\n",
       "                        <th id=\"T_bb3ad658_f012_11ea_81ed_7cd30a80f0bflevel0_row36\" class=\"row_heading level0 row36\" >36</th>\n",
       "                        <td id=\"T_bb3ad658_f012_11ea_81ed_7cd30a80f0bfrow36_col0\" class=\"data row36 col0\" >Group Features </td>\n",
       "                        <td id=\"T_bb3ad658_f012_11ea_81ed_7cd30a80f0bfrow36_col1\" class=\"data row36 col1\" >False</td>\n",
       "            </tr>\n",
       "            <tr>\n",
       "                        <th id=\"T_bb3ad658_f012_11ea_81ed_7cd30a80f0bflevel0_row37\" class=\"row_heading level0 row37\" >37</th>\n",
       "                        <td id=\"T_bb3ad658_f012_11ea_81ed_7cd30a80f0bfrow37_col0\" class=\"data row37 col0\" >Feature Selection </td>\n",
       "                        <td id=\"T_bb3ad658_f012_11ea_81ed_7cd30a80f0bfrow37_col1\" class=\"data row37 col1\" >False</td>\n",
       "            </tr>\n",
       "            <tr>\n",
       "                        <th id=\"T_bb3ad658_f012_11ea_81ed_7cd30a80f0bflevel0_row38\" class=\"row_heading level0 row38\" >38</th>\n",
       "                        <td id=\"T_bb3ad658_f012_11ea_81ed_7cd30a80f0bfrow38_col0\" class=\"data row38 col0\" >Features Selection Threshold </td>\n",
       "                        <td id=\"T_bb3ad658_f012_11ea_81ed_7cd30a80f0bfrow38_col1\" class=\"data row38 col1\" >None</td>\n",
       "            </tr>\n",
       "            <tr>\n",
       "                        <th id=\"T_bb3ad658_f012_11ea_81ed_7cd30a80f0bflevel0_row39\" class=\"row_heading level0 row39\" >39</th>\n",
       "                        <td id=\"T_bb3ad658_f012_11ea_81ed_7cd30a80f0bfrow39_col0\" class=\"data row39 col0\" >Feature Interaction </td>\n",
       "                        <td id=\"T_bb3ad658_f012_11ea_81ed_7cd30a80f0bfrow39_col1\" class=\"data row39 col1\" >False</td>\n",
       "            </tr>\n",
       "            <tr>\n",
       "                        <th id=\"T_bb3ad658_f012_11ea_81ed_7cd30a80f0bflevel0_row40\" class=\"row_heading level0 row40\" >40</th>\n",
       "                        <td id=\"T_bb3ad658_f012_11ea_81ed_7cd30a80f0bfrow40_col0\" class=\"data row40 col0\" >Feature Ratio </td>\n",
       "                        <td id=\"T_bb3ad658_f012_11ea_81ed_7cd30a80f0bfrow40_col1\" class=\"data row40 col1\" >False</td>\n",
       "            </tr>\n",
       "            <tr>\n",
       "                        <th id=\"T_bb3ad658_f012_11ea_81ed_7cd30a80f0bflevel0_row41\" class=\"row_heading level0 row41\" >41</th>\n",
       "                        <td id=\"T_bb3ad658_f012_11ea_81ed_7cd30a80f0bfrow41_col0\" class=\"data row41 col0\" >Interaction Threshold </td>\n",
       "                        <td id=\"T_bb3ad658_f012_11ea_81ed_7cd30a80f0bfrow41_col1\" class=\"data row41 col1\" >None</td>\n",
       "            </tr>\n",
       "            <tr>\n",
       "                        <th id=\"T_bb3ad658_f012_11ea_81ed_7cd30a80f0bflevel0_row42\" class=\"row_heading level0 row42\" >42</th>\n",
       "                        <td id=\"T_bb3ad658_f012_11ea_81ed_7cd30a80f0bfrow42_col0\" class=\"data row42 col0\" >Fix Imbalance</td>\n",
       "                        <td id=\"T_bb3ad658_f012_11ea_81ed_7cd30a80f0bfrow42_col1\" class=\"data row42 col1\" >False</td>\n",
       "            </tr>\n",
       "            <tr>\n",
       "                        <th id=\"T_bb3ad658_f012_11ea_81ed_7cd30a80f0bflevel0_row43\" class=\"row_heading level0 row43\" >43</th>\n",
       "                        <td id=\"T_bb3ad658_f012_11ea_81ed_7cd30a80f0bfrow43_col0\" class=\"data row43 col0\" >Fix Imbalance Method</td>\n",
       "                        <td id=\"T_bb3ad658_f012_11ea_81ed_7cd30a80f0bfrow43_col1\" class=\"data row43 col1\" >SMOTE</td>\n",
       "            </tr>\n",
       "    </tbody></table>"
      ],
      "text/plain": [
       "<pandas.io.formats.style.Styler at 0x1c5d4979308>"
      ]
     },
     "metadata": {},
     "output_type": "display_data"
    },
    {
     "data": {
      "text/plain": [
       "(     creatinine_phosphokinase  platelets  serum_creatinine  serum_sodium  \\\n",
       " 0                       582.0  265000.00               1.9         130.0   \n",
       " 1                      7861.0  263358.03               1.1         136.0   \n",
       " 2                       146.0  162000.00               1.3         129.0   \n",
       " 3                       111.0  210000.00               1.9         137.0   \n",
       " 4                       160.0  327000.00               2.7         116.0   \n",
       " ..                        ...        ...               ...           ...   \n",
       " 294                      61.0  155000.00               1.1         143.0   \n",
       " 295                    1820.0  270000.00               1.2         139.0   \n",
       " 296                    2060.0  742000.00               0.8         138.0   \n",
       " 297                    2413.0  140000.00               1.4         140.0   \n",
       " 298                     196.0  395000.00               1.6         136.0   \n",
       " \n",
       "       time  anaemia_0  anaemia_1  ejection_fraction_14  ejection_fraction_15  \\\n",
       " 0      4.0        1.0        0.0                   0.0                   0.0   \n",
       " 1      6.0        1.0        0.0                   0.0                   0.0   \n",
       " 2      7.0        1.0        0.0                   0.0                   0.0   \n",
       " 3      7.0        0.0        1.0                   0.0                   0.0   \n",
       " 4      8.0        0.0        1.0                   0.0                   0.0   \n",
       " ..     ...        ...        ...                   ...                   ...   \n",
       " 294  270.0        1.0        0.0                   0.0                   0.0   \n",
       " 295  271.0        1.0        0.0                   0.0                   0.0   \n",
       " 296  278.0        1.0        0.0                   0.0                   0.0   \n",
       " 297  280.0        1.0        0.0                   0.0                   0.0   \n",
       " 298  285.0        1.0        0.0                   0.0                   0.0   \n",
       " \n",
       "      ejection_fraction_17  ...  ejection_fraction_62  ejection_fraction_65  \\\n",
       " 0                     0.0  ...                   0.0                   0.0   \n",
       " 1                     0.0  ...                   0.0                   0.0   \n",
       " 2                     0.0  ...                   0.0                   0.0   \n",
       " 3                     0.0  ...                   0.0                   0.0   \n",
       " 4                     0.0  ...                   0.0                   0.0   \n",
       " ..                    ...  ...                   ...                   ...   \n",
       " 294                   0.0  ...                   0.0                   0.0   \n",
       " 295                   0.0  ...                   0.0                   0.0   \n",
       " 296                   0.0  ...                   0.0                   0.0   \n",
       " 297                   0.0  ...                   0.0                   0.0   \n",
       " 298                   0.0  ...                   0.0                   0.0   \n",
       " \n",
       "      ejection_fraction_70  ejection_fraction_80  high_blood_pressure_0  \\\n",
       " 0                     0.0                   0.0                    0.0   \n",
       " 1                     0.0                   0.0                    1.0   \n",
       " 2                     0.0                   0.0                    1.0   \n",
       " 3                     0.0                   0.0                    1.0   \n",
       " 4                     0.0                   0.0                    1.0   \n",
       " ..                    ...                   ...                    ...   \n",
       " 294                   0.0                   0.0                    0.0   \n",
       " 295                   0.0                   0.0                    1.0   \n",
       " 296                   0.0                   0.0                    1.0   \n",
       " 297                   0.0                   0.0                    1.0   \n",
       " 298                   0.0                   0.0                    1.0   \n",
       " \n",
       "      high_blood_pressure_1  sex_0  sex_1  smoking_0  smoking_1  \n",
       " 0                      1.0    0.0    1.0        1.0        0.0  \n",
       " 1                      0.0    0.0    1.0        1.0        0.0  \n",
       " 2                      0.0    0.0    1.0        0.0        1.0  \n",
       " 3                      0.0    0.0    1.0        1.0        0.0  \n",
       " 4                      0.0    1.0    0.0        1.0        0.0  \n",
       " ..                     ...    ...    ...        ...        ...  \n",
       " 294                    1.0    0.0    1.0        0.0        1.0  \n",
       " 295                    0.0    1.0    0.0        1.0        0.0  \n",
       " 296                    0.0    1.0    0.0        1.0        0.0  \n",
       " 297                    0.0    0.0    1.0        0.0        1.0  \n",
       " 298                    0.0    0.0    1.0        0.0        1.0  \n",
       " \n",
       " [299 rows x 30 columns],\n",
       " 0      1\n",
       " 1      1\n",
       " 2      1\n",
       " 3      1\n",
       " 4      1\n",
       "       ..\n",
       " 294    0\n",
       " 295    0\n",
       " 296    0\n",
       " 297    0\n",
       " 298    0\n",
       " Name: DEATH_EVENT, Length: 299, dtype: int32,\n",
       "      creatinine_phosphokinase  platelets  serum_creatinine  serum_sodium  \\\n",
       " 109                     292.0  850000.00              1.30         142.0   \n",
       " 259                      56.0  308000.00              0.70         135.0   \n",
       " 30                      582.0  263358.03              1.83         134.0   \n",
       " 247                     143.0  246000.00              2.40         135.0   \n",
       " 91                      897.0  297000.00              1.00         133.0   \n",
       " ..                        ...        ...               ...           ...   \n",
       " 52                     3964.0  263358.03              6.80         146.0   \n",
       " 226                      57.0  189000.00              1.30         132.0   \n",
       " 68                      161.0  244000.00              1.20         142.0   \n",
       " 56                       75.0  223000.00              2.70         138.0   \n",
       " 60                     7702.0  390000.00              1.00         139.0   \n",
       " \n",
       "       time  anaemia_0  anaemia_1  ejection_fraction_14  ejection_fraction_15  \\\n",
       " 109   88.0        1.0        0.0                   0.0                   0.0   \n",
       " 259  231.0        1.0        0.0                   0.0                   0.0   \n",
       " 30    27.0        1.0        0.0                   0.0                   0.0   \n",
       " 247  214.0        1.0        0.0                   0.0                   0.0   \n",
       " 91    80.0        1.0        0.0                   0.0                   0.0   \n",
       " ..     ...        ...        ...                   ...                   ...   \n",
       " 52    43.0        1.0        0.0                   0.0                   0.0   \n",
       " 226  205.0        0.0        1.0                   0.0                   0.0   \n",
       " 68    66.0        1.0        0.0                   0.0                   0.0   \n",
       " 56    54.0        0.0        1.0                   0.0                   0.0   \n",
       " 60    60.0        1.0        0.0                   0.0                   0.0   \n",
       " \n",
       "      ejection_fraction_17  ...  ejection_fraction_62  ejection_fraction_65  \\\n",
       " 109                   0.0  ...                   0.0                   0.0   \n",
       " 259                   0.0  ...                   0.0                   0.0   \n",
       " 30                    0.0  ...                   0.0                   0.0   \n",
       " 247                   0.0  ...                   0.0                   0.0   \n",
       " 91                    0.0  ...                   0.0                   0.0   \n",
       " ..                    ...  ...                   ...                   ...   \n",
       " 52                    0.0  ...                   1.0                   0.0   \n",
       " 226                   0.0  ...                   0.0                   0.0   \n",
       " 68                    0.0  ...                   0.0                   0.0   \n",
       " 56                    0.0  ...                   0.0                   0.0   \n",
       " 60                    0.0  ...                   0.0                   0.0   \n",
       " \n",
       "      ejection_fraction_70  ejection_fraction_80  high_blood_pressure_0  \\\n",
       " 109                   0.0                   0.0                    1.0   \n",
       " 259                   0.0                   0.0                    1.0   \n",
       " 30                    0.0                   0.0                    0.0   \n",
       " 247                   0.0                   0.0                    1.0   \n",
       " 91                    0.0                   0.0                    1.0   \n",
       " ..                    ...                   ...                    ...   \n",
       " 52                    0.0                   0.0                    1.0   \n",
       " 226                   0.0                   0.0                    1.0   \n",
       " 68                    0.0                   0.0                    1.0   \n",
       " 56                    0.0                   0.0                    1.0   \n",
       " 60                    0.0                   0.0                    0.0   \n",
       " \n",
       "      high_blood_pressure_1  sex_0  sex_1  smoking_0  smoking_1  \n",
       " 109                    0.0    0.0    1.0        0.0        1.0  \n",
       " 259                    0.0    0.0    1.0        0.0        1.0  \n",
       " 30                     1.0    0.0    1.0        1.0        0.0  \n",
       " 247                    0.0    0.0    1.0        1.0        0.0  \n",
       " 91                     0.0    0.0    1.0        1.0        0.0  \n",
       " ..                     ...    ...    ...        ...        ...  \n",
       " 52                     0.0    1.0    0.0        1.0        0.0  \n",
       " 226                    0.0    0.0    1.0        0.0        1.0  \n",
       " 68                     0.0    1.0    0.0        1.0        0.0  \n",
       " 56                     0.0    0.0    1.0        0.0        1.0  \n",
       " 60                     1.0    0.0    1.0        1.0        0.0  \n",
       " \n",
       " [209 rows x 30 columns],\n",
       "      creatinine_phosphokinase  platelets  serum_creatinine  serum_sodium  \\\n",
       " 33                      159.0   302000.0               1.2         138.0   \n",
       " 203                      59.0   212000.0               3.5         136.0   \n",
       " 184                     145.0   219000.0               1.2         137.0   \n",
       " 25                      148.0   149000.0               1.9         144.0   \n",
       " 97                       59.0   255000.0               1.1         136.0   \n",
       " ..                        ...        ...               ...           ...   \n",
       " 155                     231.0   194000.0               1.7         140.0   \n",
       " 45                      582.0   310000.0               1.9         135.0   \n",
       " 173                     115.0   189000.0               0.8         139.0   \n",
       " 96                      514.0   254000.0               1.3         134.0   \n",
       " 6                       246.0   127000.0               1.2         137.0   \n",
       " \n",
       "       time  anaemia_0  anaemia_1  ejection_fraction_14  ejection_fraction_15  \\\n",
       " 33    29.0        0.0        1.0                   0.0                   0.0   \n",
       " 203  187.0        1.0        0.0                   0.0                   0.0   \n",
       " 184  170.0        0.0        1.0                   0.0                   0.0   \n",
       " 25    23.0        1.0        0.0                   0.0                   0.0   \n",
       " 97    85.0        0.0        1.0                   0.0                   0.0   \n",
       " ..     ...        ...        ...                   ...                   ...   \n",
       " 155  120.0        0.0        1.0                   0.0                   0.0   \n",
       " 45    35.0        1.0        0.0                   0.0                   0.0   \n",
       " 173  146.0        0.0        1.0                   0.0                   0.0   \n",
       " 96    83.0        0.0        1.0                   0.0                   0.0   \n",
       " 6     10.0        0.0        1.0                   0.0                   1.0   \n",
       " \n",
       "      ejection_fraction_17  ...  ejection_fraction_62  ejection_fraction_65  \\\n",
       " 33                    0.0  ...                   0.0                   0.0   \n",
       " 203                   0.0  ...                   0.0                   0.0   \n",
       " 184                   0.0  ...                   0.0                   0.0   \n",
       " 25                    0.0  ...                   0.0                   0.0   \n",
       " 97                    0.0  ...                   0.0                   0.0   \n",
       " ..                    ...  ...                   ...                   ...   \n",
       " 155                   0.0  ...                   0.0                   0.0   \n",
       " 45                    0.0  ...                   0.0                   0.0   \n",
       " 173                   0.0  ...                   0.0                   0.0   \n",
       " 96                    0.0  ...                   0.0                   0.0   \n",
       " 6                     0.0  ...                   0.0                   0.0   \n",
       " \n",
       "      ejection_fraction_70  ejection_fraction_80  high_blood_pressure_0  \\\n",
       " 33                    0.0                   0.0                    1.0   \n",
       " 203                   0.0                   0.0                    0.0   \n",
       " 184                   0.0                   0.0                    1.0   \n",
       " 25                    0.0                   0.0                    1.0   \n",
       " 97                    0.0                   0.0                    1.0   \n",
       " ..                    ...                   ...                    ...   \n",
       " 155                   0.0                   0.0                    1.0   \n",
       " 45                    0.0                   0.0                    1.0   \n",
       " 173                   0.0                   0.0                    1.0   \n",
       " 96                    0.0                   0.0                    0.0   \n",
       " 6                     0.0                   0.0                    1.0   \n",
       " \n",
       "      high_blood_pressure_1  sex_0  sex_1  smoking_0  smoking_1  \n",
       " 33                     0.0    1.0    0.0        1.0        0.0  \n",
       " 203                    1.0    0.0    1.0        0.0        1.0  \n",
       " 184                    0.0    0.0    1.0        0.0        1.0  \n",
       " 25                     0.0    0.0    1.0        0.0        1.0  \n",
       " 97                     0.0    1.0    0.0        1.0        0.0  \n",
       " ..                     ...    ...    ...        ...        ...  \n",
       " 155                    0.0    0.0    1.0        1.0        0.0  \n",
       " 45                     0.0    0.0    1.0        0.0        1.0  \n",
       " 173                    0.0    0.0    1.0        1.0        0.0  \n",
       " 96                     1.0    0.0    1.0        1.0        0.0  \n",
       " 6                      0.0    0.0    1.0        1.0        0.0  \n",
       " \n",
       " [90 rows x 30 columns],\n",
       " 109    0\n",
       " 259    0\n",
       " 30     1\n",
       " 247    0\n",
       " 91     0\n",
       "       ..\n",
       " 52     1\n",
       " 226    0\n",
       " 68     1\n",
       " 56     0\n",
       " 60     1\n",
       " Name: DEATH_EVENT, Length: 209, dtype: int32,\n",
       " 33     0\n",
       " 203    0\n",
       " 184    1\n",
       " 25     1\n",
       " 97     0\n",
       "       ..\n",
       " 155    0\n",
       " 45     1\n",
       " 173    0\n",
       " 96     0\n",
       " 6      1\n",
       " Name: DEATH_EVENT, Length: 90, dtype: int32,\n",
       " 5587,\n",
       " Pipeline(memory=None,\n",
       "          steps=[('dtypes',\n",
       "                  DataTypes_Auto_infer(categorical_features=[],\n",
       "                                       display_types=True,\n",
       "                                       features_todrop=['age', 'diabetes'],\n",
       "                                       ml_usecase='classification',\n",
       "                                       numerical_features=[],\n",
       "                                       target='DEATH_EVENT', time_features=[])),\n",
       "                 ('imputer',\n",
       "                  Simple_Imputer(categorical_strategy='not_available',\n",
       "                                 numeric_strategy='mean',\n",
       "                                 target_variable=None)),\n",
       "                 ('new_levels1...\n",
       "                 ('group', Empty()), ('nonliner', Empty()), ('scaling', Empty()),\n",
       "                 ('P_transform', Empty()), ('pt_target', Empty()),\n",
       "                 ('binn', Empty()), ('rem_outliers', Empty()),\n",
       "                 ('cluster_all', Empty()),\n",
       "                 ('dummy', Dummify(target='DEATH_EVENT')),\n",
       "                 ('fix_perfect', Empty()), ('clean_names', Clean_Colum_Names()),\n",
       "                 ('feature_select', Empty()), ('fix_multi', Empty()),\n",
       "                 ('dfs', Empty()), ('pca', Empty())],\n",
       "          verbose=False),\n",
       " [('Classification Setup Config',\n",
       "                         Description       Value\n",
       "   0                      session_id        5587\n",
       "   1                     Target Type      Binary\n",
       "   2                   Label Encoded  0: 0, 1: 1\n",
       "   3                   Original Data   (299, 13)\n",
       "   4                 Missing Values        False\n",
       "   5               Numeric Features            6\n",
       "   6           Categorical Features            6\n",
       "   7               Ordinal Features        False\n",
       "   8      High Cardinality Features        False\n",
       "   9        High Cardinality Method         None\n",
       "   10                   Sampled Data   (299, 13)\n",
       "   11          Transformed Train Set   (209, 30)\n",
       "   12           Transformed Test Set    (90, 30)\n",
       "   13               Numeric Imputer         mean\n",
       "   14           Categorical Imputer     constant\n",
       "   15                     Normalize        False\n",
       "   16              Normalize Method         None\n",
       "   17                Transformation        False\n",
       "   18         Transformation Method         None\n",
       "   19                           PCA        False\n",
       "   20                    PCA Method         None\n",
       "   21                PCA Components         None\n",
       "   22           Ignore Low Variance        False\n",
       "   23           Combine Rare Levels        False\n",
       "   24          Rare Level Threshold         None\n",
       "   25               Numeric Binning        False\n",
       "   26               Remove Outliers        False\n",
       "   27            Outliers Threshold         None\n",
       "   28      Remove Multicollinearity        False\n",
       "   29   Multicollinearity Threshold         None\n",
       "   30                    Clustering        False\n",
       "   31          Clustering Iteration         None\n",
       "   32           Polynomial Features        False\n",
       "   33             Polynomial Degree         None\n",
       "   34          Trignometry Features        False\n",
       "   35          Polynomial Threshold         None\n",
       "   36                Group Features        False\n",
       "   37             Feature Selection        False\n",
       "   38  Features Selection Threshold         None\n",
       "   39           Feature Interaction        False\n",
       "   40                 Feature Ratio        False\n",
       "   41         Interaction Threshold         None\n",
       "   42                  Fix Imbalance       False\n",
       "   43           Fix Imbalance Method       SMOTE),\n",
       "  ('X_training Set',\n",
       "        creatinine_phosphokinase  platelets  serum_creatinine  serum_sodium  \\\n",
       "   109                     292.0  850000.00              1.30         142.0   \n",
       "   259                      56.0  308000.00              0.70         135.0   \n",
       "   30                      582.0  263358.03              1.83         134.0   \n",
       "   247                     143.0  246000.00              2.40         135.0   \n",
       "   91                      897.0  297000.00              1.00         133.0   \n",
       "   ..                        ...        ...               ...           ...   \n",
       "   52                     3964.0  263358.03              6.80         146.0   \n",
       "   226                      57.0  189000.00              1.30         132.0   \n",
       "   68                      161.0  244000.00              1.20         142.0   \n",
       "   56                       75.0  223000.00              2.70         138.0   \n",
       "   60                     7702.0  390000.00              1.00         139.0   \n",
       "   \n",
       "         time  anaemia_0  anaemia_1  ejection_fraction_14  ejection_fraction_15  \\\n",
       "   109   88.0        1.0        0.0                   0.0                   0.0   \n",
       "   259  231.0        1.0        0.0                   0.0                   0.0   \n",
       "   30    27.0        1.0        0.0                   0.0                   0.0   \n",
       "   247  214.0        1.0        0.0                   0.0                   0.0   \n",
       "   91    80.0        1.0        0.0                   0.0                   0.0   \n",
       "   ..     ...        ...        ...                   ...                   ...   \n",
       "   52    43.0        1.0        0.0                   0.0                   0.0   \n",
       "   226  205.0        0.0        1.0                   0.0                   0.0   \n",
       "   68    66.0        1.0        0.0                   0.0                   0.0   \n",
       "   56    54.0        0.0        1.0                   0.0                   0.0   \n",
       "   60    60.0        1.0        0.0                   0.0                   0.0   \n",
       "   \n",
       "        ejection_fraction_17  ...  ejection_fraction_62  ejection_fraction_65  \\\n",
       "   109                   0.0  ...                   0.0                   0.0   \n",
       "   259                   0.0  ...                   0.0                   0.0   \n",
       "   30                    0.0  ...                   0.0                   0.0   \n",
       "   247                   0.0  ...                   0.0                   0.0   \n",
       "   91                    0.0  ...                   0.0                   0.0   \n",
       "   ..                    ...  ...                   ...                   ...   \n",
       "   52                    0.0  ...                   1.0                   0.0   \n",
       "   226                   0.0  ...                   0.0                   0.0   \n",
       "   68                    0.0  ...                   0.0                   0.0   \n",
       "   56                    0.0  ...                   0.0                   0.0   \n",
       "   60                    0.0  ...                   0.0                   0.0   \n",
       "   \n",
       "        ejection_fraction_70  ejection_fraction_80  high_blood_pressure_0  \\\n",
       "   109                   0.0                   0.0                    1.0   \n",
       "   259                   0.0                   0.0                    1.0   \n",
       "   30                    0.0                   0.0                    0.0   \n",
       "   247                   0.0                   0.0                    1.0   \n",
       "   91                    0.0                   0.0                    1.0   \n",
       "   ..                    ...                   ...                    ...   \n",
       "   52                    0.0                   0.0                    1.0   \n",
       "   226                   0.0                   0.0                    1.0   \n",
       "   68                    0.0                   0.0                    1.0   \n",
       "   56                    0.0                   0.0                    1.0   \n",
       "   60                    0.0                   0.0                    0.0   \n",
       "   \n",
       "        high_blood_pressure_1  sex_0  sex_1  smoking_0  smoking_1  \n",
       "   109                    0.0    0.0    1.0        0.0        1.0  \n",
       "   259                    0.0    0.0    1.0        0.0        1.0  \n",
       "   30                     1.0    0.0    1.0        1.0        0.0  \n",
       "   247                    0.0    0.0    1.0        1.0        0.0  \n",
       "   91                     0.0    0.0    1.0        1.0        0.0  \n",
       "   ..                     ...    ...    ...        ...        ...  \n",
       "   52                     0.0    1.0    0.0        1.0        0.0  \n",
       "   226                    0.0    0.0    1.0        0.0        1.0  \n",
       "   68                     0.0    1.0    0.0        1.0        0.0  \n",
       "   56                     0.0    0.0    1.0        0.0        1.0  \n",
       "   60                     1.0    0.0    1.0        1.0        0.0  \n",
       "   \n",
       "   [209 rows x 30 columns]),\n",
       "  ('y_training Set',\n",
       "   109    0\n",
       "   259    0\n",
       "   30     1\n",
       "   247    0\n",
       "   91     0\n",
       "         ..\n",
       "   52     1\n",
       "   226    0\n",
       "   68     1\n",
       "   56     0\n",
       "   60     1\n",
       "   Name: DEATH_EVENT, Length: 209, dtype: int32),\n",
       "  ('X_test Set',\n",
       "        creatinine_phosphokinase  platelets  serum_creatinine  serum_sodium  \\\n",
       "   33                      159.0   302000.0               1.2         138.0   \n",
       "   203                      59.0   212000.0               3.5         136.0   \n",
       "   184                     145.0   219000.0               1.2         137.0   \n",
       "   25                      148.0   149000.0               1.9         144.0   \n",
       "   97                       59.0   255000.0               1.1         136.0   \n",
       "   ..                        ...        ...               ...           ...   \n",
       "   155                     231.0   194000.0               1.7         140.0   \n",
       "   45                      582.0   310000.0               1.9         135.0   \n",
       "   173                     115.0   189000.0               0.8         139.0   \n",
       "   96                      514.0   254000.0               1.3         134.0   \n",
       "   6                       246.0   127000.0               1.2         137.0   \n",
       "   \n",
       "         time  anaemia_0  anaemia_1  ejection_fraction_14  ejection_fraction_15  \\\n",
       "   33    29.0        0.0        1.0                   0.0                   0.0   \n",
       "   203  187.0        1.0        0.0                   0.0                   0.0   \n",
       "   184  170.0        0.0        1.0                   0.0                   0.0   \n",
       "   25    23.0        1.0        0.0                   0.0                   0.0   \n",
       "   97    85.0        0.0        1.0                   0.0                   0.0   \n",
       "   ..     ...        ...        ...                   ...                   ...   \n",
       "   155  120.0        0.0        1.0                   0.0                   0.0   \n",
       "   45    35.0        1.0        0.0                   0.0                   0.0   \n",
       "   173  146.0        0.0        1.0                   0.0                   0.0   \n",
       "   96    83.0        0.0        1.0                   0.0                   0.0   \n",
       "   6     10.0        0.0        1.0                   0.0                   1.0   \n",
       "   \n",
       "        ejection_fraction_17  ...  ejection_fraction_62  ejection_fraction_65  \\\n",
       "   33                    0.0  ...                   0.0                   0.0   \n",
       "   203                   0.0  ...                   0.0                   0.0   \n",
       "   184                   0.0  ...                   0.0                   0.0   \n",
       "   25                    0.0  ...                   0.0                   0.0   \n",
       "   97                    0.0  ...                   0.0                   0.0   \n",
       "   ..                    ...  ...                   ...                   ...   \n",
       "   155                   0.0  ...                   0.0                   0.0   \n",
       "   45                    0.0  ...                   0.0                   0.0   \n",
       "   173                   0.0  ...                   0.0                   0.0   \n",
       "   96                    0.0  ...                   0.0                   0.0   \n",
       "   6                     0.0  ...                   0.0                   0.0   \n",
       "   \n",
       "        ejection_fraction_70  ejection_fraction_80  high_blood_pressure_0  \\\n",
       "   33                    0.0                   0.0                    1.0   \n",
       "   203                   0.0                   0.0                    0.0   \n",
       "   184                   0.0                   0.0                    1.0   \n",
       "   25                    0.0                   0.0                    1.0   \n",
       "   97                    0.0                   0.0                    1.0   \n",
       "   ..                    ...                   ...                    ...   \n",
       "   155                   0.0                   0.0                    1.0   \n",
       "   45                    0.0                   0.0                    1.0   \n",
       "   173                   0.0                   0.0                    1.0   \n",
       "   96                    0.0                   0.0                    0.0   \n",
       "   6                     0.0                   0.0                    1.0   \n",
       "   \n",
       "        high_blood_pressure_1  sex_0  sex_1  smoking_0  smoking_1  \n",
       "   33                     0.0    1.0    0.0        1.0        0.0  \n",
       "   203                    1.0    0.0    1.0        0.0        1.0  \n",
       "   184                    0.0    0.0    1.0        0.0        1.0  \n",
       "   25                     0.0    0.0    1.0        0.0        1.0  \n",
       "   97                     0.0    1.0    0.0        1.0        0.0  \n",
       "   ..                     ...    ...    ...        ...        ...  \n",
       "   155                    0.0    0.0    1.0        1.0        0.0  \n",
       "   45                     0.0    0.0    1.0        0.0        1.0  \n",
       "   173                    0.0    0.0    1.0        1.0        0.0  \n",
       "   96                     1.0    0.0    1.0        1.0        0.0  \n",
       "   6                      0.0    0.0    1.0        1.0        0.0  \n",
       "   \n",
       "   [90 rows x 30 columns]),\n",
       "  ('y_test Set',\n",
       "   33     0\n",
       "   203    0\n",
       "   184    1\n",
       "   25     1\n",
       "   97     0\n",
       "         ..\n",
       "   155    0\n",
       "   45     1\n",
       "   173    0\n",
       "   96     0\n",
       "   6      1\n",
       "   Name: DEATH_EVENT, Length: 90, dtype: int32),\n",
       "  ('Transformation Pipeline',\n",
       "   Pipeline(memory=None,\n",
       "            steps=[('dtypes',\n",
       "                    DataTypes_Auto_infer(categorical_features=[],\n",
       "                                         display_types=True,\n",
       "                                         features_todrop=['age', 'diabetes'],\n",
       "                                         ml_usecase='classification',\n",
       "                                         numerical_features=[],\n",
       "                                         target='DEATH_EVENT', time_features=[])),\n",
       "                   ('imputer',\n",
       "                    Simple_Imputer(categorical_strategy='not_available',\n",
       "                                   numeric_strategy='mean',\n",
       "                                   target_variable=None)),\n",
       "                   ('new_levels1...\n",
       "                   ('group', Empty()), ('nonliner', Empty()), ('scaling', Empty()),\n",
       "                   ('P_transform', Empty()), ('pt_target', Empty()),\n",
       "                   ('binn', Empty()), ('rem_outliers', Empty()),\n",
       "                   ('cluster_all', Empty()),\n",
       "                   ('dummy', Dummify(target='DEATH_EVENT')),\n",
       "                   ('fix_perfect', Empty()), ('clean_names', Clean_Colum_Names()),\n",
       "                   ('feature_select', Empty()), ('fix_multi', Empty()),\n",
       "                   ('dfs', Empty()), ('pca', Empty())],\n",
       "            verbose=False))],\n",
       " False,\n",
       " -1,\n",
       " True,\n",
       " [],\n",
       " [],\n",
       " [],\n",
       " 'no_logging',\n",
       " False,\n",
       " False,\n",
       " '04fb',\n",
       " False,\n",
       " None,\n",
       " <Logger logs (DEBUG)>,\n",
       "       age  anaemia  creatinine_phosphokinase  diabetes  ejection_fraction  \\\n",
       " 0    75.0        0                       582         0                 20   \n",
       " 1    55.0        0                      7861         0                 38   \n",
       " 2    65.0        0                       146         0                 20   \n",
       " 3    50.0        1                       111         0                 20   \n",
       " 4    65.0        1                       160         1                 20   \n",
       " ..    ...      ...                       ...       ...                ...   \n",
       " 294  62.0        0                        61         1                 38   \n",
       " 295  55.0        0                      1820         0                 38   \n",
       " 296  45.0        0                      2060         1                 60   \n",
       " 297  45.0        0                      2413         0                 38   \n",
       " 298  50.0        0                       196         0                 45   \n",
       " \n",
       "      high_blood_pressure  platelets  serum_creatinine  serum_sodium  sex  \\\n",
       " 0                      1  265000.00               1.9           130    1   \n",
       " 1                      0  263358.03               1.1           136    1   \n",
       " 2                      0  162000.00               1.3           129    1   \n",
       " 3                      0  210000.00               1.9           137    1   \n",
       " 4                      0  327000.00               2.7           116    0   \n",
       " ..                   ...        ...               ...           ...  ...   \n",
       " 294                    1  155000.00               1.1           143    1   \n",
       " 295                    0  270000.00               1.2           139    0   \n",
       " 296                    0  742000.00               0.8           138    0   \n",
       " 297                    0  140000.00               1.4           140    1   \n",
       " 298                    0  395000.00               1.6           136    1   \n",
       " \n",
       "      smoking  time  DEATH_EVENT  \n",
       " 0          0     4            1  \n",
       " 1          0     6            1  \n",
       " 2          1     7            1  \n",
       " 3          0     7            1  \n",
       " 4          0     8            1  \n",
       " ..       ...   ...          ...  \n",
       " 294        1   270            0  \n",
       " 295        0   271            0  \n",
       " 296        0   278            0  \n",
       " 297        1   280            0  \n",
       " 298        1   285            0  \n",
       " \n",
       " [299 rows x 13 columns],\n",
       " 'DEATH_EVENT',\n",
       " False)"
      ]
     },
     "execution_count": 39,
     "metadata": {},
     "output_type": "execute_result"
    }
   ],
   "source": [
    "# Ignore A Column\n",
    "pc.setup(data=data,target='DEATH_EVENT',ignore_features=['age','diabetes'])"
   ]
  },
  {
   "cell_type": "markdown",
   "metadata": {},
   "source": [
    "Compare Multiple Models and their Accuracy Metrics\n",
    "\n",
    "1.Similar to Classification Report,AUC,F1 Score\n",
    "\n",
    "2.For Classification Problems\n",
    "\n",
    "a)Classification report\n",
    "b)AUC,Recall,Precision,F1 score, Kappa\n",
    "\n",
    "\n",
    "3.For Regression Problems\n",
    "\n",
    "a)MAE, MSE, RMSE, R2, RMSLE and MAPE"
   ]
  },
  {
   "cell_type": "code",
   "execution_count": 40,
   "metadata": {},
   "outputs": [
    {
     "data": {
      "text/html": [
       "<style  type=\"text/css\" >\n",
       "    #T_0d0a0f28_f013_11ea_97e7_7cd30a80f0bf th {\n",
       "          text-align: left;\n",
       "    }#T_0d0a0f28_f013_11ea_97e7_7cd30a80f0bfrow0_col0,#T_0d0a0f28_f013_11ea_97e7_7cd30a80f0bfrow0_col3,#T_0d0a0f28_f013_11ea_97e7_7cd30a80f0bfrow0_col4,#T_0d0a0f28_f013_11ea_97e7_7cd30a80f0bfrow0_col5,#T_0d0a0f28_f013_11ea_97e7_7cd30a80f0bfrow1_col0,#T_0d0a0f28_f013_11ea_97e7_7cd30a80f0bfrow1_col1,#T_0d0a0f28_f013_11ea_97e7_7cd30a80f0bfrow1_col2,#T_0d0a0f28_f013_11ea_97e7_7cd30a80f0bfrow1_col3,#T_0d0a0f28_f013_11ea_97e7_7cd30a80f0bfrow1_col4,#T_0d0a0f28_f013_11ea_97e7_7cd30a80f0bfrow1_col5,#T_0d0a0f28_f013_11ea_97e7_7cd30a80f0bfrow1_col6,#T_0d0a0f28_f013_11ea_97e7_7cd30a80f0bfrow1_col7,#T_0d0a0f28_f013_11ea_97e7_7cd30a80f0bfrow2_col0,#T_0d0a0f28_f013_11ea_97e7_7cd30a80f0bfrow2_col1,#T_0d0a0f28_f013_11ea_97e7_7cd30a80f0bfrow2_col2,#T_0d0a0f28_f013_11ea_97e7_7cd30a80f0bfrow2_col3,#T_0d0a0f28_f013_11ea_97e7_7cd30a80f0bfrow2_col4,#T_0d0a0f28_f013_11ea_97e7_7cd30a80f0bfrow2_col5,#T_0d0a0f28_f013_11ea_97e7_7cd30a80f0bfrow2_col6,#T_0d0a0f28_f013_11ea_97e7_7cd30a80f0bfrow2_col7,#T_0d0a0f28_f013_11ea_97e7_7cd30a80f0bfrow3_col0,#T_0d0a0f28_f013_11ea_97e7_7cd30a80f0bfrow3_col1,#T_0d0a0f28_f013_11ea_97e7_7cd30a80f0bfrow3_col2,#T_0d0a0f28_f013_11ea_97e7_7cd30a80f0bfrow3_col3,#T_0d0a0f28_f013_11ea_97e7_7cd30a80f0bfrow3_col4,#T_0d0a0f28_f013_11ea_97e7_7cd30a80f0bfrow3_col5,#T_0d0a0f28_f013_11ea_97e7_7cd30a80f0bfrow3_col6,#T_0d0a0f28_f013_11ea_97e7_7cd30a80f0bfrow3_col7,#T_0d0a0f28_f013_11ea_97e7_7cd30a80f0bfrow4_col0,#T_0d0a0f28_f013_11ea_97e7_7cd30a80f0bfrow4_col1,#T_0d0a0f28_f013_11ea_97e7_7cd30a80f0bfrow4_col2,#T_0d0a0f28_f013_11ea_97e7_7cd30a80f0bfrow4_col3,#T_0d0a0f28_f013_11ea_97e7_7cd30a80f0bfrow4_col4,#T_0d0a0f28_f013_11ea_97e7_7cd30a80f0bfrow4_col5,#T_0d0a0f28_f013_11ea_97e7_7cd30a80f0bfrow4_col6,#T_0d0a0f28_f013_11ea_97e7_7cd30a80f0bfrow4_col7,#T_0d0a0f28_f013_11ea_97e7_7cd30a80f0bfrow5_col0,#T_0d0a0f28_f013_11ea_97e7_7cd30a80f0bfrow5_col1,#T_0d0a0f28_f013_11ea_97e7_7cd30a80f0bfrow5_col2,#T_0d0a0f28_f013_11ea_97e7_7cd30a80f0bfrow5_col4,#T_0d0a0f28_f013_11ea_97e7_7cd30a80f0bfrow5_col6,#T_0d0a0f28_f013_11ea_97e7_7cd30a80f0bfrow5_col7,#T_0d0a0f28_f013_11ea_97e7_7cd30a80f0bfrow6_col0,#T_0d0a0f28_f013_11ea_97e7_7cd30a80f0bfrow6_col1,#T_0d0a0f28_f013_11ea_97e7_7cd30a80f0bfrow6_col2,#T_0d0a0f28_f013_11ea_97e7_7cd30a80f0bfrow6_col3,#T_0d0a0f28_f013_11ea_97e7_7cd30a80f0bfrow6_col4,#T_0d0a0f28_f013_11ea_97e7_7cd30a80f0bfrow6_col5,#T_0d0a0f28_f013_11ea_97e7_7cd30a80f0bfrow6_col6,#T_0d0a0f28_f013_11ea_97e7_7cd30a80f0bfrow6_col7,#T_0d0a0f28_f013_11ea_97e7_7cd30a80f0bfrow7_col0,#T_0d0a0f28_f013_11ea_97e7_7cd30a80f0bfrow7_col1,#T_0d0a0f28_f013_11ea_97e7_7cd30a80f0bfrow7_col2,#T_0d0a0f28_f013_11ea_97e7_7cd30a80f0bfrow7_col3,#T_0d0a0f28_f013_11ea_97e7_7cd30a80f0bfrow7_col5,#T_0d0a0f28_f013_11ea_97e7_7cd30a80f0bfrow7_col6,#T_0d0a0f28_f013_11ea_97e7_7cd30a80f0bfrow7_col7,#T_0d0a0f28_f013_11ea_97e7_7cd30a80f0bfrow8_col0,#T_0d0a0f28_f013_11ea_97e7_7cd30a80f0bfrow8_col1,#T_0d0a0f28_f013_11ea_97e7_7cd30a80f0bfrow8_col2,#T_0d0a0f28_f013_11ea_97e7_7cd30a80f0bfrow8_col3,#T_0d0a0f28_f013_11ea_97e7_7cd30a80f0bfrow8_col4,#T_0d0a0f28_f013_11ea_97e7_7cd30a80f0bfrow8_col5,#T_0d0a0f28_f013_11ea_97e7_7cd30a80f0bfrow8_col6,#T_0d0a0f28_f013_11ea_97e7_7cd30a80f0bfrow8_col7,#T_0d0a0f28_f013_11ea_97e7_7cd30a80f0bfrow9_col0,#T_0d0a0f28_f013_11ea_97e7_7cd30a80f0bfrow9_col1,#T_0d0a0f28_f013_11ea_97e7_7cd30a80f0bfrow9_col2,#T_0d0a0f28_f013_11ea_97e7_7cd30a80f0bfrow9_col3,#T_0d0a0f28_f013_11ea_97e7_7cd30a80f0bfrow9_col4,#T_0d0a0f28_f013_11ea_97e7_7cd30a80f0bfrow9_col5,#T_0d0a0f28_f013_11ea_97e7_7cd30a80f0bfrow9_col6,#T_0d0a0f28_f013_11ea_97e7_7cd30a80f0bfrow9_col7,#T_0d0a0f28_f013_11ea_97e7_7cd30a80f0bfrow10_col0,#T_0d0a0f28_f013_11ea_97e7_7cd30a80f0bfrow10_col1,#T_0d0a0f28_f013_11ea_97e7_7cd30a80f0bfrow10_col2,#T_0d0a0f28_f013_11ea_97e7_7cd30a80f0bfrow10_col3,#T_0d0a0f28_f013_11ea_97e7_7cd30a80f0bfrow10_col4,#T_0d0a0f28_f013_11ea_97e7_7cd30a80f0bfrow10_col5,#T_0d0a0f28_f013_11ea_97e7_7cd30a80f0bfrow10_col6,#T_0d0a0f28_f013_11ea_97e7_7cd30a80f0bfrow10_col7,#T_0d0a0f28_f013_11ea_97e7_7cd30a80f0bfrow11_col0,#T_0d0a0f28_f013_11ea_97e7_7cd30a80f0bfrow11_col1,#T_0d0a0f28_f013_11ea_97e7_7cd30a80f0bfrow11_col2,#T_0d0a0f28_f013_11ea_97e7_7cd30a80f0bfrow11_col3,#T_0d0a0f28_f013_11ea_97e7_7cd30a80f0bfrow11_col4,#T_0d0a0f28_f013_11ea_97e7_7cd30a80f0bfrow11_col5,#T_0d0a0f28_f013_11ea_97e7_7cd30a80f0bfrow11_col6,#T_0d0a0f28_f013_11ea_97e7_7cd30a80f0bfrow11_col7,#T_0d0a0f28_f013_11ea_97e7_7cd30a80f0bfrow12_col0,#T_0d0a0f28_f013_11ea_97e7_7cd30a80f0bfrow12_col1,#T_0d0a0f28_f013_11ea_97e7_7cd30a80f0bfrow12_col2,#T_0d0a0f28_f013_11ea_97e7_7cd30a80f0bfrow12_col3,#T_0d0a0f28_f013_11ea_97e7_7cd30a80f0bfrow12_col4,#T_0d0a0f28_f013_11ea_97e7_7cd30a80f0bfrow12_col5,#T_0d0a0f28_f013_11ea_97e7_7cd30a80f0bfrow12_col6,#T_0d0a0f28_f013_11ea_97e7_7cd30a80f0bfrow12_col7,#T_0d0a0f28_f013_11ea_97e7_7cd30a80f0bfrow13_col0,#T_0d0a0f28_f013_11ea_97e7_7cd30a80f0bfrow13_col1,#T_0d0a0f28_f013_11ea_97e7_7cd30a80f0bfrow13_col2,#T_0d0a0f28_f013_11ea_97e7_7cd30a80f0bfrow13_col3,#T_0d0a0f28_f013_11ea_97e7_7cd30a80f0bfrow13_col4,#T_0d0a0f28_f013_11ea_97e7_7cd30a80f0bfrow13_col5,#T_0d0a0f28_f013_11ea_97e7_7cd30a80f0bfrow13_col6,#T_0d0a0f28_f013_11ea_97e7_7cd30a80f0bfrow13_col7,#T_0d0a0f28_f013_11ea_97e7_7cd30a80f0bfrow14_col0,#T_0d0a0f28_f013_11ea_97e7_7cd30a80f0bfrow14_col1,#T_0d0a0f28_f013_11ea_97e7_7cd30a80f0bfrow14_col2,#T_0d0a0f28_f013_11ea_97e7_7cd30a80f0bfrow14_col3,#T_0d0a0f28_f013_11ea_97e7_7cd30a80f0bfrow14_col4,#T_0d0a0f28_f013_11ea_97e7_7cd30a80f0bfrow14_col5,#T_0d0a0f28_f013_11ea_97e7_7cd30a80f0bfrow14_col6,#T_0d0a0f28_f013_11ea_97e7_7cd30a80f0bfrow14_col7{\n",
       "            text-align:  left;\n",
       "        }#T_0d0a0f28_f013_11ea_97e7_7cd30a80f0bfrow0_col1,#T_0d0a0f28_f013_11ea_97e7_7cd30a80f0bfrow0_col2,#T_0d0a0f28_f013_11ea_97e7_7cd30a80f0bfrow0_col6,#T_0d0a0f28_f013_11ea_97e7_7cd30a80f0bfrow0_col7,#T_0d0a0f28_f013_11ea_97e7_7cd30a80f0bfrow5_col3,#T_0d0a0f28_f013_11ea_97e7_7cd30a80f0bfrow5_col5,#T_0d0a0f28_f013_11ea_97e7_7cd30a80f0bfrow7_col4{\n",
       "            background-color:  yellow;\n",
       "            text-align:  left;\n",
       "        }#T_0d0a0f28_f013_11ea_97e7_7cd30a80f0bfrow0_col8,#T_0d0a0f28_f013_11ea_97e7_7cd30a80f0bfrow1_col8,#T_0d0a0f28_f013_11ea_97e7_7cd30a80f0bfrow2_col8,#T_0d0a0f28_f013_11ea_97e7_7cd30a80f0bfrow3_col8,#T_0d0a0f28_f013_11ea_97e7_7cd30a80f0bfrow4_col8,#T_0d0a0f28_f013_11ea_97e7_7cd30a80f0bfrow5_col8,#T_0d0a0f28_f013_11ea_97e7_7cd30a80f0bfrow6_col8,#T_0d0a0f28_f013_11ea_97e7_7cd30a80f0bfrow7_col8,#T_0d0a0f28_f013_11ea_97e7_7cd30a80f0bfrow8_col8,#T_0d0a0f28_f013_11ea_97e7_7cd30a80f0bfrow9_col8,#T_0d0a0f28_f013_11ea_97e7_7cd30a80f0bfrow10_col8,#T_0d0a0f28_f013_11ea_97e7_7cd30a80f0bfrow11_col8,#T_0d0a0f28_f013_11ea_97e7_7cd30a80f0bfrow12_col8,#T_0d0a0f28_f013_11ea_97e7_7cd30a80f0bfrow13_col8,#T_0d0a0f28_f013_11ea_97e7_7cd30a80f0bfrow14_col8{\n",
       "            background-color:  lightgrey;\n",
       "            text-align:  left;\n",
       "        }</style><table id=\"T_0d0a0f28_f013_11ea_97e7_7cd30a80f0bf\" ><thead>    <tr>        <th class=\"blank level0\" ></th>        <th class=\"col_heading level0 col0\" >Model</th>        <th class=\"col_heading level0 col1\" >Accuracy</th>        <th class=\"col_heading level0 col2\" >AUC</th>        <th class=\"col_heading level0 col3\" >Recall</th>        <th class=\"col_heading level0 col4\" >Prec.</th>        <th class=\"col_heading level0 col5\" >F1</th>        <th class=\"col_heading level0 col6\" >Kappa</th>        <th class=\"col_heading level0 col7\" >MCC</th>        <th class=\"col_heading level0 col8\" >TT (Sec)</th>    </tr></thead><tbody>\n",
       "                <tr>\n",
       "                        <th id=\"T_0d0a0f28_f013_11ea_97e7_7cd30a80f0bflevel0_row0\" class=\"row_heading level0 row0\" >0</th>\n",
       "                        <td id=\"T_0d0a0f28_f013_11ea_97e7_7cd30a80f0bfrow0_col0\" class=\"data row0 col0\" >CatBoost Classifier</td>\n",
       "                        <td id=\"T_0d0a0f28_f013_11ea_97e7_7cd30a80f0bfrow0_col1\" class=\"data row0 col1\" >0.8274</td>\n",
       "                        <td id=\"T_0d0a0f28_f013_11ea_97e7_7cd30a80f0bfrow0_col2\" class=\"data row0 col2\" >0.8835</td>\n",
       "                        <td id=\"T_0d0a0f28_f013_11ea_97e7_7cd30a80f0bfrow0_col3\" class=\"data row0 col3\" >0.6381</td>\n",
       "                        <td id=\"T_0d0a0f28_f013_11ea_97e7_7cd30a80f0bfrow0_col4\" class=\"data row0 col4\" >0.7943</td>\n",
       "                        <td id=\"T_0d0a0f28_f013_11ea_97e7_7cd30a80f0bfrow0_col5\" class=\"data row0 col5\" >0.6918</td>\n",
       "                        <td id=\"T_0d0a0f28_f013_11ea_97e7_7cd30a80f0bfrow0_col6\" class=\"data row0 col6\" >0.5771</td>\n",
       "                        <td id=\"T_0d0a0f28_f013_11ea_97e7_7cd30a80f0bfrow0_col7\" class=\"data row0 col7\" >0.5919</td>\n",
       "                        <td id=\"T_0d0a0f28_f013_11ea_97e7_7cd30a80f0bfrow0_col8\" class=\"data row0 col8\" >5.4458</td>\n",
       "            </tr>\n",
       "            <tr>\n",
       "                        <th id=\"T_0d0a0f28_f013_11ea_97e7_7cd30a80f0bflevel0_row1\" class=\"row_heading level0 row1\" >1</th>\n",
       "                        <td id=\"T_0d0a0f28_f013_11ea_97e7_7cd30a80f0bfrow1_col0\" class=\"data row1 col0\" >Logistic Regression</td>\n",
       "                        <td id=\"T_0d0a0f28_f013_11ea_97e7_7cd30a80f0bfrow1_col1\" class=\"data row1 col1\" >0.8090</td>\n",
       "                        <td id=\"T_0d0a0f28_f013_11ea_97e7_7cd30a80f0bfrow1_col2\" class=\"data row1 col2\" >0.8099</td>\n",
       "                        <td id=\"T_0d0a0f28_f013_11ea_97e7_7cd30a80f0bfrow1_col3\" class=\"data row1 col3\" >0.5976</td>\n",
       "                        <td id=\"T_0d0a0f28_f013_11ea_97e7_7cd30a80f0bfrow1_col4\" class=\"data row1 col4\" >0.7564</td>\n",
       "                        <td id=\"T_0d0a0f28_f013_11ea_97e7_7cd30a80f0bfrow1_col5\" class=\"data row1 col5\" >0.6560</td>\n",
       "                        <td id=\"T_0d0a0f28_f013_11ea_97e7_7cd30a80f0bfrow1_col6\" class=\"data row1 col6\" >0.5301</td>\n",
       "                        <td id=\"T_0d0a0f28_f013_11ea_97e7_7cd30a80f0bfrow1_col7\" class=\"data row1 col7\" >0.5440</td>\n",
       "                        <td id=\"T_0d0a0f28_f013_11ea_97e7_7cd30a80f0bfrow1_col8\" class=\"data row1 col8\" >0.0176</td>\n",
       "            </tr>\n",
       "            <tr>\n",
       "                        <th id=\"T_0d0a0f28_f013_11ea_97e7_7cd30a80f0bflevel0_row2\" class=\"row_heading level0 row2\" >2</th>\n",
       "                        <td id=\"T_0d0a0f28_f013_11ea_97e7_7cd30a80f0bfrow2_col0\" class=\"data row2 col0\" >Extreme Gradient Boosting</td>\n",
       "                        <td id=\"T_0d0a0f28_f013_11ea_97e7_7cd30a80f0bfrow2_col1\" class=\"data row2 col1\" >0.8088</td>\n",
       "                        <td id=\"T_0d0a0f28_f013_11ea_97e7_7cd30a80f0bfrow2_col2\" class=\"data row2 col2\" >0.8751</td>\n",
       "                        <td id=\"T_0d0a0f28_f013_11ea_97e7_7cd30a80f0bfrow2_col3\" class=\"data row2 col3\" >0.7071</td>\n",
       "                        <td id=\"T_0d0a0f28_f013_11ea_97e7_7cd30a80f0bfrow2_col4\" class=\"data row2 col4\" >0.7119</td>\n",
       "                        <td id=\"T_0d0a0f28_f013_11ea_97e7_7cd30a80f0bfrow2_col5\" class=\"data row2 col5\" >0.6951</td>\n",
       "                        <td id=\"T_0d0a0f28_f013_11ea_97e7_7cd30a80f0bfrow2_col6\" class=\"data row2 col6\" >0.5594</td>\n",
       "                        <td id=\"T_0d0a0f28_f013_11ea_97e7_7cd30a80f0bfrow2_col7\" class=\"data row2 col7\" >0.5698</td>\n",
       "                        <td id=\"T_0d0a0f28_f013_11ea_97e7_7cd30a80f0bfrow2_col8\" class=\"data row2 col8\" >0.1047</td>\n",
       "            </tr>\n",
       "            <tr>\n",
       "                        <th id=\"T_0d0a0f28_f013_11ea_97e7_7cd30a80f0bflevel0_row3\" class=\"row_heading level0 row3\" >3</th>\n",
       "                        <td id=\"T_0d0a0f28_f013_11ea_97e7_7cd30a80f0bfrow3_col0\" class=\"data row3 col0\" >Ada Boost Classifier</td>\n",
       "                        <td id=\"T_0d0a0f28_f013_11ea_97e7_7cd30a80f0bfrow3_col1\" class=\"data row3 col1\" >0.8086</td>\n",
       "                        <td id=\"T_0d0a0f28_f013_11ea_97e7_7cd30a80f0bfrow3_col2\" class=\"data row3 col2\" >0.8242</td>\n",
       "                        <td id=\"T_0d0a0f28_f013_11ea_97e7_7cd30a80f0bfrow3_col3\" class=\"data row3 col3\" >0.6429</td>\n",
       "                        <td id=\"T_0d0a0f28_f013_11ea_97e7_7cd30a80f0bfrow3_col4\" class=\"data row3 col4\" >0.7452</td>\n",
       "                        <td id=\"T_0d0a0f28_f013_11ea_97e7_7cd30a80f0bfrow3_col5\" class=\"data row3 col5\" >0.6712</td>\n",
       "                        <td id=\"T_0d0a0f28_f013_11ea_97e7_7cd30a80f0bfrow3_col6\" class=\"data row3 col6\" >0.5416</td>\n",
       "                        <td id=\"T_0d0a0f28_f013_11ea_97e7_7cd30a80f0bfrow3_col7\" class=\"data row3 col7\" >0.5566</td>\n",
       "                        <td id=\"T_0d0a0f28_f013_11ea_97e7_7cd30a80f0bfrow3_col8\" class=\"data row3 col8\" >0.0924</td>\n",
       "            </tr>\n",
       "            <tr>\n",
       "                        <th id=\"T_0d0a0f28_f013_11ea_97e7_7cd30a80f0bflevel0_row4\" class=\"row_heading level0 row4\" >4</th>\n",
       "                        <td id=\"T_0d0a0f28_f013_11ea_97e7_7cd30a80f0bfrow4_col0\" class=\"data row4 col0\" >Gradient Boosting Classifier</td>\n",
       "                        <td id=\"T_0d0a0f28_f013_11ea_97e7_7cd30a80f0bfrow4_col1\" class=\"data row4 col1\" >0.8086</td>\n",
       "                        <td id=\"T_0d0a0f28_f013_11ea_97e7_7cd30a80f0bfrow4_col2\" class=\"data row4 col2\" >0.8590</td>\n",
       "                        <td id=\"T_0d0a0f28_f013_11ea_97e7_7cd30a80f0bfrow4_col3\" class=\"data row4 col3\" >0.5976</td>\n",
       "                        <td id=\"T_0d0a0f28_f013_11ea_97e7_7cd30a80f0bfrow4_col4\" class=\"data row4 col4\" >0.7583</td>\n",
       "                        <td id=\"T_0d0a0f28_f013_11ea_97e7_7cd30a80f0bfrow4_col5\" class=\"data row4 col5\" >0.6592</td>\n",
       "                        <td id=\"T_0d0a0f28_f013_11ea_97e7_7cd30a80f0bfrow4_col6\" class=\"data row4 col6\" >0.5311</td>\n",
       "                        <td id=\"T_0d0a0f28_f013_11ea_97e7_7cd30a80f0bfrow4_col7\" class=\"data row4 col7\" >0.5437</td>\n",
       "                        <td id=\"T_0d0a0f28_f013_11ea_97e7_7cd30a80f0bfrow4_col8\" class=\"data row4 col8\" >0.0862</td>\n",
       "            </tr>\n",
       "            <tr>\n",
       "                        <th id=\"T_0d0a0f28_f013_11ea_97e7_7cd30a80f0bflevel0_row5\" class=\"row_heading level0 row5\" >5</th>\n",
       "                        <td id=\"T_0d0a0f28_f013_11ea_97e7_7cd30a80f0bfrow5_col0\" class=\"data row5 col0\" >Light Gradient Boosting Machine</td>\n",
       "                        <td id=\"T_0d0a0f28_f013_11ea_97e7_7cd30a80f0bfrow5_col1\" class=\"data row5 col1\" >0.8086</td>\n",
       "                        <td id=\"T_0d0a0f28_f013_11ea_97e7_7cd30a80f0bfrow5_col2\" class=\"data row5 col2\" >0.8672</td>\n",
       "                        <td id=\"T_0d0a0f28_f013_11ea_97e7_7cd30a80f0bfrow5_col3\" class=\"data row5 col3\" >0.7190</td>\n",
       "                        <td id=\"T_0d0a0f28_f013_11ea_97e7_7cd30a80f0bfrow5_col4\" class=\"data row5 col4\" >0.7250</td>\n",
       "                        <td id=\"T_0d0a0f28_f013_11ea_97e7_7cd30a80f0bfrow5_col5\" class=\"data row5 col5\" >0.6971</td>\n",
       "                        <td id=\"T_0d0a0f28_f013_11ea_97e7_7cd30a80f0bfrow5_col6\" class=\"data row5 col6\" >0.5621</td>\n",
       "                        <td id=\"T_0d0a0f28_f013_11ea_97e7_7cd30a80f0bfrow5_col7\" class=\"data row5 col7\" >0.5778</td>\n",
       "                        <td id=\"T_0d0a0f28_f013_11ea_97e7_7cd30a80f0bfrow5_col8\" class=\"data row5 col8\" >0.0275</td>\n",
       "            </tr>\n",
       "            <tr>\n",
       "                        <th id=\"T_0d0a0f28_f013_11ea_97e7_7cd30a80f0bflevel0_row6\" class=\"row_heading level0 row6\" >6</th>\n",
       "                        <td id=\"T_0d0a0f28_f013_11ea_97e7_7cd30a80f0bfrow6_col0\" class=\"data row6 col0\" >Ridge Classifier</td>\n",
       "                        <td id=\"T_0d0a0f28_f013_11ea_97e7_7cd30a80f0bfrow6_col1\" class=\"data row6 col1\" >0.7995</td>\n",
       "                        <td id=\"T_0d0a0f28_f013_11ea_97e7_7cd30a80f0bfrow6_col2\" class=\"data row6 col2\" >0.0000</td>\n",
       "                        <td id=\"T_0d0a0f28_f013_11ea_97e7_7cd30a80f0bfrow6_col3\" class=\"data row6 col3\" >0.5881</td>\n",
       "                        <td id=\"T_0d0a0f28_f013_11ea_97e7_7cd30a80f0bfrow6_col4\" class=\"data row6 col4\" >0.7317</td>\n",
       "                        <td id=\"T_0d0a0f28_f013_11ea_97e7_7cd30a80f0bfrow6_col5\" class=\"data row6 col5\" >0.6414</td>\n",
       "                        <td id=\"T_0d0a0f28_f013_11ea_97e7_7cd30a80f0bfrow6_col6\" class=\"data row6 col6\" >0.5084</td>\n",
       "                        <td id=\"T_0d0a0f28_f013_11ea_97e7_7cd30a80f0bfrow6_col7\" class=\"data row6 col7\" >0.5210</td>\n",
       "                        <td id=\"T_0d0a0f28_f013_11ea_97e7_7cd30a80f0bfrow6_col8\" class=\"data row6 col8\" >0.0049</td>\n",
       "            </tr>\n",
       "            <tr>\n",
       "                        <th id=\"T_0d0a0f28_f013_11ea_97e7_7cd30a80f0bflevel0_row7\" class=\"row_heading level0 row7\" >7</th>\n",
       "                        <td id=\"T_0d0a0f28_f013_11ea_97e7_7cd30a80f0bfrow7_col0\" class=\"data row7 col0\" >Random Forest Classifier</td>\n",
       "                        <td id=\"T_0d0a0f28_f013_11ea_97e7_7cd30a80f0bfrow7_col1\" class=\"data row7 col1\" >0.7993</td>\n",
       "                        <td id=\"T_0d0a0f28_f013_11ea_97e7_7cd30a80f0bfrow7_col2\" class=\"data row7 col2\" >0.8522</td>\n",
       "                        <td id=\"T_0d0a0f28_f013_11ea_97e7_7cd30a80f0bfrow7_col3\" class=\"data row7 col3\" >0.5262</td>\n",
       "                        <td id=\"T_0d0a0f28_f013_11ea_97e7_7cd30a80f0bfrow7_col4\" class=\"data row7 col4\" >0.8050</td>\n",
       "                        <td id=\"T_0d0a0f28_f013_11ea_97e7_7cd30a80f0bfrow7_col5\" class=\"data row7 col5\" >0.6150</td>\n",
       "                        <td id=\"T_0d0a0f28_f013_11ea_97e7_7cd30a80f0bfrow7_col6\" class=\"data row7 col6\" >0.4929</td>\n",
       "                        <td id=\"T_0d0a0f28_f013_11ea_97e7_7cd30a80f0bfrow7_col7\" class=\"data row7 col7\" >0.5245</td>\n",
       "                        <td id=\"T_0d0a0f28_f013_11ea_97e7_7cd30a80f0bfrow7_col8\" class=\"data row7 col8\" >0.1384</td>\n",
       "            </tr>\n",
       "            <tr>\n",
       "                        <th id=\"T_0d0a0f28_f013_11ea_97e7_7cd30a80f0bflevel0_row8\" class=\"row_heading level0 row8\" >8</th>\n",
       "                        <td id=\"T_0d0a0f28_f013_11ea_97e7_7cd30a80f0bfrow8_col0\" class=\"data row8 col0\" >Linear Discriminant Analysis</td>\n",
       "                        <td id=\"T_0d0a0f28_f013_11ea_97e7_7cd30a80f0bfrow8_col1\" class=\"data row8 col1\" >0.7948</td>\n",
       "                        <td id=\"T_0d0a0f28_f013_11ea_97e7_7cd30a80f0bfrow8_col2\" class=\"data row8 col2\" >0.8650</td>\n",
       "                        <td id=\"T_0d0a0f28_f013_11ea_97e7_7cd30a80f0bfrow8_col3\" class=\"data row8 col3\" >0.5881</td>\n",
       "                        <td id=\"T_0d0a0f28_f013_11ea_97e7_7cd30a80f0bfrow8_col4\" class=\"data row8 col4\" >0.7131</td>\n",
       "                        <td id=\"T_0d0a0f28_f013_11ea_97e7_7cd30a80f0bfrow8_col5\" class=\"data row8 col5\" >0.6316</td>\n",
       "                        <td id=\"T_0d0a0f28_f013_11ea_97e7_7cd30a80f0bfrow8_col6\" class=\"data row8 col6\" >0.4965</td>\n",
       "                        <td id=\"T_0d0a0f28_f013_11ea_97e7_7cd30a80f0bfrow8_col7\" class=\"data row8 col7\" >0.5087</td>\n",
       "                        <td id=\"T_0d0a0f28_f013_11ea_97e7_7cd30a80f0bfrow8_col8\" class=\"data row8 col8\" >0.0043</td>\n",
       "            </tr>\n",
       "            <tr>\n",
       "                        <th id=\"T_0d0a0f28_f013_11ea_97e7_7cd30a80f0bflevel0_row9\" class=\"row_heading level0 row9\" >9</th>\n",
       "                        <td id=\"T_0d0a0f28_f013_11ea_97e7_7cd30a80f0bfrow9_col0\" class=\"data row9 col0\" >Extra Trees Classifier</td>\n",
       "                        <td id=\"T_0d0a0f28_f013_11ea_97e7_7cd30a80f0bfrow9_col1\" class=\"data row9 col1\" >0.7798</td>\n",
       "                        <td id=\"T_0d0a0f28_f013_11ea_97e7_7cd30a80f0bfrow9_col2\" class=\"data row9 col2\" >0.8239</td>\n",
       "                        <td id=\"T_0d0a0f28_f013_11ea_97e7_7cd30a80f0bfrow9_col3\" class=\"data row9 col3\" >0.5262</td>\n",
       "                        <td id=\"T_0d0a0f28_f013_11ea_97e7_7cd30a80f0bfrow9_col4\" class=\"data row9 col4\" >0.7095</td>\n",
       "                        <td id=\"T_0d0a0f28_f013_11ea_97e7_7cd30a80f0bfrow9_col5\" class=\"data row9 col5\" >0.5933</td>\n",
       "                        <td id=\"T_0d0a0f28_f013_11ea_97e7_7cd30a80f0bfrow9_col6\" class=\"data row9 col6\" >0.4522</td>\n",
       "                        <td id=\"T_0d0a0f28_f013_11ea_97e7_7cd30a80f0bfrow9_col7\" class=\"data row9 col7\" >0.4670</td>\n",
       "                        <td id=\"T_0d0a0f28_f013_11ea_97e7_7cd30a80f0bfrow9_col8\" class=\"data row9 col8\" >0.3254</td>\n",
       "            </tr>\n",
       "            <tr>\n",
       "                        <th id=\"T_0d0a0f28_f013_11ea_97e7_7cd30a80f0bflevel0_row10\" class=\"row_heading level0 row10\" >10</th>\n",
       "                        <td id=\"T_0d0a0f28_f013_11ea_97e7_7cd30a80f0bfrow10_col0\" class=\"data row10 col0\" >Naive Bayes</td>\n",
       "                        <td id=\"T_0d0a0f28_f013_11ea_97e7_7cd30a80f0bfrow10_col1\" class=\"data row10 col1\" >0.7512</td>\n",
       "                        <td id=\"T_0d0a0f28_f013_11ea_97e7_7cd30a80f0bfrow10_col2\" class=\"data row10 col2\" >0.7516</td>\n",
       "                        <td id=\"T_0d0a0f28_f013_11ea_97e7_7cd30a80f0bfrow10_col3\" class=\"data row10 col3\" >0.4381</td>\n",
       "                        <td id=\"T_0d0a0f28_f013_11ea_97e7_7cd30a80f0bfrow10_col4\" class=\"data row10 col4\" >0.6605</td>\n",
       "                        <td id=\"T_0d0a0f28_f013_11ea_97e7_7cd30a80f0bfrow10_col5\" class=\"data row10 col5\" >0.5095</td>\n",
       "                        <td id=\"T_0d0a0f28_f013_11ea_97e7_7cd30a80f0bfrow10_col6\" class=\"data row10 col6\" >0.3638</td>\n",
       "                        <td id=\"T_0d0a0f28_f013_11ea_97e7_7cd30a80f0bfrow10_col7\" class=\"data row10 col7\" >0.3828</td>\n",
       "                        <td id=\"T_0d0a0f28_f013_11ea_97e7_7cd30a80f0bfrow10_col8\" class=\"data row10 col8\" >0.0078</td>\n",
       "            </tr>\n",
       "            <tr>\n",
       "                        <th id=\"T_0d0a0f28_f013_11ea_97e7_7cd30a80f0bflevel0_row11\" class=\"row_heading level0 row11\" >11</th>\n",
       "                        <td id=\"T_0d0a0f28_f013_11ea_97e7_7cd30a80f0bfrow11_col0\" class=\"data row11 col0\" >Quadratic Discriminant Analysis</td>\n",
       "                        <td id=\"T_0d0a0f28_f013_11ea_97e7_7cd30a80f0bfrow11_col1\" class=\"data row11 col1\" >0.7464</td>\n",
       "                        <td id=\"T_0d0a0f28_f013_11ea_97e7_7cd30a80f0bfrow11_col2\" class=\"data row11 col2\" >0.7279</td>\n",
       "                        <td id=\"T_0d0a0f28_f013_11ea_97e7_7cd30a80f0bfrow11_col3\" class=\"data row11 col3\" >0.2381</td>\n",
       "                        <td id=\"T_0d0a0f28_f013_11ea_97e7_7cd30a80f0bfrow11_col4\" class=\"data row11 col4\" >0.8000</td>\n",
       "                        <td id=\"T_0d0a0f28_f013_11ea_97e7_7cd30a80f0bfrow11_col5\" class=\"data row11 col5\" >0.3605</td>\n",
       "                        <td id=\"T_0d0a0f28_f013_11ea_97e7_7cd30a80f0bfrow11_col6\" class=\"data row11 col6\" >0.2727</td>\n",
       "                        <td id=\"T_0d0a0f28_f013_11ea_97e7_7cd30a80f0bfrow11_col7\" class=\"data row11 col7\" >0.3519</td>\n",
       "                        <td id=\"T_0d0a0f28_f013_11ea_97e7_7cd30a80f0bfrow11_col8\" class=\"data row11 col8\" >0.0037</td>\n",
       "            </tr>\n",
       "            <tr>\n",
       "                        <th id=\"T_0d0a0f28_f013_11ea_97e7_7cd30a80f0bflevel0_row12\" class=\"row_heading level0 row12\" >12</th>\n",
       "                        <td id=\"T_0d0a0f28_f013_11ea_97e7_7cd30a80f0bfrow12_col0\" class=\"data row12 col0\" >Decision Tree Classifier</td>\n",
       "                        <td id=\"T_0d0a0f28_f013_11ea_97e7_7cd30a80f0bfrow12_col1\" class=\"data row12 col1\" >0.7079</td>\n",
       "                        <td id=\"T_0d0a0f28_f013_11ea_97e7_7cd30a80f0bfrow12_col2\" class=\"data row12 col2\" >0.6664</td>\n",
       "                        <td id=\"T_0d0a0f28_f013_11ea_97e7_7cd30a80f0bfrow12_col3\" class=\"data row12 col3\" >0.5500</td>\n",
       "                        <td id=\"T_0d0a0f28_f013_11ea_97e7_7cd30a80f0bfrow12_col4\" class=\"data row12 col4\" >0.5356</td>\n",
       "                        <td id=\"T_0d0a0f28_f013_11ea_97e7_7cd30a80f0bfrow12_col5\" class=\"data row12 col5\" >0.5277</td>\n",
       "                        <td id=\"T_0d0a0f28_f013_11ea_97e7_7cd30a80f0bfrow12_col6\" class=\"data row12 col6\" >0.3229</td>\n",
       "                        <td id=\"T_0d0a0f28_f013_11ea_97e7_7cd30a80f0bfrow12_col7\" class=\"data row12 col7\" >0.3298</td>\n",
       "                        <td id=\"T_0d0a0f28_f013_11ea_97e7_7cd30a80f0bfrow12_col8\" class=\"data row12 col8\" >0.0049</td>\n",
       "            </tr>\n",
       "            <tr>\n",
       "                        <th id=\"T_0d0a0f28_f013_11ea_97e7_7cd30a80f0bflevel0_row13\" class=\"row_heading level0 row13\" >13</th>\n",
       "                        <td id=\"T_0d0a0f28_f013_11ea_97e7_7cd30a80f0bfrow13_col0\" class=\"data row13 col0\" >K Neighbors Classifier</td>\n",
       "                        <td id=\"T_0d0a0f28_f013_11ea_97e7_7cd30a80f0bfrow13_col1\" class=\"data row13 col1\" >0.6314</td>\n",
       "                        <td id=\"T_0d0a0f28_f013_11ea_97e7_7cd30a80f0bfrow13_col2\" class=\"data row13 col2\" >0.5070</td>\n",
       "                        <td id=\"T_0d0a0f28_f013_11ea_97e7_7cd30a80f0bfrow13_col3\" class=\"data row13 col3\" >0.2095</td>\n",
       "                        <td id=\"T_0d0a0f28_f013_11ea_97e7_7cd30a80f0bfrow13_col4\" class=\"data row13 col4\" >0.4045</td>\n",
       "                        <td id=\"T_0d0a0f28_f013_11ea_97e7_7cd30a80f0bfrow13_col5\" class=\"data row13 col5\" >0.2666</td>\n",
       "                        <td id=\"T_0d0a0f28_f013_11ea_97e7_7cd30a80f0bfrow13_col6\" class=\"data row13 col6\" >0.0481</td>\n",
       "                        <td id=\"T_0d0a0f28_f013_11ea_97e7_7cd30a80f0bfrow13_col7\" class=\"data row13 col7\" >0.0609</td>\n",
       "                        <td id=\"T_0d0a0f28_f013_11ea_97e7_7cd30a80f0bfrow13_col8\" class=\"data row13 col8\" >0.0089</td>\n",
       "            </tr>\n",
       "            <tr>\n",
       "                        <th id=\"T_0d0a0f28_f013_11ea_97e7_7cd30a80f0bflevel0_row14\" class=\"row_heading level0 row14\" >14</th>\n",
       "                        <td id=\"T_0d0a0f28_f013_11ea_97e7_7cd30a80f0bfrow14_col0\" class=\"data row14 col0\" >SVM - Linear Kernel</td>\n",
       "                        <td id=\"T_0d0a0f28_f013_11ea_97e7_7cd30a80f0bfrow14_col1\" class=\"data row14 col1\" >0.4871</td>\n",
       "                        <td id=\"T_0d0a0f28_f013_11ea_97e7_7cd30a80f0bfrow14_col2\" class=\"data row14 col2\" >0.0000</td>\n",
       "                        <td id=\"T_0d0a0f28_f013_11ea_97e7_7cd30a80f0bfrow14_col3\" class=\"data row14 col3\" >0.5000</td>\n",
       "                        <td id=\"T_0d0a0f28_f013_11ea_97e7_7cd30a80f0bfrow14_col4\" class=\"data row14 col4\" >0.1538</td>\n",
       "                        <td id=\"T_0d0a0f28_f013_11ea_97e7_7cd30a80f0bfrow14_col5\" class=\"data row14 col5\" >0.2350</td>\n",
       "                        <td id=\"T_0d0a0f28_f013_11ea_97e7_7cd30a80f0bfrow14_col6\" class=\"data row14 col6\" >0.0000</td>\n",
       "                        <td id=\"T_0d0a0f28_f013_11ea_97e7_7cd30a80f0bfrow14_col7\" class=\"data row14 col7\" >0.0000</td>\n",
       "                        <td id=\"T_0d0a0f28_f013_11ea_97e7_7cd30a80f0bfrow14_col8\" class=\"data row14 col8\" >0.0111</td>\n",
       "            </tr>\n",
       "    </tbody></table>"
      ],
      "text/plain": [
       "<pandas.io.formats.style.Styler at 0x1c5c8cc3908>"
      ]
     },
     "metadata": {},
     "output_type": "display_data"
    },
    {
     "data": {
      "text/plain": [
       "<catboost.core.CatBoostClassifier at 0x1c5d495c708>"
      ]
     },
     "execution_count": 40,
     "metadata": {},
     "output_type": "execute_result"
    }
   ],
   "source": [
    "# Compare models\n",
    "pc.compare_models()"
   ]
  },
  {
   "cell_type": "code",
   "execution_count": 41,
   "metadata": {},
   "outputs": [],
   "source": [
    "# Compare models\n",
    "# But ignore the models in the blacklist\n",
    "# pc.compare_models(blacklist=['svm'])"
   ]
  },
  {
   "cell_type": "code",
   "execution_count": 42,
   "metadata": {},
   "outputs": [
    {
     "data": {
      "text/plain": [
       "'xgboost'"
      ]
     },
     "execution_count": 42,
     "metadata": {},
     "output_type": "execute_result"
    }
   ],
   "source": [
    "# Simple Tools to Get The Short/Abbrev for an Estimator/Ml Algorithm\n",
    "#! pip install neatutils\n",
    "import neatutils\n",
    "neatutils.get_abbrev('Extreme Gradient Boosting')"
   ]
  },
  {
   "cell_type": "code",
   "execution_count": 43,
   "metadata": {},
   "outputs": [
    {
     "data": {
      "text/html": [
       "<style  type=\"text/css\" >\n",
       "#T_0e1253ca_f013_11ea_b87c_7cd30a80f0bfrow10_col0,#T_0e1253ca_f013_11ea_b87c_7cd30a80f0bfrow10_col1,#T_0e1253ca_f013_11ea_b87c_7cd30a80f0bfrow10_col2,#T_0e1253ca_f013_11ea_b87c_7cd30a80f0bfrow10_col3,#T_0e1253ca_f013_11ea_b87c_7cd30a80f0bfrow10_col4,#T_0e1253ca_f013_11ea_b87c_7cd30a80f0bfrow10_col5,#T_0e1253ca_f013_11ea_b87c_7cd30a80f0bfrow10_col6{\n",
       "            background:  yellow;\n",
       "        }</style><table id=\"T_0e1253ca_f013_11ea_b87c_7cd30a80f0bf\" ><thead>    <tr>        <th class=\"blank level0\" ></th>        <th class=\"col_heading level0 col0\" >Accuracy</th>        <th class=\"col_heading level0 col1\" >AUC</th>        <th class=\"col_heading level0 col2\" >Recall</th>        <th class=\"col_heading level0 col3\" >Prec.</th>        <th class=\"col_heading level0 col4\" >F1</th>        <th class=\"col_heading level0 col5\" >Kappa</th>        <th class=\"col_heading level0 col6\" >MCC</th>    </tr></thead><tbody>\n",
       "                <tr>\n",
       "                        <th id=\"T_0e1253ca_f013_11ea_b87c_7cd30a80f0bflevel0_row0\" class=\"row_heading level0 row0\" >0</th>\n",
       "                        <td id=\"T_0e1253ca_f013_11ea_b87c_7cd30a80f0bfrow0_col0\" class=\"data row0 col0\" >0.7619</td>\n",
       "                        <td id=\"T_0e1253ca_f013_11ea_b87c_7cd30a80f0bfrow0_col1\" class=\"data row0 col1\" >0.7556</td>\n",
       "                        <td id=\"T_0e1253ca_f013_11ea_b87c_7cd30a80f0bfrow0_col2\" class=\"data row0 col2\" >0.6667</td>\n",
       "                        <td id=\"T_0e1253ca_f013_11ea_b87c_7cd30a80f0bfrow0_col3\" class=\"data row0 col3\" >0.5714</td>\n",
       "                        <td id=\"T_0e1253ca_f013_11ea_b87c_7cd30a80f0bfrow0_col4\" class=\"data row0 col4\" >0.6154</td>\n",
       "                        <td id=\"T_0e1253ca_f013_11ea_b87c_7cd30a80f0bfrow0_col5\" class=\"data row0 col5\" >0.4444</td>\n",
       "                        <td id=\"T_0e1253ca_f013_11ea_b87c_7cd30a80f0bfrow0_col6\" class=\"data row0 col6\" >0.4472</td>\n",
       "            </tr>\n",
       "            <tr>\n",
       "                        <th id=\"T_0e1253ca_f013_11ea_b87c_7cd30a80f0bflevel0_row1\" class=\"row_heading level0 row1\" >1</th>\n",
       "                        <td id=\"T_0e1253ca_f013_11ea_b87c_7cd30a80f0bfrow1_col0\" class=\"data row1 col0\" >0.8571</td>\n",
       "                        <td id=\"T_0e1253ca_f013_11ea_b87c_7cd30a80f0bfrow1_col1\" class=\"data row1 col1\" >0.9000</td>\n",
       "                        <td id=\"T_0e1253ca_f013_11ea_b87c_7cd30a80f0bfrow1_col2\" class=\"data row1 col2\" >0.8333</td>\n",
       "                        <td id=\"T_0e1253ca_f013_11ea_b87c_7cd30a80f0bfrow1_col3\" class=\"data row1 col3\" >0.7143</td>\n",
       "                        <td id=\"T_0e1253ca_f013_11ea_b87c_7cd30a80f0bfrow1_col4\" class=\"data row1 col4\" >0.7692</td>\n",
       "                        <td id=\"T_0e1253ca_f013_11ea_b87c_7cd30a80f0bfrow1_col5\" class=\"data row1 col5\" >0.6667</td>\n",
       "                        <td id=\"T_0e1253ca_f013_11ea_b87c_7cd30a80f0bfrow1_col6\" class=\"data row1 col6\" >0.6708</td>\n",
       "            </tr>\n",
       "            <tr>\n",
       "                        <th id=\"T_0e1253ca_f013_11ea_b87c_7cd30a80f0bflevel0_row2\" class=\"row_heading level0 row2\" >2</th>\n",
       "                        <td id=\"T_0e1253ca_f013_11ea_b87c_7cd30a80f0bfrow2_col0\" class=\"data row2 col0\" >0.8095</td>\n",
       "                        <td id=\"T_0e1253ca_f013_11ea_b87c_7cd30a80f0bfrow2_col1\" class=\"data row2 col1\" >0.9592</td>\n",
       "                        <td id=\"T_0e1253ca_f013_11ea_b87c_7cd30a80f0bfrow2_col2\" class=\"data row2 col2\" >0.7143</td>\n",
       "                        <td id=\"T_0e1253ca_f013_11ea_b87c_7cd30a80f0bfrow2_col3\" class=\"data row2 col3\" >0.7143</td>\n",
       "                        <td id=\"T_0e1253ca_f013_11ea_b87c_7cd30a80f0bfrow2_col4\" class=\"data row2 col4\" >0.7143</td>\n",
       "                        <td id=\"T_0e1253ca_f013_11ea_b87c_7cd30a80f0bfrow2_col5\" class=\"data row2 col5\" >0.5714</td>\n",
       "                        <td id=\"T_0e1253ca_f013_11ea_b87c_7cd30a80f0bfrow2_col6\" class=\"data row2 col6\" >0.5714</td>\n",
       "            </tr>\n",
       "            <tr>\n",
       "                        <th id=\"T_0e1253ca_f013_11ea_b87c_7cd30a80f0bflevel0_row3\" class=\"row_heading level0 row3\" >3</th>\n",
       "                        <td id=\"T_0e1253ca_f013_11ea_b87c_7cd30a80f0bfrow3_col0\" class=\"data row3 col0\" >0.8095</td>\n",
       "                        <td id=\"T_0e1253ca_f013_11ea_b87c_7cd30a80f0bfrow3_col1\" class=\"data row3 col1\" >0.7959</td>\n",
       "                        <td id=\"T_0e1253ca_f013_11ea_b87c_7cd30a80f0bfrow3_col2\" class=\"data row3 col2\" >0.7143</td>\n",
       "                        <td id=\"T_0e1253ca_f013_11ea_b87c_7cd30a80f0bfrow3_col3\" class=\"data row3 col3\" >0.7143</td>\n",
       "                        <td id=\"T_0e1253ca_f013_11ea_b87c_7cd30a80f0bfrow3_col4\" class=\"data row3 col4\" >0.7143</td>\n",
       "                        <td id=\"T_0e1253ca_f013_11ea_b87c_7cd30a80f0bfrow3_col5\" class=\"data row3 col5\" >0.5714</td>\n",
       "                        <td id=\"T_0e1253ca_f013_11ea_b87c_7cd30a80f0bfrow3_col6\" class=\"data row3 col6\" >0.5714</td>\n",
       "            </tr>\n",
       "            <tr>\n",
       "                        <th id=\"T_0e1253ca_f013_11ea_b87c_7cd30a80f0bflevel0_row4\" class=\"row_heading level0 row4\" >4</th>\n",
       "                        <td id=\"T_0e1253ca_f013_11ea_b87c_7cd30a80f0bfrow4_col0\" class=\"data row4 col0\" >0.8095</td>\n",
       "                        <td id=\"T_0e1253ca_f013_11ea_b87c_7cd30a80f0bfrow4_col1\" class=\"data row4 col1\" >0.8571</td>\n",
       "                        <td id=\"T_0e1253ca_f013_11ea_b87c_7cd30a80f0bfrow4_col2\" class=\"data row4 col2\" >0.7143</td>\n",
       "                        <td id=\"T_0e1253ca_f013_11ea_b87c_7cd30a80f0bfrow4_col3\" class=\"data row4 col3\" >0.7143</td>\n",
       "                        <td id=\"T_0e1253ca_f013_11ea_b87c_7cd30a80f0bfrow4_col4\" class=\"data row4 col4\" >0.7143</td>\n",
       "                        <td id=\"T_0e1253ca_f013_11ea_b87c_7cd30a80f0bfrow4_col5\" class=\"data row4 col5\" >0.5714</td>\n",
       "                        <td id=\"T_0e1253ca_f013_11ea_b87c_7cd30a80f0bfrow4_col6\" class=\"data row4 col6\" >0.5714</td>\n",
       "            </tr>\n",
       "            <tr>\n",
       "                        <th id=\"T_0e1253ca_f013_11ea_b87c_7cd30a80f0bflevel0_row5\" class=\"row_heading level0 row5\" >5</th>\n",
       "                        <td id=\"T_0e1253ca_f013_11ea_b87c_7cd30a80f0bfrow5_col0\" class=\"data row5 col0\" >0.9048</td>\n",
       "                        <td id=\"T_0e1253ca_f013_11ea_b87c_7cd30a80f0bfrow5_col1\" class=\"data row5 col1\" >0.9388</td>\n",
       "                        <td id=\"T_0e1253ca_f013_11ea_b87c_7cd30a80f0bfrow5_col2\" class=\"data row5 col2\" >0.7143</td>\n",
       "                        <td id=\"T_0e1253ca_f013_11ea_b87c_7cd30a80f0bfrow5_col3\" class=\"data row5 col3\" >1.0000</td>\n",
       "                        <td id=\"T_0e1253ca_f013_11ea_b87c_7cd30a80f0bfrow5_col4\" class=\"data row5 col4\" >0.8333</td>\n",
       "                        <td id=\"T_0e1253ca_f013_11ea_b87c_7cd30a80f0bfrow5_col5\" class=\"data row5 col5\" >0.7692</td>\n",
       "                        <td id=\"T_0e1253ca_f013_11ea_b87c_7cd30a80f0bfrow5_col6\" class=\"data row5 col6\" >0.7906</td>\n",
       "            </tr>\n",
       "            <tr>\n",
       "                        <th id=\"T_0e1253ca_f013_11ea_b87c_7cd30a80f0bflevel0_row6\" class=\"row_heading level0 row6\" >6</th>\n",
       "                        <td id=\"T_0e1253ca_f013_11ea_b87c_7cd30a80f0bfrow6_col0\" class=\"data row6 col0\" >0.9048</td>\n",
       "                        <td id=\"T_0e1253ca_f013_11ea_b87c_7cd30a80f0bfrow6_col1\" class=\"data row6 col1\" >0.8878</td>\n",
       "                        <td id=\"T_0e1253ca_f013_11ea_b87c_7cd30a80f0bfrow6_col2\" class=\"data row6 col2\" >0.8571</td>\n",
       "                        <td id=\"T_0e1253ca_f013_11ea_b87c_7cd30a80f0bfrow6_col3\" class=\"data row6 col3\" >0.8571</td>\n",
       "                        <td id=\"T_0e1253ca_f013_11ea_b87c_7cd30a80f0bfrow6_col4\" class=\"data row6 col4\" >0.8571</td>\n",
       "                        <td id=\"T_0e1253ca_f013_11ea_b87c_7cd30a80f0bfrow6_col5\" class=\"data row6 col5\" >0.7857</td>\n",
       "                        <td id=\"T_0e1253ca_f013_11ea_b87c_7cd30a80f0bfrow6_col6\" class=\"data row6 col6\" >0.7857</td>\n",
       "            </tr>\n",
       "            <tr>\n",
       "                        <th id=\"T_0e1253ca_f013_11ea_b87c_7cd30a80f0bflevel0_row7\" class=\"row_heading level0 row7\" >7</th>\n",
       "                        <td id=\"T_0e1253ca_f013_11ea_b87c_7cd30a80f0bfrow7_col0\" class=\"data row7 col0\" >0.6667</td>\n",
       "                        <td id=\"T_0e1253ca_f013_11ea_b87c_7cd30a80f0bfrow7_col1\" class=\"data row7 col1\" >0.8367</td>\n",
       "                        <td id=\"T_0e1253ca_f013_11ea_b87c_7cd30a80f0bfrow7_col2\" class=\"data row7 col2\" >0.5714</td>\n",
       "                        <td id=\"T_0e1253ca_f013_11ea_b87c_7cd30a80f0bfrow7_col3\" class=\"data row7 col3\" >0.5000</td>\n",
       "                        <td id=\"T_0e1253ca_f013_11ea_b87c_7cd30a80f0bfrow7_col4\" class=\"data row7 col4\" >0.5333</td>\n",
       "                        <td id=\"T_0e1253ca_f013_11ea_b87c_7cd30a80f0bfrow7_col5\" class=\"data row7 col5\" >0.2759</td>\n",
       "                        <td id=\"T_0e1253ca_f013_11ea_b87c_7cd30a80f0bfrow7_col6\" class=\"data row7 col6\" >0.2774</td>\n",
       "            </tr>\n",
       "            <tr>\n",
       "                        <th id=\"T_0e1253ca_f013_11ea_b87c_7cd30a80f0bflevel0_row8\" class=\"row_heading level0 row8\" >8</th>\n",
       "                        <td id=\"T_0e1253ca_f013_11ea_b87c_7cd30a80f0bfrow8_col0\" class=\"data row8 col0\" >0.7143</td>\n",
       "                        <td id=\"T_0e1253ca_f013_11ea_b87c_7cd30a80f0bfrow8_col1\" class=\"data row8 col1\" >0.8673</td>\n",
       "                        <td id=\"T_0e1253ca_f013_11ea_b87c_7cd30a80f0bfrow8_col2\" class=\"data row8 col2\" >0.2857</td>\n",
       "                        <td id=\"T_0e1253ca_f013_11ea_b87c_7cd30a80f0bfrow8_col3\" class=\"data row8 col3\" >0.6667</td>\n",
       "                        <td id=\"T_0e1253ca_f013_11ea_b87c_7cd30a80f0bfrow8_col4\" class=\"data row8 col4\" >0.4000</td>\n",
       "                        <td id=\"T_0e1253ca_f013_11ea_b87c_7cd30a80f0bfrow8_col5\" class=\"data row8 col5\" >0.2500</td>\n",
       "                        <td id=\"T_0e1253ca_f013_11ea_b87c_7cd30a80f0bfrow8_col6\" class=\"data row8 col6\" >0.2887</td>\n",
       "            </tr>\n",
       "            <tr>\n",
       "                        <th id=\"T_0e1253ca_f013_11ea_b87c_7cd30a80f0bflevel0_row9\" class=\"row_heading level0 row9\" >9</th>\n",
       "                        <td id=\"T_0e1253ca_f013_11ea_b87c_7cd30a80f0bfrow9_col0\" class=\"data row9 col0\" >0.8500</td>\n",
       "                        <td id=\"T_0e1253ca_f013_11ea_b87c_7cd30a80f0bfrow9_col1\" class=\"data row9 col1\" >0.9524</td>\n",
       "                        <td id=\"T_0e1253ca_f013_11ea_b87c_7cd30a80f0bfrow9_col2\" class=\"data row9 col2\" >1.0000</td>\n",
       "                        <td id=\"T_0e1253ca_f013_11ea_b87c_7cd30a80f0bfrow9_col3\" class=\"data row9 col3\" >0.6667</td>\n",
       "                        <td id=\"T_0e1253ca_f013_11ea_b87c_7cd30a80f0bfrow9_col4\" class=\"data row9 col4\" >0.8000</td>\n",
       "                        <td id=\"T_0e1253ca_f013_11ea_b87c_7cd30a80f0bfrow9_col5\" class=\"data row9 col5\" >0.6875</td>\n",
       "                        <td id=\"T_0e1253ca_f013_11ea_b87c_7cd30a80f0bfrow9_col6\" class=\"data row9 col6\" >0.7237</td>\n",
       "            </tr>\n",
       "            <tr>\n",
       "                        <th id=\"T_0e1253ca_f013_11ea_b87c_7cd30a80f0bflevel0_row10\" class=\"row_heading level0 row10\" >Mean</th>\n",
       "                        <td id=\"T_0e1253ca_f013_11ea_b87c_7cd30a80f0bfrow10_col0\" class=\"data row10 col0\" >0.8088</td>\n",
       "                        <td id=\"T_0e1253ca_f013_11ea_b87c_7cd30a80f0bfrow10_col1\" class=\"data row10 col1\" >0.8751</td>\n",
       "                        <td id=\"T_0e1253ca_f013_11ea_b87c_7cd30a80f0bfrow10_col2\" class=\"data row10 col2\" >0.7071</td>\n",
       "                        <td id=\"T_0e1253ca_f013_11ea_b87c_7cd30a80f0bfrow10_col3\" class=\"data row10 col3\" >0.7119</td>\n",
       "                        <td id=\"T_0e1253ca_f013_11ea_b87c_7cd30a80f0bfrow10_col4\" class=\"data row10 col4\" >0.6951</td>\n",
       "                        <td id=\"T_0e1253ca_f013_11ea_b87c_7cd30a80f0bfrow10_col5\" class=\"data row10 col5\" >0.5594</td>\n",
       "                        <td id=\"T_0e1253ca_f013_11ea_b87c_7cd30a80f0bfrow10_col6\" class=\"data row10 col6\" >0.5698</td>\n",
       "            </tr>\n",
       "            <tr>\n",
       "                        <th id=\"T_0e1253ca_f013_11ea_b87c_7cd30a80f0bflevel0_row11\" class=\"row_heading level0 row11\" >SD</th>\n",
       "                        <td id=\"T_0e1253ca_f013_11ea_b87c_7cd30a80f0bfrow11_col0\" class=\"data row11 col0\" >0.0733</td>\n",
       "                        <td id=\"T_0e1253ca_f013_11ea_b87c_7cd30a80f0bfrow11_col1\" class=\"data row11 col1\" >0.0635</td>\n",
       "                        <td id=\"T_0e1253ca_f013_11ea_b87c_7cd30a80f0bfrow11_col2\" class=\"data row11 col2\" >0.1795</td>\n",
       "                        <td id=\"T_0e1253ca_f013_11ea_b87c_7cd30a80f0bfrow11_col3\" class=\"data row11 col3\" >0.1315</td>\n",
       "                        <td id=\"T_0e1253ca_f013_11ea_b87c_7cd30a80f0bfrow11_col4\" class=\"data row11 col4\" >0.1351</td>\n",
       "                        <td id=\"T_0e1253ca_f013_11ea_b87c_7cd30a80f0bfrow11_col5\" class=\"data row11 col5\" >0.1769</td>\n",
       "                        <td id=\"T_0e1253ca_f013_11ea_b87c_7cd30a80f0bfrow11_col6\" class=\"data row11 col6\" >0.1757</td>\n",
       "            </tr>\n",
       "    </tbody></table>"
      ],
      "text/plain": [
       "<pandas.io.formats.style.Styler at 0x1c5d492ac48>"
      ]
     },
     "metadata": {},
     "output_type": "display_data"
    }
   ],
   "source": [
    "# Create the model\n",
    "xgboost_model = pc.create_model('xgboost')"
   ]
  },
  {
   "cell_type": "code",
   "execution_count": 45,
   "metadata": {},
   "outputs": [],
   "source": [
    "# interpreting model\n",
    "# interpret_model(xgboost_model)"
   ]
  },
  {
   "cell_type": "code",
   "execution_count": 46,
   "metadata": {},
   "outputs": [
    {
     "data": {
      "text/html": [
       "<style  type=\"text/css\" >\n",
       "#T_1d20f364_f013_11ea_ae99_7cd30a80f0bfrow10_col0,#T_1d20f364_f013_11ea_ae99_7cd30a80f0bfrow10_col1,#T_1d20f364_f013_11ea_ae99_7cd30a80f0bfrow10_col2,#T_1d20f364_f013_11ea_ae99_7cd30a80f0bfrow10_col3,#T_1d20f364_f013_11ea_ae99_7cd30a80f0bfrow10_col4,#T_1d20f364_f013_11ea_ae99_7cd30a80f0bfrow10_col5,#T_1d20f364_f013_11ea_ae99_7cd30a80f0bfrow10_col6{\n",
       "            background:  yellow;\n",
       "        }</style><table id=\"T_1d20f364_f013_11ea_ae99_7cd30a80f0bf\" ><thead>    <tr>        <th class=\"blank level0\" ></th>        <th class=\"col_heading level0 col0\" >Accuracy</th>        <th class=\"col_heading level0 col1\" >AUC</th>        <th class=\"col_heading level0 col2\" >Recall</th>        <th class=\"col_heading level0 col3\" >Prec.</th>        <th class=\"col_heading level0 col4\" >F1</th>        <th class=\"col_heading level0 col5\" >Kappa</th>        <th class=\"col_heading level0 col6\" >MCC</th>    </tr></thead><tbody>\n",
       "                <tr>\n",
       "                        <th id=\"T_1d20f364_f013_11ea_ae99_7cd30a80f0bflevel0_row0\" class=\"row_heading level0 row0\" >0</th>\n",
       "                        <td id=\"T_1d20f364_f013_11ea_ae99_7cd30a80f0bfrow0_col0\" class=\"data row0 col0\" >0.8095</td>\n",
       "                        <td id=\"T_1d20f364_f013_11ea_ae99_7cd30a80f0bfrow0_col1\" class=\"data row0 col1\" >0.6889</td>\n",
       "                        <td id=\"T_1d20f364_f013_11ea_ae99_7cd30a80f0bfrow0_col2\" class=\"data row0 col2\" >0.5000</td>\n",
       "                        <td id=\"T_1d20f364_f013_11ea_ae99_7cd30a80f0bfrow0_col3\" class=\"data row0 col3\" >0.7500</td>\n",
       "                        <td id=\"T_1d20f364_f013_11ea_ae99_7cd30a80f0bfrow0_col4\" class=\"data row0 col4\" >0.6000</td>\n",
       "                        <td id=\"T_1d20f364_f013_11ea_ae99_7cd30a80f0bfrow0_col5\" class=\"data row0 col5\" >0.4815</td>\n",
       "                        <td id=\"T_1d20f364_f013_11ea_ae99_7cd30a80f0bfrow0_col6\" class=\"data row0 col6\" >0.4985</td>\n",
       "            </tr>\n",
       "            <tr>\n",
       "                        <th id=\"T_1d20f364_f013_11ea_ae99_7cd30a80f0bflevel0_row1\" class=\"row_heading level0 row1\" >1</th>\n",
       "                        <td id=\"T_1d20f364_f013_11ea_ae99_7cd30a80f0bfrow1_col0\" class=\"data row1 col0\" >0.7143</td>\n",
       "                        <td id=\"T_1d20f364_f013_11ea_ae99_7cd30a80f0bfrow1_col1\" class=\"data row1 col1\" >0.6444</td>\n",
       "                        <td id=\"T_1d20f364_f013_11ea_ae99_7cd30a80f0bfrow1_col2\" class=\"data row1 col2\" >0.5000</td>\n",
       "                        <td id=\"T_1d20f364_f013_11ea_ae99_7cd30a80f0bfrow1_col3\" class=\"data row1 col3\" >0.5000</td>\n",
       "                        <td id=\"T_1d20f364_f013_11ea_ae99_7cd30a80f0bfrow1_col4\" class=\"data row1 col4\" >0.5000</td>\n",
       "                        <td id=\"T_1d20f364_f013_11ea_ae99_7cd30a80f0bfrow1_col5\" class=\"data row1 col5\" >0.3000</td>\n",
       "                        <td id=\"T_1d20f364_f013_11ea_ae99_7cd30a80f0bfrow1_col6\" class=\"data row1 col6\" >0.3000</td>\n",
       "            </tr>\n",
       "            <tr>\n",
       "                        <th id=\"T_1d20f364_f013_11ea_ae99_7cd30a80f0bflevel0_row2\" class=\"row_heading level0 row2\" >2</th>\n",
       "                        <td id=\"T_1d20f364_f013_11ea_ae99_7cd30a80f0bfrow2_col0\" class=\"data row2 col0\" >0.7619</td>\n",
       "                        <td id=\"T_1d20f364_f013_11ea_ae99_7cd30a80f0bfrow2_col1\" class=\"data row2 col1\" >0.7755</td>\n",
       "                        <td id=\"T_1d20f364_f013_11ea_ae99_7cd30a80f0bfrow2_col2\" class=\"data row2 col2\" >0.4286</td>\n",
       "                        <td id=\"T_1d20f364_f013_11ea_ae99_7cd30a80f0bfrow2_col3\" class=\"data row2 col3\" >0.7500</td>\n",
       "                        <td id=\"T_1d20f364_f013_11ea_ae99_7cd30a80f0bfrow2_col4\" class=\"data row2 col4\" >0.5455</td>\n",
       "                        <td id=\"T_1d20f364_f013_11ea_ae99_7cd30a80f0bfrow2_col5\" class=\"data row2 col5\" >0.4000</td>\n",
       "                        <td id=\"T_1d20f364_f013_11ea_ae99_7cd30a80f0bfrow2_col6\" class=\"data row2 col6\" >0.4287</td>\n",
       "            </tr>\n",
       "            <tr>\n",
       "                        <th id=\"T_1d20f364_f013_11ea_ae99_7cd30a80f0bflevel0_row3\" class=\"row_heading level0 row3\" >3</th>\n",
       "                        <td id=\"T_1d20f364_f013_11ea_ae99_7cd30a80f0bfrow3_col0\" class=\"data row3 col0\" >0.7143</td>\n",
       "                        <td id=\"T_1d20f364_f013_11ea_ae99_7cd30a80f0bfrow3_col1\" class=\"data row3 col1\" >0.7755</td>\n",
       "                        <td id=\"T_1d20f364_f013_11ea_ae99_7cd30a80f0bfrow3_col2\" class=\"data row3 col2\" >0.4286</td>\n",
       "                        <td id=\"T_1d20f364_f013_11ea_ae99_7cd30a80f0bfrow3_col3\" class=\"data row3 col3\" >0.6000</td>\n",
       "                        <td id=\"T_1d20f364_f013_11ea_ae99_7cd30a80f0bfrow3_col4\" class=\"data row3 col4\" >0.5000</td>\n",
       "                        <td id=\"T_1d20f364_f013_11ea_ae99_7cd30a80f0bfrow3_col5\" class=\"data row3 col5\" >0.3077</td>\n",
       "                        <td id=\"T_1d20f364_f013_11ea_ae99_7cd30a80f0bfrow3_col6\" class=\"data row3 col6\" >0.3162</td>\n",
       "            </tr>\n",
       "            <tr>\n",
       "                        <th id=\"T_1d20f364_f013_11ea_ae99_7cd30a80f0bflevel0_row4\" class=\"row_heading level0 row4\" >4</th>\n",
       "                        <td id=\"T_1d20f364_f013_11ea_ae99_7cd30a80f0bfrow4_col0\" class=\"data row4 col0\" >0.8571</td>\n",
       "                        <td id=\"T_1d20f364_f013_11ea_ae99_7cd30a80f0bfrow4_col1\" class=\"data row4 col1\" >0.9184</td>\n",
       "                        <td id=\"T_1d20f364_f013_11ea_ae99_7cd30a80f0bfrow4_col2\" class=\"data row4 col2\" >0.8571</td>\n",
       "                        <td id=\"T_1d20f364_f013_11ea_ae99_7cd30a80f0bfrow4_col3\" class=\"data row4 col3\" >0.7500</td>\n",
       "                        <td id=\"T_1d20f364_f013_11ea_ae99_7cd30a80f0bfrow4_col4\" class=\"data row4 col4\" >0.8000</td>\n",
       "                        <td id=\"T_1d20f364_f013_11ea_ae99_7cd30a80f0bfrow4_col5\" class=\"data row4 col5\" >0.6897</td>\n",
       "                        <td id=\"T_1d20f364_f013_11ea_ae99_7cd30a80f0bfrow4_col6\" class=\"data row4 col6\" >0.6934</td>\n",
       "            </tr>\n",
       "            <tr>\n",
       "                        <th id=\"T_1d20f364_f013_11ea_ae99_7cd30a80f0bflevel0_row5\" class=\"row_heading level0 row5\" >5</th>\n",
       "                        <td id=\"T_1d20f364_f013_11ea_ae99_7cd30a80f0bfrow5_col0\" class=\"data row5 col0\" >0.9048</td>\n",
       "                        <td id=\"T_1d20f364_f013_11ea_ae99_7cd30a80f0bfrow5_col1\" class=\"data row5 col1\" >0.9694</td>\n",
       "                        <td id=\"T_1d20f364_f013_11ea_ae99_7cd30a80f0bfrow5_col2\" class=\"data row5 col2\" >0.7143</td>\n",
       "                        <td id=\"T_1d20f364_f013_11ea_ae99_7cd30a80f0bfrow5_col3\" class=\"data row5 col3\" >1.0000</td>\n",
       "                        <td id=\"T_1d20f364_f013_11ea_ae99_7cd30a80f0bfrow5_col4\" class=\"data row5 col4\" >0.8333</td>\n",
       "                        <td id=\"T_1d20f364_f013_11ea_ae99_7cd30a80f0bfrow5_col5\" class=\"data row5 col5\" >0.7692</td>\n",
       "                        <td id=\"T_1d20f364_f013_11ea_ae99_7cd30a80f0bfrow5_col6\" class=\"data row5 col6\" >0.7906</td>\n",
       "            </tr>\n",
       "            <tr>\n",
       "                        <th id=\"T_1d20f364_f013_11ea_ae99_7cd30a80f0bflevel0_row6\" class=\"row_heading level0 row6\" >6</th>\n",
       "                        <td id=\"T_1d20f364_f013_11ea_ae99_7cd30a80f0bfrow6_col0\" class=\"data row6 col0\" >0.9048</td>\n",
       "                        <td id=\"T_1d20f364_f013_11ea_ae99_7cd30a80f0bfrow6_col1\" class=\"data row6 col1\" >0.8061</td>\n",
       "                        <td id=\"T_1d20f364_f013_11ea_ae99_7cd30a80f0bfrow6_col2\" class=\"data row6 col2\" >0.7143</td>\n",
       "                        <td id=\"T_1d20f364_f013_11ea_ae99_7cd30a80f0bfrow6_col3\" class=\"data row6 col3\" >1.0000</td>\n",
       "                        <td id=\"T_1d20f364_f013_11ea_ae99_7cd30a80f0bfrow6_col4\" class=\"data row6 col4\" >0.8333</td>\n",
       "                        <td id=\"T_1d20f364_f013_11ea_ae99_7cd30a80f0bfrow6_col5\" class=\"data row6 col5\" >0.7692</td>\n",
       "                        <td id=\"T_1d20f364_f013_11ea_ae99_7cd30a80f0bfrow6_col6\" class=\"data row6 col6\" >0.7906</td>\n",
       "            </tr>\n",
       "            <tr>\n",
       "                        <th id=\"T_1d20f364_f013_11ea_ae99_7cd30a80f0bflevel0_row7\" class=\"row_heading level0 row7\" >7</th>\n",
       "                        <td id=\"T_1d20f364_f013_11ea_ae99_7cd30a80f0bfrow7_col0\" class=\"data row7 col0\" >0.8095</td>\n",
       "                        <td id=\"T_1d20f364_f013_11ea_ae99_7cd30a80f0bfrow7_col1\" class=\"data row7 col1\" >0.8367</td>\n",
       "                        <td id=\"T_1d20f364_f013_11ea_ae99_7cd30a80f0bfrow7_col2\" class=\"data row7 col2\" >0.7143</td>\n",
       "                        <td id=\"T_1d20f364_f013_11ea_ae99_7cd30a80f0bfrow7_col3\" class=\"data row7 col3\" >0.7143</td>\n",
       "                        <td id=\"T_1d20f364_f013_11ea_ae99_7cd30a80f0bfrow7_col4\" class=\"data row7 col4\" >0.7143</td>\n",
       "                        <td id=\"T_1d20f364_f013_11ea_ae99_7cd30a80f0bfrow7_col5\" class=\"data row7 col5\" >0.5714</td>\n",
       "                        <td id=\"T_1d20f364_f013_11ea_ae99_7cd30a80f0bfrow7_col6\" class=\"data row7 col6\" >0.5714</td>\n",
       "            </tr>\n",
       "            <tr>\n",
       "                        <th id=\"T_1d20f364_f013_11ea_ae99_7cd30a80f0bflevel0_row8\" class=\"row_heading level0 row8\" >8</th>\n",
       "                        <td id=\"T_1d20f364_f013_11ea_ae99_7cd30a80f0bfrow8_col0\" class=\"data row8 col0\" >0.7143</td>\n",
       "                        <td id=\"T_1d20f364_f013_11ea_ae99_7cd30a80f0bfrow8_col1\" class=\"data row8 col1\" >0.7551</td>\n",
       "                        <td id=\"T_1d20f364_f013_11ea_ae99_7cd30a80f0bfrow8_col2\" class=\"data row8 col2\" >0.2857</td>\n",
       "                        <td id=\"T_1d20f364_f013_11ea_ae99_7cd30a80f0bfrow8_col3\" class=\"data row8 col3\" >0.6667</td>\n",
       "                        <td id=\"T_1d20f364_f013_11ea_ae99_7cd30a80f0bfrow8_col4\" class=\"data row8 col4\" >0.4000</td>\n",
       "                        <td id=\"T_1d20f364_f013_11ea_ae99_7cd30a80f0bfrow8_col5\" class=\"data row8 col5\" >0.2500</td>\n",
       "                        <td id=\"T_1d20f364_f013_11ea_ae99_7cd30a80f0bfrow8_col6\" class=\"data row8 col6\" >0.2887</td>\n",
       "            </tr>\n",
       "            <tr>\n",
       "                        <th id=\"T_1d20f364_f013_11ea_ae99_7cd30a80f0bflevel0_row9\" class=\"row_heading level0 row9\" >9</th>\n",
       "                        <td id=\"T_1d20f364_f013_11ea_ae99_7cd30a80f0bfrow9_col0\" class=\"data row9 col0\" >0.9000</td>\n",
       "                        <td id=\"T_1d20f364_f013_11ea_ae99_7cd30a80f0bfrow9_col1\" class=\"data row9 col1\" >0.9286</td>\n",
       "                        <td id=\"T_1d20f364_f013_11ea_ae99_7cd30a80f0bfrow9_col2\" class=\"data row9 col2\" >0.8333</td>\n",
       "                        <td id=\"T_1d20f364_f013_11ea_ae99_7cd30a80f0bfrow9_col3\" class=\"data row9 col3\" >0.8333</td>\n",
       "                        <td id=\"T_1d20f364_f013_11ea_ae99_7cd30a80f0bfrow9_col4\" class=\"data row9 col4\" >0.8333</td>\n",
       "                        <td id=\"T_1d20f364_f013_11ea_ae99_7cd30a80f0bfrow9_col5\" class=\"data row9 col5\" >0.7619</td>\n",
       "                        <td id=\"T_1d20f364_f013_11ea_ae99_7cd30a80f0bfrow9_col6\" class=\"data row9 col6\" >0.7619</td>\n",
       "            </tr>\n",
       "            <tr>\n",
       "                        <th id=\"T_1d20f364_f013_11ea_ae99_7cd30a80f0bflevel0_row10\" class=\"row_heading level0 row10\" >Mean</th>\n",
       "                        <td id=\"T_1d20f364_f013_11ea_ae99_7cd30a80f0bfrow10_col0\" class=\"data row10 col0\" >0.8090</td>\n",
       "                        <td id=\"T_1d20f364_f013_11ea_ae99_7cd30a80f0bfrow10_col1\" class=\"data row10 col1\" >0.8099</td>\n",
       "                        <td id=\"T_1d20f364_f013_11ea_ae99_7cd30a80f0bfrow10_col2\" class=\"data row10 col2\" >0.5976</td>\n",
       "                        <td id=\"T_1d20f364_f013_11ea_ae99_7cd30a80f0bfrow10_col3\" class=\"data row10 col3\" >0.7564</td>\n",
       "                        <td id=\"T_1d20f364_f013_11ea_ae99_7cd30a80f0bfrow10_col4\" class=\"data row10 col4\" >0.6560</td>\n",
       "                        <td id=\"T_1d20f364_f013_11ea_ae99_7cd30a80f0bfrow10_col5\" class=\"data row10 col5\" >0.5301</td>\n",
       "                        <td id=\"T_1d20f364_f013_11ea_ae99_7cd30a80f0bfrow10_col6\" class=\"data row10 col6\" >0.5440</td>\n",
       "            </tr>\n",
       "            <tr>\n",
       "                        <th id=\"T_1d20f364_f013_11ea_ae99_7cd30a80f0bflevel0_row11\" class=\"row_heading level0 row11\" >SD</th>\n",
       "                        <td id=\"T_1d20f364_f013_11ea_ae99_7cd30a80f0bfrow11_col0\" class=\"data row11 col0\" >0.0762</td>\n",
       "                        <td id=\"T_1d20f364_f013_11ea_ae99_7cd30a80f0bfrow11_col1\" class=\"data row11 col1\" >0.0997</td>\n",
       "                        <td id=\"T_1d20f364_f013_11ea_ae99_7cd30a80f0bfrow11_col2\" class=\"data row11 col2\" >0.1836</td>\n",
       "                        <td id=\"T_1d20f364_f013_11ea_ae99_7cd30a80f0bfrow11_col3\" class=\"data row11 col3\" >0.1499</td>\n",
       "                        <td id=\"T_1d20f364_f013_11ea_ae99_7cd30a80f0bfrow11_col4\" class=\"data row11 col4\" >0.1575</td>\n",
       "                        <td id=\"T_1d20f364_f013_11ea_ae99_7cd30a80f0bfrow11_col5\" class=\"data row11 col5\" >0.1989</td>\n",
       "                        <td id=\"T_1d20f364_f013_11ea_ae99_7cd30a80f0bfrow11_col6\" class=\"data row11 col6\" >0.1960</td>\n",
       "            </tr>\n",
       "    </tbody></table>"
      ],
      "text/plain": [
       "<pandas.io.formats.style.Styler at 0x1c5d492e148>"
      ]
     },
     "metadata": {},
     "output_type": "display_data"
    }
   ],
   "source": [
    "# LogReg Model\n",
    "logreg_model = pc.create_model('lr')"
   ]
  },
  {
   "cell_type": "code",
   "execution_count": 47,
   "metadata": {},
   "outputs": [
    {
     "data": {
      "text/html": [
       "<style  type=\"text/css\" >\n",
       "#T_23449d74_f013_11ea_9a89_7cd30a80f0bfrow10_col0,#T_23449d74_f013_11ea_9a89_7cd30a80f0bfrow10_col1,#T_23449d74_f013_11ea_9a89_7cd30a80f0bfrow10_col2,#T_23449d74_f013_11ea_9a89_7cd30a80f0bfrow10_col3,#T_23449d74_f013_11ea_9a89_7cd30a80f0bfrow10_col4,#T_23449d74_f013_11ea_9a89_7cd30a80f0bfrow10_col5,#T_23449d74_f013_11ea_9a89_7cd30a80f0bfrow10_col6{\n",
       "            background:  yellow;\n",
       "        }</style><table id=\"T_23449d74_f013_11ea_9a89_7cd30a80f0bf\" ><thead>    <tr>        <th class=\"blank level0\" ></th>        <th class=\"col_heading level0 col0\" >Accuracy</th>        <th class=\"col_heading level0 col1\" >AUC</th>        <th class=\"col_heading level0 col2\" >Recall</th>        <th class=\"col_heading level0 col3\" >Prec.</th>        <th class=\"col_heading level0 col4\" >F1</th>        <th class=\"col_heading level0 col5\" >Kappa</th>        <th class=\"col_heading level0 col6\" >MCC</th>    </tr></thead><tbody>\n",
       "                <tr>\n",
       "                        <th id=\"T_23449d74_f013_11ea_9a89_7cd30a80f0bflevel0_row0\" class=\"row_heading level0 row0\" >0</th>\n",
       "                        <td id=\"T_23449d74_f013_11ea_9a89_7cd30a80f0bfrow0_col0\" class=\"data row0 col0\" >0.8095</td>\n",
       "                        <td id=\"T_23449d74_f013_11ea_9a89_7cd30a80f0bfrow0_col1\" class=\"data row0 col1\" >0.7667</td>\n",
       "                        <td id=\"T_23449d74_f013_11ea_9a89_7cd30a80f0bfrow0_col2\" class=\"data row0 col2\" >0.6667</td>\n",
       "                        <td id=\"T_23449d74_f013_11ea_9a89_7cd30a80f0bfrow0_col3\" class=\"data row0 col3\" >0.6667</td>\n",
       "                        <td id=\"T_23449d74_f013_11ea_9a89_7cd30a80f0bfrow0_col4\" class=\"data row0 col4\" >0.6667</td>\n",
       "                        <td id=\"T_23449d74_f013_11ea_9a89_7cd30a80f0bfrow0_col5\" class=\"data row0 col5\" >0.5333</td>\n",
       "                        <td id=\"T_23449d74_f013_11ea_9a89_7cd30a80f0bfrow0_col6\" class=\"data row0 col6\" >0.5333</td>\n",
       "            </tr>\n",
       "            <tr>\n",
       "                        <th id=\"T_23449d74_f013_11ea_9a89_7cd30a80f0bflevel0_row1\" class=\"row_heading level0 row1\" >1</th>\n",
       "                        <td id=\"T_23449d74_f013_11ea_9a89_7cd30a80f0bfrow1_col0\" class=\"data row1 col0\" >0.7619</td>\n",
       "                        <td id=\"T_23449d74_f013_11ea_9a89_7cd30a80f0bfrow1_col1\" class=\"data row1 col1\" >0.8556</td>\n",
       "                        <td id=\"T_23449d74_f013_11ea_9a89_7cd30a80f0bfrow1_col2\" class=\"data row1 col2\" >0.6667</td>\n",
       "                        <td id=\"T_23449d74_f013_11ea_9a89_7cd30a80f0bfrow1_col3\" class=\"data row1 col3\" >0.5714</td>\n",
       "                        <td id=\"T_23449d74_f013_11ea_9a89_7cd30a80f0bfrow1_col4\" class=\"data row1 col4\" >0.6154</td>\n",
       "                        <td id=\"T_23449d74_f013_11ea_9a89_7cd30a80f0bfrow1_col5\" class=\"data row1 col5\" >0.4444</td>\n",
       "                        <td id=\"T_23449d74_f013_11ea_9a89_7cd30a80f0bfrow1_col6\" class=\"data row1 col6\" >0.4472</td>\n",
       "            </tr>\n",
       "            <tr>\n",
       "                        <th id=\"T_23449d74_f013_11ea_9a89_7cd30a80f0bflevel0_row2\" class=\"row_heading level0 row2\" >2</th>\n",
       "                        <td id=\"T_23449d74_f013_11ea_9a89_7cd30a80f0bfrow2_col0\" class=\"data row2 col0\" >0.8571</td>\n",
       "                        <td id=\"T_23449d74_f013_11ea_9a89_7cd30a80f0bfrow2_col1\" class=\"data row2 col1\" >0.9592</td>\n",
       "                        <td id=\"T_23449d74_f013_11ea_9a89_7cd30a80f0bfrow2_col2\" class=\"data row2 col2\" >0.7143</td>\n",
       "                        <td id=\"T_23449d74_f013_11ea_9a89_7cd30a80f0bfrow2_col3\" class=\"data row2 col3\" >0.8333</td>\n",
       "                        <td id=\"T_23449d74_f013_11ea_9a89_7cd30a80f0bfrow2_col4\" class=\"data row2 col4\" >0.7692</td>\n",
       "                        <td id=\"T_23449d74_f013_11ea_9a89_7cd30a80f0bfrow2_col5\" class=\"data row2 col5\" >0.6667</td>\n",
       "                        <td id=\"T_23449d74_f013_11ea_9a89_7cd30a80f0bfrow2_col6\" class=\"data row2 col6\" >0.6708</td>\n",
       "            </tr>\n",
       "            <tr>\n",
       "                        <th id=\"T_23449d74_f013_11ea_9a89_7cd30a80f0bflevel0_row3\" class=\"row_heading level0 row3\" >3</th>\n",
       "                        <td id=\"T_23449d74_f013_11ea_9a89_7cd30a80f0bfrow3_col0\" class=\"data row3 col0\" >0.7143</td>\n",
       "                        <td id=\"T_23449d74_f013_11ea_9a89_7cd30a80f0bfrow3_col1\" class=\"data row3 col1\" >0.7857</td>\n",
       "                        <td id=\"T_23449d74_f013_11ea_9a89_7cd30a80f0bfrow3_col2\" class=\"data row3 col2\" >0.5714</td>\n",
       "                        <td id=\"T_23449d74_f013_11ea_9a89_7cd30a80f0bfrow3_col3\" class=\"data row3 col3\" >0.5714</td>\n",
       "                        <td id=\"T_23449d74_f013_11ea_9a89_7cd30a80f0bfrow3_col4\" class=\"data row3 col4\" >0.5714</td>\n",
       "                        <td id=\"T_23449d74_f013_11ea_9a89_7cd30a80f0bfrow3_col5\" class=\"data row3 col5\" >0.3571</td>\n",
       "                        <td id=\"T_23449d74_f013_11ea_9a89_7cd30a80f0bfrow3_col6\" class=\"data row3 col6\" >0.3571</td>\n",
       "            </tr>\n",
       "            <tr>\n",
       "                        <th id=\"T_23449d74_f013_11ea_9a89_7cd30a80f0bflevel0_row4\" class=\"row_heading level0 row4\" >4</th>\n",
       "                        <td id=\"T_23449d74_f013_11ea_9a89_7cd30a80f0bfrow4_col0\" class=\"data row4 col0\" >0.8095</td>\n",
       "                        <td id=\"T_23449d74_f013_11ea_9a89_7cd30a80f0bfrow4_col1\" class=\"data row4 col1\" >0.8980</td>\n",
       "                        <td id=\"T_23449d74_f013_11ea_9a89_7cd30a80f0bfrow4_col2\" class=\"data row4 col2\" >0.7143</td>\n",
       "                        <td id=\"T_23449d74_f013_11ea_9a89_7cd30a80f0bfrow4_col3\" class=\"data row4 col3\" >0.7143</td>\n",
       "                        <td id=\"T_23449d74_f013_11ea_9a89_7cd30a80f0bfrow4_col4\" class=\"data row4 col4\" >0.7143</td>\n",
       "                        <td id=\"T_23449d74_f013_11ea_9a89_7cd30a80f0bfrow4_col5\" class=\"data row4 col5\" >0.5714</td>\n",
       "                        <td id=\"T_23449d74_f013_11ea_9a89_7cd30a80f0bfrow4_col6\" class=\"data row4 col6\" >0.5714</td>\n",
       "            </tr>\n",
       "            <tr>\n",
       "                        <th id=\"T_23449d74_f013_11ea_9a89_7cd30a80f0bflevel0_row5\" class=\"row_heading level0 row5\" >5</th>\n",
       "                        <td id=\"T_23449d74_f013_11ea_9a89_7cd30a80f0bfrow5_col0\" class=\"data row5 col0\" >0.8095</td>\n",
       "                        <td id=\"T_23449d74_f013_11ea_9a89_7cd30a80f0bfrow5_col1\" class=\"data row5 col1\" >0.9490</td>\n",
       "                        <td id=\"T_23449d74_f013_11ea_9a89_7cd30a80f0bfrow5_col2\" class=\"data row5 col2\" >0.5714</td>\n",
       "                        <td id=\"T_23449d74_f013_11ea_9a89_7cd30a80f0bfrow5_col3\" class=\"data row5 col3\" >0.8000</td>\n",
       "                        <td id=\"T_23449d74_f013_11ea_9a89_7cd30a80f0bfrow5_col4\" class=\"data row5 col4\" >0.6667</td>\n",
       "                        <td id=\"T_23449d74_f013_11ea_9a89_7cd30a80f0bfrow5_col5\" class=\"data row5 col5\" >0.5385</td>\n",
       "                        <td id=\"T_23449d74_f013_11ea_9a89_7cd30a80f0bfrow5_col6\" class=\"data row5 col6\" >0.5534</td>\n",
       "            </tr>\n",
       "            <tr>\n",
       "                        <th id=\"T_23449d74_f013_11ea_9a89_7cd30a80f0bflevel0_row6\" class=\"row_heading level0 row6\" >6</th>\n",
       "                        <td id=\"T_23449d74_f013_11ea_9a89_7cd30a80f0bfrow6_col0\" class=\"data row6 col0\" >0.8571</td>\n",
       "                        <td id=\"T_23449d74_f013_11ea_9a89_7cd30a80f0bfrow6_col1\" class=\"data row6 col1\" >0.9184</td>\n",
       "                        <td id=\"T_23449d74_f013_11ea_9a89_7cd30a80f0bfrow6_col2\" class=\"data row6 col2\" >0.7143</td>\n",
       "                        <td id=\"T_23449d74_f013_11ea_9a89_7cd30a80f0bfrow6_col3\" class=\"data row6 col3\" >0.8333</td>\n",
       "                        <td id=\"T_23449d74_f013_11ea_9a89_7cd30a80f0bfrow6_col4\" class=\"data row6 col4\" >0.7692</td>\n",
       "                        <td id=\"T_23449d74_f013_11ea_9a89_7cd30a80f0bfrow6_col5\" class=\"data row6 col5\" >0.6667</td>\n",
       "                        <td id=\"T_23449d74_f013_11ea_9a89_7cd30a80f0bfrow6_col6\" class=\"data row6 col6\" >0.6708</td>\n",
       "            </tr>\n",
       "            <tr>\n",
       "                        <th id=\"T_23449d74_f013_11ea_9a89_7cd30a80f0bflevel0_row7\" class=\"row_heading level0 row7\" >7</th>\n",
       "                        <td id=\"T_23449d74_f013_11ea_9a89_7cd30a80f0bfrow7_col0\" class=\"data row7 col0\" >0.7143</td>\n",
       "                        <td id=\"T_23449d74_f013_11ea_9a89_7cd30a80f0bfrow7_col1\" class=\"data row7 col1\" >0.8673</td>\n",
       "                        <td id=\"T_23449d74_f013_11ea_9a89_7cd30a80f0bfrow7_col2\" class=\"data row7 col2\" >0.4286</td>\n",
       "                        <td id=\"T_23449d74_f013_11ea_9a89_7cd30a80f0bfrow7_col3\" class=\"data row7 col3\" >0.6000</td>\n",
       "                        <td id=\"T_23449d74_f013_11ea_9a89_7cd30a80f0bfrow7_col4\" class=\"data row7 col4\" >0.5000</td>\n",
       "                        <td id=\"T_23449d74_f013_11ea_9a89_7cd30a80f0bfrow7_col5\" class=\"data row7 col5\" >0.3077</td>\n",
       "                        <td id=\"T_23449d74_f013_11ea_9a89_7cd30a80f0bfrow7_col6\" class=\"data row7 col6\" >0.3162</td>\n",
       "            </tr>\n",
       "            <tr>\n",
       "                        <th id=\"T_23449d74_f013_11ea_9a89_7cd30a80f0bflevel0_row8\" class=\"row_heading level0 row8\" >8</th>\n",
       "                        <td id=\"T_23449d74_f013_11ea_9a89_7cd30a80f0bfrow8_col0\" class=\"data row8 col0\" >0.8095</td>\n",
       "                        <td id=\"T_23449d74_f013_11ea_9a89_7cd30a80f0bfrow8_col1\" class=\"data row8 col1\" >0.8469</td>\n",
       "                        <td id=\"T_23449d74_f013_11ea_9a89_7cd30a80f0bfrow8_col2\" class=\"data row8 col2\" >0.4286</td>\n",
       "                        <td id=\"T_23449d74_f013_11ea_9a89_7cd30a80f0bfrow8_col3\" class=\"data row8 col3\" >1.0000</td>\n",
       "                        <td id=\"T_23449d74_f013_11ea_9a89_7cd30a80f0bfrow8_col4\" class=\"data row8 col4\" >0.6000</td>\n",
       "                        <td id=\"T_23449d74_f013_11ea_9a89_7cd30a80f0bfrow8_col5\" class=\"data row8 col5\" >0.5000</td>\n",
       "                        <td id=\"T_23449d74_f013_11ea_9a89_7cd30a80f0bfrow8_col6\" class=\"data row8 col6\" >0.5774</td>\n",
       "            </tr>\n",
       "            <tr>\n",
       "                        <th id=\"T_23449d74_f013_11ea_9a89_7cd30a80f0bflevel0_row9\" class=\"row_heading level0 row9\" >9</th>\n",
       "                        <td id=\"T_23449d74_f013_11ea_9a89_7cd30a80f0bfrow9_col0\" class=\"data row9 col0\" >0.8500</td>\n",
       "                        <td id=\"T_23449d74_f013_11ea_9a89_7cd30a80f0bfrow9_col1\" class=\"data row9 col1\" >0.9643</td>\n",
       "                        <td id=\"T_23449d74_f013_11ea_9a89_7cd30a80f0bfrow9_col2\" class=\"data row9 col2\" >1.0000</td>\n",
       "                        <td id=\"T_23449d74_f013_11ea_9a89_7cd30a80f0bfrow9_col3\" class=\"data row9 col3\" >0.6667</td>\n",
       "                        <td id=\"T_23449d74_f013_11ea_9a89_7cd30a80f0bfrow9_col4\" class=\"data row9 col4\" >0.8000</td>\n",
       "                        <td id=\"T_23449d74_f013_11ea_9a89_7cd30a80f0bfrow9_col5\" class=\"data row9 col5\" >0.6875</td>\n",
       "                        <td id=\"T_23449d74_f013_11ea_9a89_7cd30a80f0bfrow9_col6\" class=\"data row9 col6\" >0.7237</td>\n",
       "            </tr>\n",
       "            <tr>\n",
       "                        <th id=\"T_23449d74_f013_11ea_9a89_7cd30a80f0bflevel0_row10\" class=\"row_heading level0 row10\" >Mean</th>\n",
       "                        <td id=\"T_23449d74_f013_11ea_9a89_7cd30a80f0bfrow10_col0\" class=\"data row10 col0\" >0.7993</td>\n",
       "                        <td id=\"T_23449d74_f013_11ea_9a89_7cd30a80f0bfrow10_col1\" class=\"data row10 col1\" >0.8811</td>\n",
       "                        <td id=\"T_23449d74_f013_11ea_9a89_7cd30a80f0bfrow10_col2\" class=\"data row10 col2\" >0.6476</td>\n",
       "                        <td id=\"T_23449d74_f013_11ea_9a89_7cd30a80f0bfrow10_col3\" class=\"data row10 col3\" >0.7257</td>\n",
       "                        <td id=\"T_23449d74_f013_11ea_9a89_7cd30a80f0bfrow10_col4\" class=\"data row10 col4\" >0.6673</td>\n",
       "                        <td id=\"T_23449d74_f013_11ea_9a89_7cd30a80f0bfrow10_col5\" class=\"data row10 col5\" >0.5273</td>\n",
       "                        <td id=\"T_23449d74_f013_11ea_9a89_7cd30a80f0bfrow10_col6\" class=\"data row10 col6\" >0.5421</td>\n",
       "            </tr>\n",
       "            <tr>\n",
       "                        <th id=\"T_23449d74_f013_11ea_9a89_7cd30a80f0bflevel0_row11\" class=\"row_heading level0 row11\" >SD</th>\n",
       "                        <td id=\"T_23449d74_f013_11ea_9a89_7cd30a80f0bfrow11_col0\" class=\"data row11 col0\" >0.0505</td>\n",
       "                        <td id=\"T_23449d74_f013_11ea_9a89_7cd30a80f0bfrow11_col1\" class=\"data row11 col1\" >0.0660</td>\n",
       "                        <td id=\"T_23449d74_f013_11ea_9a89_7cd30a80f0bfrow11_col2\" class=\"data row11 col2\" >0.1568</td>\n",
       "                        <td id=\"T_23449d74_f013_11ea_9a89_7cd30a80f0bfrow11_col3\" class=\"data row11 col3\" >0.1321</td>\n",
       "                        <td id=\"T_23449d74_f013_11ea_9a89_7cd30a80f0bfrow11_col4\" class=\"data row11 col4\" >0.0922</td>\n",
       "                        <td id=\"T_23449d74_f013_11ea_9a89_7cd30a80f0bfrow11_col5\" class=\"data row11 col5\" >0.1230</td>\n",
       "                        <td id=\"T_23449d74_f013_11ea_9a89_7cd30a80f0bfrow11_col6\" class=\"data row11 col6\" >0.1275</td>\n",
       "            </tr>\n",
       "    </tbody></table>"
      ],
      "text/plain": [
       "<pandas.io.formats.style.Styler at 0x1c5d4946588>"
      ]
     },
     "metadata": {},
     "output_type": "display_data"
    }
   ],
   "source": [
    "\n",
    "# Tune the Model\n",
    "tuned_xgb = pc.tune_model(xgboost_model )"
   ]
  },
  {
   "cell_type": "code",
   "execution_count": 48,
   "metadata": {},
   "outputs": [
    {
     "name": "stdout",
     "output_type": "stream",
     "text": [
      "XGBClassifier(base_score=0.5, booster='gbtree', colsample_bylevel=1,\n",
      "              colsample_bynode=1, colsample_bytree=1, gamma=0, gpu_id=-1,\n",
      "              importance_type='gain', interaction_constraints='',\n",
      "              learning_rate=0.300000012, max_delta_step=0, max_depth=6,\n",
      "              min_child_weight=1, missing=nan, monotone_constraints='()',\n",
      "              n_estimators=100, n_jobs=-1, num_parallel_tree=1,\n",
      "              objective='binary:logistic', random_state=5587, reg_alpha=0,\n",
      "              reg_lambda=1, scale_pos_weight=1, subsample=1,\n",
      "              tree_method='exact', validate_parameters=1, verbosity=0)\n"
     ]
    }
   ],
   "source": [
    "\n",
    "print(xgboost_model)"
   ]
  },
  {
   "cell_type": "code",
   "execution_count": 49,
   "metadata": {},
   "outputs": [
    {
     "name": "stdout",
     "output_type": "stream",
     "text": [
      "XGBClassifier(base_score=0.5, booster='gbtree', colsample_bylevel=1,\n",
      "              colsample_bynode=1, colsample_bytree=0.9, gamma=0, gpu_id=-1,\n",
      "              importance_type='gain', interaction_constraints='',\n",
      "              learning_rate=0.49, max_delta_step=0, max_depth=90,\n",
      "              min_child_weight=2, missing=nan, monotone_constraints='()',\n",
      "              n_estimators=800, n_jobs=-1, num_parallel_tree=1,\n",
      "              objective='binary:logistic', random_state=5587, reg_alpha=0,\n",
      "              reg_lambda=1, scale_pos_weight=1, subsample=0.9,\n",
      "              tree_method='exact', validate_parameters=1, verbosity=0)\n"
     ]
    }
   ],
   "source": [
    "print(tuned_xgb)"
   ]
  },
  {
   "cell_type": "code",
   "execution_count": 50,
   "metadata": {},
   "outputs": [
    {
     "data": {
      "text/html": [
       "<style  type=\"text/css\" >\n",
       "#T_25a92408_f013_11ea_b6df_7cd30a80f0bfrow10_col0,#T_25a92408_f013_11ea_b6df_7cd30a80f0bfrow10_col1,#T_25a92408_f013_11ea_b6df_7cd30a80f0bfrow10_col2,#T_25a92408_f013_11ea_b6df_7cd30a80f0bfrow10_col3,#T_25a92408_f013_11ea_b6df_7cd30a80f0bfrow10_col4,#T_25a92408_f013_11ea_b6df_7cd30a80f0bfrow10_col5,#T_25a92408_f013_11ea_b6df_7cd30a80f0bfrow10_col6{\n",
       "            background:  yellow;\n",
       "        }</style><table id=\"T_25a92408_f013_11ea_b6df_7cd30a80f0bf\" ><thead>    <tr>        <th class=\"blank level0\" ></th>        <th class=\"col_heading level0 col0\" >Accuracy</th>        <th class=\"col_heading level0 col1\" >AUC</th>        <th class=\"col_heading level0 col2\" >Recall</th>        <th class=\"col_heading level0 col3\" >Prec.</th>        <th class=\"col_heading level0 col4\" >F1</th>        <th class=\"col_heading level0 col5\" >Kappa</th>        <th class=\"col_heading level0 col6\" >MCC</th>    </tr></thead><tbody>\n",
       "                <tr>\n",
       "                        <th id=\"T_25a92408_f013_11ea_b6df_7cd30a80f0bflevel0_row0\" class=\"row_heading level0 row0\" >0</th>\n",
       "                        <td id=\"T_25a92408_f013_11ea_b6df_7cd30a80f0bfrow0_col0\" class=\"data row0 col0\" >0.8095</td>\n",
       "                        <td id=\"T_25a92408_f013_11ea_b6df_7cd30a80f0bfrow0_col1\" class=\"data row0 col1\" >0.7667</td>\n",
       "                        <td id=\"T_25a92408_f013_11ea_b6df_7cd30a80f0bfrow0_col2\" class=\"data row0 col2\" >0.6667</td>\n",
       "                        <td id=\"T_25a92408_f013_11ea_b6df_7cd30a80f0bfrow0_col3\" class=\"data row0 col3\" >0.6667</td>\n",
       "                        <td id=\"T_25a92408_f013_11ea_b6df_7cd30a80f0bfrow0_col4\" class=\"data row0 col4\" >0.6667</td>\n",
       "                        <td id=\"T_25a92408_f013_11ea_b6df_7cd30a80f0bfrow0_col5\" class=\"data row0 col5\" >0.5333</td>\n",
       "                        <td id=\"T_25a92408_f013_11ea_b6df_7cd30a80f0bfrow0_col6\" class=\"data row0 col6\" >0.5333</td>\n",
       "            </tr>\n",
       "            <tr>\n",
       "                        <th id=\"T_25a92408_f013_11ea_b6df_7cd30a80f0bflevel0_row1\" class=\"row_heading level0 row1\" >1</th>\n",
       "                        <td id=\"T_25a92408_f013_11ea_b6df_7cd30a80f0bfrow1_col0\" class=\"data row1 col0\" >0.7619</td>\n",
       "                        <td id=\"T_25a92408_f013_11ea_b6df_7cd30a80f0bfrow1_col1\" class=\"data row1 col1\" >0.8556</td>\n",
       "                        <td id=\"T_25a92408_f013_11ea_b6df_7cd30a80f0bfrow1_col2\" class=\"data row1 col2\" >0.6667</td>\n",
       "                        <td id=\"T_25a92408_f013_11ea_b6df_7cd30a80f0bfrow1_col3\" class=\"data row1 col3\" >0.5714</td>\n",
       "                        <td id=\"T_25a92408_f013_11ea_b6df_7cd30a80f0bfrow1_col4\" class=\"data row1 col4\" >0.6154</td>\n",
       "                        <td id=\"T_25a92408_f013_11ea_b6df_7cd30a80f0bfrow1_col5\" class=\"data row1 col5\" >0.4444</td>\n",
       "                        <td id=\"T_25a92408_f013_11ea_b6df_7cd30a80f0bfrow1_col6\" class=\"data row1 col6\" >0.4472</td>\n",
       "            </tr>\n",
       "            <tr>\n",
       "                        <th id=\"T_25a92408_f013_11ea_b6df_7cd30a80f0bflevel0_row2\" class=\"row_heading level0 row2\" >2</th>\n",
       "                        <td id=\"T_25a92408_f013_11ea_b6df_7cd30a80f0bfrow2_col0\" class=\"data row2 col0\" >0.8571</td>\n",
       "                        <td id=\"T_25a92408_f013_11ea_b6df_7cd30a80f0bfrow2_col1\" class=\"data row2 col1\" >0.9592</td>\n",
       "                        <td id=\"T_25a92408_f013_11ea_b6df_7cd30a80f0bfrow2_col2\" class=\"data row2 col2\" >0.7143</td>\n",
       "                        <td id=\"T_25a92408_f013_11ea_b6df_7cd30a80f0bfrow2_col3\" class=\"data row2 col3\" >0.8333</td>\n",
       "                        <td id=\"T_25a92408_f013_11ea_b6df_7cd30a80f0bfrow2_col4\" class=\"data row2 col4\" >0.7692</td>\n",
       "                        <td id=\"T_25a92408_f013_11ea_b6df_7cd30a80f0bfrow2_col5\" class=\"data row2 col5\" >0.6667</td>\n",
       "                        <td id=\"T_25a92408_f013_11ea_b6df_7cd30a80f0bfrow2_col6\" class=\"data row2 col6\" >0.6708</td>\n",
       "            </tr>\n",
       "            <tr>\n",
       "                        <th id=\"T_25a92408_f013_11ea_b6df_7cd30a80f0bflevel0_row3\" class=\"row_heading level0 row3\" >3</th>\n",
       "                        <td id=\"T_25a92408_f013_11ea_b6df_7cd30a80f0bfrow3_col0\" class=\"data row3 col0\" >0.7143</td>\n",
       "                        <td id=\"T_25a92408_f013_11ea_b6df_7cd30a80f0bfrow3_col1\" class=\"data row3 col1\" >0.7857</td>\n",
       "                        <td id=\"T_25a92408_f013_11ea_b6df_7cd30a80f0bfrow3_col2\" class=\"data row3 col2\" >0.5714</td>\n",
       "                        <td id=\"T_25a92408_f013_11ea_b6df_7cd30a80f0bfrow3_col3\" class=\"data row3 col3\" >0.5714</td>\n",
       "                        <td id=\"T_25a92408_f013_11ea_b6df_7cd30a80f0bfrow3_col4\" class=\"data row3 col4\" >0.5714</td>\n",
       "                        <td id=\"T_25a92408_f013_11ea_b6df_7cd30a80f0bfrow3_col5\" class=\"data row3 col5\" >0.3571</td>\n",
       "                        <td id=\"T_25a92408_f013_11ea_b6df_7cd30a80f0bfrow3_col6\" class=\"data row3 col6\" >0.3571</td>\n",
       "            </tr>\n",
       "            <tr>\n",
       "                        <th id=\"T_25a92408_f013_11ea_b6df_7cd30a80f0bflevel0_row4\" class=\"row_heading level0 row4\" >4</th>\n",
       "                        <td id=\"T_25a92408_f013_11ea_b6df_7cd30a80f0bfrow4_col0\" class=\"data row4 col0\" >0.8095</td>\n",
       "                        <td id=\"T_25a92408_f013_11ea_b6df_7cd30a80f0bfrow4_col1\" class=\"data row4 col1\" >0.8980</td>\n",
       "                        <td id=\"T_25a92408_f013_11ea_b6df_7cd30a80f0bfrow4_col2\" class=\"data row4 col2\" >0.7143</td>\n",
       "                        <td id=\"T_25a92408_f013_11ea_b6df_7cd30a80f0bfrow4_col3\" class=\"data row4 col3\" >0.7143</td>\n",
       "                        <td id=\"T_25a92408_f013_11ea_b6df_7cd30a80f0bfrow4_col4\" class=\"data row4 col4\" >0.7143</td>\n",
       "                        <td id=\"T_25a92408_f013_11ea_b6df_7cd30a80f0bfrow4_col5\" class=\"data row4 col5\" >0.5714</td>\n",
       "                        <td id=\"T_25a92408_f013_11ea_b6df_7cd30a80f0bfrow4_col6\" class=\"data row4 col6\" >0.5714</td>\n",
       "            </tr>\n",
       "            <tr>\n",
       "                        <th id=\"T_25a92408_f013_11ea_b6df_7cd30a80f0bflevel0_row5\" class=\"row_heading level0 row5\" >5</th>\n",
       "                        <td id=\"T_25a92408_f013_11ea_b6df_7cd30a80f0bfrow5_col0\" class=\"data row5 col0\" >0.8095</td>\n",
       "                        <td id=\"T_25a92408_f013_11ea_b6df_7cd30a80f0bfrow5_col1\" class=\"data row5 col1\" >0.9490</td>\n",
       "                        <td id=\"T_25a92408_f013_11ea_b6df_7cd30a80f0bfrow5_col2\" class=\"data row5 col2\" >0.5714</td>\n",
       "                        <td id=\"T_25a92408_f013_11ea_b6df_7cd30a80f0bfrow5_col3\" class=\"data row5 col3\" >0.8000</td>\n",
       "                        <td id=\"T_25a92408_f013_11ea_b6df_7cd30a80f0bfrow5_col4\" class=\"data row5 col4\" >0.6667</td>\n",
       "                        <td id=\"T_25a92408_f013_11ea_b6df_7cd30a80f0bfrow5_col5\" class=\"data row5 col5\" >0.5385</td>\n",
       "                        <td id=\"T_25a92408_f013_11ea_b6df_7cd30a80f0bfrow5_col6\" class=\"data row5 col6\" >0.5534</td>\n",
       "            </tr>\n",
       "            <tr>\n",
       "                        <th id=\"T_25a92408_f013_11ea_b6df_7cd30a80f0bflevel0_row6\" class=\"row_heading level0 row6\" >6</th>\n",
       "                        <td id=\"T_25a92408_f013_11ea_b6df_7cd30a80f0bfrow6_col0\" class=\"data row6 col0\" >0.8571</td>\n",
       "                        <td id=\"T_25a92408_f013_11ea_b6df_7cd30a80f0bfrow6_col1\" class=\"data row6 col1\" >0.9184</td>\n",
       "                        <td id=\"T_25a92408_f013_11ea_b6df_7cd30a80f0bfrow6_col2\" class=\"data row6 col2\" >0.7143</td>\n",
       "                        <td id=\"T_25a92408_f013_11ea_b6df_7cd30a80f0bfrow6_col3\" class=\"data row6 col3\" >0.8333</td>\n",
       "                        <td id=\"T_25a92408_f013_11ea_b6df_7cd30a80f0bfrow6_col4\" class=\"data row6 col4\" >0.7692</td>\n",
       "                        <td id=\"T_25a92408_f013_11ea_b6df_7cd30a80f0bfrow6_col5\" class=\"data row6 col5\" >0.6667</td>\n",
       "                        <td id=\"T_25a92408_f013_11ea_b6df_7cd30a80f0bfrow6_col6\" class=\"data row6 col6\" >0.6708</td>\n",
       "            </tr>\n",
       "            <tr>\n",
       "                        <th id=\"T_25a92408_f013_11ea_b6df_7cd30a80f0bflevel0_row7\" class=\"row_heading level0 row7\" >7</th>\n",
       "                        <td id=\"T_25a92408_f013_11ea_b6df_7cd30a80f0bfrow7_col0\" class=\"data row7 col0\" >0.7143</td>\n",
       "                        <td id=\"T_25a92408_f013_11ea_b6df_7cd30a80f0bfrow7_col1\" class=\"data row7 col1\" >0.8673</td>\n",
       "                        <td id=\"T_25a92408_f013_11ea_b6df_7cd30a80f0bfrow7_col2\" class=\"data row7 col2\" >0.4286</td>\n",
       "                        <td id=\"T_25a92408_f013_11ea_b6df_7cd30a80f0bfrow7_col3\" class=\"data row7 col3\" >0.6000</td>\n",
       "                        <td id=\"T_25a92408_f013_11ea_b6df_7cd30a80f0bfrow7_col4\" class=\"data row7 col4\" >0.5000</td>\n",
       "                        <td id=\"T_25a92408_f013_11ea_b6df_7cd30a80f0bfrow7_col5\" class=\"data row7 col5\" >0.3077</td>\n",
       "                        <td id=\"T_25a92408_f013_11ea_b6df_7cd30a80f0bfrow7_col6\" class=\"data row7 col6\" >0.3162</td>\n",
       "            </tr>\n",
       "            <tr>\n",
       "                        <th id=\"T_25a92408_f013_11ea_b6df_7cd30a80f0bflevel0_row8\" class=\"row_heading level0 row8\" >8</th>\n",
       "                        <td id=\"T_25a92408_f013_11ea_b6df_7cd30a80f0bfrow8_col0\" class=\"data row8 col0\" >0.8095</td>\n",
       "                        <td id=\"T_25a92408_f013_11ea_b6df_7cd30a80f0bfrow8_col1\" class=\"data row8 col1\" >0.8469</td>\n",
       "                        <td id=\"T_25a92408_f013_11ea_b6df_7cd30a80f0bfrow8_col2\" class=\"data row8 col2\" >0.4286</td>\n",
       "                        <td id=\"T_25a92408_f013_11ea_b6df_7cd30a80f0bfrow8_col3\" class=\"data row8 col3\" >1.0000</td>\n",
       "                        <td id=\"T_25a92408_f013_11ea_b6df_7cd30a80f0bfrow8_col4\" class=\"data row8 col4\" >0.6000</td>\n",
       "                        <td id=\"T_25a92408_f013_11ea_b6df_7cd30a80f0bfrow8_col5\" class=\"data row8 col5\" >0.5000</td>\n",
       "                        <td id=\"T_25a92408_f013_11ea_b6df_7cd30a80f0bfrow8_col6\" class=\"data row8 col6\" >0.5774</td>\n",
       "            </tr>\n",
       "            <tr>\n",
       "                        <th id=\"T_25a92408_f013_11ea_b6df_7cd30a80f0bflevel0_row9\" class=\"row_heading level0 row9\" >9</th>\n",
       "                        <td id=\"T_25a92408_f013_11ea_b6df_7cd30a80f0bfrow9_col0\" class=\"data row9 col0\" >0.8500</td>\n",
       "                        <td id=\"T_25a92408_f013_11ea_b6df_7cd30a80f0bfrow9_col1\" class=\"data row9 col1\" >0.9643</td>\n",
       "                        <td id=\"T_25a92408_f013_11ea_b6df_7cd30a80f0bfrow9_col2\" class=\"data row9 col2\" >1.0000</td>\n",
       "                        <td id=\"T_25a92408_f013_11ea_b6df_7cd30a80f0bfrow9_col3\" class=\"data row9 col3\" >0.6667</td>\n",
       "                        <td id=\"T_25a92408_f013_11ea_b6df_7cd30a80f0bfrow9_col4\" class=\"data row9 col4\" >0.8000</td>\n",
       "                        <td id=\"T_25a92408_f013_11ea_b6df_7cd30a80f0bfrow9_col5\" class=\"data row9 col5\" >0.6875</td>\n",
       "                        <td id=\"T_25a92408_f013_11ea_b6df_7cd30a80f0bfrow9_col6\" class=\"data row9 col6\" >0.7237</td>\n",
       "            </tr>\n",
       "            <tr>\n",
       "                        <th id=\"T_25a92408_f013_11ea_b6df_7cd30a80f0bflevel0_row10\" class=\"row_heading level0 row10\" >Mean</th>\n",
       "                        <td id=\"T_25a92408_f013_11ea_b6df_7cd30a80f0bfrow10_col0\" class=\"data row10 col0\" >0.7993</td>\n",
       "                        <td id=\"T_25a92408_f013_11ea_b6df_7cd30a80f0bfrow10_col1\" class=\"data row10 col1\" >0.8811</td>\n",
       "                        <td id=\"T_25a92408_f013_11ea_b6df_7cd30a80f0bfrow10_col2\" class=\"data row10 col2\" >0.6476</td>\n",
       "                        <td id=\"T_25a92408_f013_11ea_b6df_7cd30a80f0bfrow10_col3\" class=\"data row10 col3\" >0.7257</td>\n",
       "                        <td id=\"T_25a92408_f013_11ea_b6df_7cd30a80f0bfrow10_col4\" class=\"data row10 col4\" >0.6673</td>\n",
       "                        <td id=\"T_25a92408_f013_11ea_b6df_7cd30a80f0bfrow10_col5\" class=\"data row10 col5\" >0.5273</td>\n",
       "                        <td id=\"T_25a92408_f013_11ea_b6df_7cd30a80f0bfrow10_col6\" class=\"data row10 col6\" >0.5421</td>\n",
       "            </tr>\n",
       "            <tr>\n",
       "                        <th id=\"T_25a92408_f013_11ea_b6df_7cd30a80f0bflevel0_row11\" class=\"row_heading level0 row11\" >SD</th>\n",
       "                        <td id=\"T_25a92408_f013_11ea_b6df_7cd30a80f0bfrow11_col0\" class=\"data row11 col0\" >0.0505</td>\n",
       "                        <td id=\"T_25a92408_f013_11ea_b6df_7cd30a80f0bfrow11_col1\" class=\"data row11 col1\" >0.0660</td>\n",
       "                        <td id=\"T_25a92408_f013_11ea_b6df_7cd30a80f0bfrow11_col2\" class=\"data row11 col2\" >0.1568</td>\n",
       "                        <td id=\"T_25a92408_f013_11ea_b6df_7cd30a80f0bfrow11_col3\" class=\"data row11 col3\" >0.1321</td>\n",
       "                        <td id=\"T_25a92408_f013_11ea_b6df_7cd30a80f0bfrow11_col4\" class=\"data row11 col4\" >0.0922</td>\n",
       "                        <td id=\"T_25a92408_f013_11ea_b6df_7cd30a80f0bfrow11_col5\" class=\"data row11 col5\" >0.1230</td>\n",
       "                        <td id=\"T_25a92408_f013_11ea_b6df_7cd30a80f0bfrow11_col6\" class=\"data row11 col6\" >0.1275</td>\n",
       "            </tr>\n",
       "    </tbody></table>"
      ],
      "text/plain": [
       "<pandas.io.formats.style.Styler at 0x1c5d495ffc8>"
      ]
     },
     "metadata": {},
     "output_type": "display_data"
    }
   ],
   "source": [
    "# Optimize The Model \n",
    "tuned_xgb_optimized = pc.tune_model(xgboost_model,optimize='Accuracy')"
   ]
  },
  {
   "cell_type": "code",
   "execution_count": 51,
   "metadata": {},
   "outputs": [
    {
     "data": {
      "application/vnd.jupyter.widget-view+json": {
       "model_id": "a5170afc940644b4b49e4a9e5b087296",
       "version_major": 2,
       "version_minor": 0
      },
      "text/plain": [
       "interactive(children=(ToggleButtons(description='Plot Type:', icons=('',), options=(('Hyperparameters', 'param…"
      ]
     },
     "metadata": {},
     "output_type": "display_data"
    }
   ],
   "source": [
    "\n",
    "###  Evaluate the Model\n",
    "pc.evaluate_model(tuned_xgb)"
   ]
  },
  {
   "cell_type": "code",
   "execution_count": 52,
   "metadata": {},
   "outputs": [
    {
     "data": {
      "image/png": "[encoded data removed]",
      "text/plain": [
       "<Figure size 576x396 with 1 Axes>"
      ]
     },
     "metadata": {},
     "output_type": "display_data"
    }
   ],
   "source": [
    "\n",
    "# Plot Performance of Model\n",
    "pc.plot_model(tuned_xgb)"
   ]
  },
  {
   "cell_type": "code",
   "execution_count": 53,
   "metadata": {},
   "outputs": [
    {
     "data": {
      "image/png": "[encoded data removed]",
      "text/plain": [
       "<Figure size 576x396 with 1 Axes>"
      ]
     },
     "metadata": {},
     "output_type": "display_data"
    }
   ],
   "source": [
    "# Plot Prediction Error of Model\n",
    "pc.plot_model(tuned_xgb,plot='error')"
   ]
  },
  {
   "cell_type": "code",
   "execution_count": 54,
   "metadata": {},
   "outputs": [
    {
     "data": {
      "image/png": "[encoded data removed]",
      "text/plain": [
       "<Figure size 576x396 with 1 Axes>"
      ]
     },
     "metadata": {},
     "output_type": "display_data"
    }
   ],
   "source": [
    "\n",
    "# Plot Confusion Matrix\n",
    "pc.plot_model(tuned_xgb,plot='confusion_matrix')"
   ]
  },
  {
   "cell_type": "code",
   "execution_count": 55,
   "metadata": {},
   "outputs": [
    {
     "data": {
      "image/png": "[encoded data removed]",
      "text/plain": [
       "<Figure size 800x500 with 1 Axes>"
      ]
     },
     "metadata": {},
     "output_type": "display_data"
    }
   ],
   "source": [
    "# Feature Importance\n",
    "pc.plot_model(tuned_xgb,plot='feature')"
   ]
  },
  {
   "cell_type": "code",
   "execution_count": 56,
   "metadata": {},
   "outputs": [
    {
     "data": {
      "image/png": "[encoded data removed]",
      "text/plain": [
       "<Figure size 576x396 with 1 Axes>"
      ]
     },
     "metadata": {},
     "output_type": "display_data"
    }
   ],
   "source": [
    "\n",
    "# Validation Curve\n",
    "pc.plot_model(tuned_xgb,plot='vc')"
   ]
  },
  {
   "cell_type": "code",
   "execution_count": 57,
   "metadata": {},
   "outputs": [
    {
     "data": {
      "text/html": [
       "        <script type=\"text/javascript\">\n",
       "        window.PlotlyConfig = {MathJaxConfig: 'local'};\n",
       "        if (window.MathJax) {MathJax.Hub.Config({SVG: {font: \"STIX-Web\"}});}\n",
       "        if (typeof require !== 'undefined') {\n",
       "        require.undef(\"plotly\");\n",
       "        requirejs.config({\n",
       "            paths: {\n",
       "                'plotly': ['https://cdn.plot.ly/plotly-latest.min']\n",
       "            }\n",
       "        });\n",
       "        require(['plotly'], function(Plotly) {\n",
       "            window._Plotly = Plotly;\n",
       "        });\n",
       "        }\n",
       "        </script>\n",
       "        "
      ]
     },
     "metadata": {},
     "output_type": "display_data"
    },
    {
     "data": {
      "application/vnd.plotly.v1+json": {
       "config": {
        "plotlyServerURL": "https://plot.ly"
       },
       "data": [
        {
         "hovertemplate": "Probability Threshold=%{x}<br>Cost Function=%{y}<extra></extra>",
         "legendgroup": "",
         "line": {
          "color": "#636efa",
          "dash": "solid",
          "shape": "linear"
         },
         "mode": "lines",
         "name": "",
         "orientation": "v",
         "showlegend": false,
         "type": "scatter",
         "x": [
          0,
          0.01,
          0.02,
          0.03,
          0.04,
          0.05,
          0.06,
          0.07,
          0.08,
          0.09,
          0.1,
          0.11,
          0.12,
          0.13,
          0.14,
          0.15,
          0.16,
          0.17,
          0.18,
          0.19,
          0.2,
          0.21,
          0.22,
          0.23,
          0.24,
          0.25,
          0.26,
          0.27,
          0.28,
          0.29,
          0.3,
          0.31,
          0.32,
          0.33,
          0.34,
          0.35000000000000003,
          0.36,
          0.37,
          0.38,
          0.39,
          0.4,
          0.41000000000000003,
          0.42,
          0.43,
          0.44,
          0.45,
          0.46,
          0.47000000000000003,
          0.48,
          0.49,
          0.5,
          0.51,
          0.52,
          0.53,
          0.54,
          0.55,
          0.56,
          0.5700000000000001,
          0.58,
          0.59,
          0.6,
          0.61,
          0.62,
          0.63,
          0.64,
          0.65,
          0.66,
          0.67,
          0.68,
          0.6900000000000001,
          0.7000000000000001,
          0.71,
          0.72,
          0.73,
          0.74,
          0.75,
          0.76,
          0.77,
          0.78,
          0.79,
          0.8,
          0.81,
          0.8200000000000001,
          0.8300000000000001,
          0.84,
          0.85,
          0.86,
          0.87,
          0.88,
          0.89,
          0.9,
          0.91,
          0.92,
          0.93,
          0.9400000000000001,
          0.9500000000000001,
          0.96,
          0.97,
          0.98,
          0.99
         ],
         "xaxis": "x",
         "y": [
          0,
          52500,
          57000,
          60000,
          61500,
          61500,
          63000,
          66000,
          61000,
          57500,
          57500,
          49000,
          49000,
          49000,
          49000,
          49000,
          49000,
          44000,
          45500,
          45500,
          45500,
          35500,
          35500,
          35500,
          35500,
          35500,
          35500,
          35500,
          35500,
          35500,
          35500,
          35500,
          38500,
          40000,
          41500,
          43000,
          43000,
          43000,
          43000,
          43000,
          43000,
          44500,
          44500,
          44500,
          44500,
          44500,
          44500,
          44500,
          44500,
          44500,
          44500,
          44500,
          44500,
          44500,
          44500,
          44500,
          44500,
          39500,
          39500,
          39500,
          41000,
          41000,
          41000,
          41000,
          41000,
          41000,
          36000,
          36000,
          36000,
          36000,
          36000,
          36000,
          36000,
          36000,
          36000,
          36000,
          36000,
          36000,
          37500,
          32500,
          32500,
          32500,
          32500,
          27500,
          22500,
          22500,
          22500,
          17500,
          17500,
          17500,
          19000,
          19000,
          14000,
          10500,
          10500,
          10500,
          5500,
          500,
          -11500,
          -15000
         ],
         "yaxis": "y"
        }
       ],
       "layout": {
        "legend": {
         "tracegroupgap": 0
        },
        "margin": {
         "t": 60
        },
        "plot_bgcolor": "rgb(245,245,245)",
        "shapes": [
         {
          "line": {
           "color": "red",
           "width": 2
          },
          "type": "line",
          "x0": 0.07,
          "x1": 0.07,
          "y0": -15000,
          "y1": 66000
         }
        ],
        "template": {
         "data": {
          "bar": [
           {
            "error_x": {
             "color": "#2a3f5f"
            },
            "error_y": {
             "color": "#2a3f5f"
            },
            "marker": {
             "line": {
              "color": "#E5ECF6",
              "width": 0.5
             }
            },
            "type": "bar"
           }
          ],
          "barpolar": [
           {
            "marker": {
             "line": {
              "color": "#E5ECF6",
              "width": 0.5
             }
            },
            "type": "barpolar"
           }
          ],
          "carpet": [
           {
            "aaxis": {
             "endlinecolor": "#2a3f5f",
             "gridcolor": "white",
             "linecolor": "white",
             "minorgridcolor": "white",
             "startlinecolor": "#2a3f5f"
            },
            "baxis": {
             "endlinecolor": "#2a3f5f",
             "gridcolor": "white",
             "linecolor": "white",
             "minorgridcolor": "white",
             "startlinecolor": "#2a3f5f"
            },
            "type": "carpet"
           }
          ],
          "choropleth": [
           {
            "colorbar": {
             "outlinewidth": 0,
             "ticks": ""
            },
            "type": "choropleth"
           }
          ],
          "contour": [
           {
            "colorbar": {
             "outlinewidth": 0,
             "ticks": ""
            },
            "colorscale": [
             [
              0,
              "#0d0887"
             ],
             [
              0.1111111111111111,
              "#46039f"
             ],
             [
              0.2222222222222222,
              "#7201a8"
             ],
             [
              0.3333333333333333,
              "#9c179e"
             ],
             [
              0.4444444444444444,
              "#bd3786"
             ],
             [
              0.5555555555555556,
              "#d8576b"
             ],
             [
              0.6666666666666666,
              "#ed7953"
             ],
             [
              0.7777777777777778,
              "#fb9f3a"
             ],
             [
              0.8888888888888888,
              "#fdca26"
             ],
             [
              1,
              "#f0f921"
             ]
            ],
            "type": "contour"
           }
          ],
          "contourcarpet": [
           {
            "colorbar": {
             "outlinewidth": 0,
             "ticks": ""
            },
            "type": "contourcarpet"
           }
          ],
          "heatmap": [
           {
            "colorbar": {
             "outlinewidth": 0,
             "ticks": ""
            },
            "colorscale": [
             [
              0,
              "#0d0887"
             ],
             [
              0.1111111111111111,
              "#46039f"
             ],
             [
              0.2222222222222222,
              "#7201a8"
             ],
             [
              0.3333333333333333,
              "#9c179e"
             ],
             [
              0.4444444444444444,
              "#bd3786"
             ],
             [
              0.5555555555555556,
              "#d8576b"
             ],
             [
              0.6666666666666666,
              "#ed7953"
             ],
             [
              0.7777777777777778,
              "#fb9f3a"
             ],
             [
              0.8888888888888888,
              "#fdca26"
             ],
             [
              1,
              "#f0f921"
             ]
            ],
            "type": "heatmap"
           }
          ],
          "heatmapgl": [
           {
            "colorbar": {
             "outlinewidth": 0,
             "ticks": ""
            },
            "colorscale": [
             [
              0,
              "#0d0887"
             ],
             [
              0.1111111111111111,
              "#46039f"
             ],
             [
              0.2222222222222222,
              "#7201a8"
             ],
             [
              0.3333333333333333,
              "#9c179e"
             ],
             [
              0.4444444444444444,
              "#bd3786"
             ],
             [
              0.5555555555555556,
              "#d8576b"
             ],
             [
              0.6666666666666666,
              "#ed7953"
             ],
             [
              0.7777777777777778,
              "#fb9f3a"
             ],
             [
              0.8888888888888888,
              "#fdca26"
             ],
             [
              1,
              "#f0f921"
             ]
            ],
            "type": "heatmapgl"
           }
          ],
          "histogram": [
           {
            "marker": {
             "colorbar": {
              "outlinewidth": 0,
              "ticks": ""
             }
            },
            "type": "histogram"
           }
          ],
          "histogram2d": [
           {
            "colorbar": {
             "outlinewidth": 0,
             "ticks": ""
            },
            "colorscale": [
             [
              0,
              "#0d0887"
             ],
             [
              0.1111111111111111,
              "#46039f"
             ],
             [
              0.2222222222222222,
              "#7201a8"
             ],
             [
              0.3333333333333333,
              "#9c179e"
             ],
             [
              0.4444444444444444,
              "#bd3786"
             ],
             [
              0.5555555555555556,
              "#d8576b"
             ],
             [
              0.6666666666666666,
              "#ed7953"
             ],
             [
              0.7777777777777778,
              "#fb9f3a"
             ],
             [
              0.8888888888888888,
              "#fdca26"
             ],
             [
              1,
              "#f0f921"
             ]
            ],
            "type": "histogram2d"
           }
          ],
          "histogram2dcontour": [
           {
            "colorbar": {
             "outlinewidth": 0,
             "ticks": ""
            },
            "colorscale": [
             [
              0,
              "#0d0887"
             ],
             [
              0.1111111111111111,
              "#46039f"
             ],
             [
              0.2222222222222222,
              "#7201a8"
             ],
             [
              0.3333333333333333,
              "#9c179e"
             ],
             [
              0.4444444444444444,
              "#bd3786"
             ],
             [
              0.5555555555555556,
              "#d8576b"
             ],
             [
              0.6666666666666666,
              "#ed7953"
             ],
             [
              0.7777777777777778,
              "#fb9f3a"
             ],
             [
              0.8888888888888888,
              "#fdca26"
             ],
             [
              1,
              "#f0f921"
             ]
            ],
            "type": "histogram2dcontour"
           }
          ],
          "mesh3d": [
           {
            "colorbar": {
             "outlinewidth": 0,
             "ticks": ""
            },
            "type": "mesh3d"
           }
          ],
          "parcoords": [
           {
            "line": {
             "colorbar": {
              "outlinewidth": 0,
              "ticks": ""
             }
            },
            "type": "parcoords"
           }
          ],
          "pie": [
           {
            "automargin": true,
            "type": "pie"
           }
          ],
          "scatter": [
           {
            "marker": {
             "colorbar": {
              "outlinewidth": 0,
              "ticks": ""
             }
            },
            "type": "scatter"
           }
          ],
          "scatter3d": [
           {
            "line": {
             "colorbar": {
              "outlinewidth": 0,
              "ticks": ""
             }
            },
            "marker": {
             "colorbar": {
              "outlinewidth": 0,
              "ticks": ""
             }
            },
            "type": "scatter3d"
           }
          ],
          "scattercarpet": [
           {
            "marker": {
             "colorbar": {
              "outlinewidth": 0,
              "ticks": ""
             }
            },
            "type": "scattercarpet"
           }
          ],
          "scattergeo": [
           {
            "marker": {
             "colorbar": {
              "outlinewidth": 0,
              "ticks": ""
             }
            },
            "type": "scattergeo"
           }
          ],
          "scattergl": [
           {
            "marker": {
             "colorbar": {
              "outlinewidth": 0,
              "ticks": ""
             }
            },
            "type": "scattergl"
           }
          ],
          "scattermapbox": [
           {
            "marker": {
             "colorbar": {
              "outlinewidth": 0,
              "ticks": ""
             }
            },
            "type": "scattermapbox"
           }
          ],
          "scatterpolar": [
           {
            "marker": {
             "colorbar": {
              "outlinewidth": 0,
              "ticks": ""
             }
            },
            "type": "scatterpolar"
           }
          ],
          "scatterpolargl": [
           {
            "marker": {
             "colorbar": {
              "outlinewidth": 0,
              "ticks": ""
             }
            },
            "type": "scatterpolargl"
           }
          ],
          "scatterternary": [
           {
            "marker": {
             "colorbar": {
              "outlinewidth": 0,
              "ticks": ""
             }
            },
            "type": "scatterternary"
           }
          ],
          "surface": [
           {
            "colorbar": {
             "outlinewidth": 0,
             "ticks": ""
            },
            "colorscale": [
             [
              0,
              "#0d0887"
             ],
             [
              0.1111111111111111,
              "#46039f"
             ],
             [
              0.2222222222222222,
              "#7201a8"
             ],
             [
              0.3333333333333333,
              "#9c179e"
             ],
             [
              0.4444444444444444,
              "#bd3786"
             ],
             [
              0.5555555555555556,
              "#d8576b"
             ],
             [
              0.6666666666666666,
              "#ed7953"
             ],
             [
              0.7777777777777778,
              "#fb9f3a"
             ],
             [
              0.8888888888888888,
              "#fdca26"
             ],
             [
              1,
              "#f0f921"
             ]
            ],
            "type": "surface"
           }
          ],
          "table": [
           {
            "cells": {
             "fill": {
              "color": "#EBF0F8"
             },
             "line": {
              "color": "white"
             }
            },
            "header": {
             "fill": {
              "color": "#C8D4E3"
             },
             "line": {
              "color": "white"
             }
            },
            "type": "table"
           }
          ]
         },
         "layout": {
          "annotationdefaults": {
           "arrowcolor": "#2a3f5f",
           "arrowhead": 0,
           "arrowwidth": 1
          },
          "coloraxis": {
           "colorbar": {
            "outlinewidth": 0,
            "ticks": ""
           }
          },
          "colorscale": {
           "diverging": [
            [
             0,
             "#8e0152"
            ],
            [
             0.1,
             "#c51b7d"
            ],
            [
             0.2,
             "#de77ae"
            ],
            [
             0.3,
             "#f1b6da"
            ],
            [
             0.4,
             "#fde0ef"
            ],
            [
             0.5,
             "#f7f7f7"
            ],
            [
             0.6,
             "#e6f5d0"
            ],
            [
             0.7,
             "#b8e186"
            ],
            [
             0.8,
             "#7fbc41"
            ],
            [
             0.9,
             "#4d9221"
            ],
            [
             1,
             "#276419"
            ]
           ],
           "sequential": [
            [
             0,
             "#0d0887"
            ],
            [
             0.1111111111111111,
             "#46039f"
            ],
            [
             0.2222222222222222,
             "#7201a8"
            ],
            [
             0.3333333333333333,
             "#9c179e"
            ],
            [
             0.4444444444444444,
             "#bd3786"
            ],
            [
             0.5555555555555556,
             "#d8576b"
            ],
            [
             0.6666666666666666,
             "#ed7953"
            ],
            [
             0.7777777777777778,
             "#fb9f3a"
            ],
            [
             0.8888888888888888,
             "#fdca26"
            ],
            [
             1,
             "#f0f921"
            ]
           ],
           "sequentialminus": [
            [
             0,
             "#0d0887"
            ],
            [
             0.1111111111111111,
             "#46039f"
            ],
            [
             0.2222222222222222,
             "#7201a8"
            ],
            [
             0.3333333333333333,
             "#9c179e"
            ],
            [
             0.4444444444444444,
             "#bd3786"
            ],
            [
             0.5555555555555556,
             "#d8576b"
            ],
            [
             0.6666666666666666,
             "#ed7953"
            ],
            [
             0.7777777777777778,
             "#fb9f3a"
            ],
            [
             0.8888888888888888,
             "#fdca26"
            ],
            [
             1,
             "#f0f921"
            ]
           ]
          },
          "colorway": [
           "#636efa",
           "#EF553B",
           "#00cc96",
           "#ab63fa",
           "#FFA15A",
           "#19d3f3",
           "#FF6692",
           "#B6E880",
           "#FF97FF",
           "#FECB52"
          ],
          "font": {
           "color": "#2a3f5f"
          },
          "geo": {
           "bgcolor": "white",
           "lakecolor": "white",
           "landcolor": "#E5ECF6",
           "showlakes": true,
           "showland": true,
           "subunitcolor": "white"
          },
          "hoverlabel": {
           "align": "left"
          },
          "hovermode": "closest",
          "mapbox": {
           "style": "light"
          },
          "paper_bgcolor": "white",
          "plot_bgcolor": "#E5ECF6",
          "polar": {
           "angularaxis": {
            "gridcolor": "white",
            "linecolor": "white",
            "ticks": ""
           },
           "bgcolor": "#E5ECF6",
           "radialaxis": {
            "gridcolor": "white",
            "linecolor": "white",
            "ticks": ""
           }
          },
          "scene": {
           "xaxis": {
            "backgroundcolor": "#E5ECF6",
            "gridcolor": "white",
            "gridwidth": 2,
            "linecolor": "white",
            "showbackground": true,
            "ticks": "",
            "zerolinecolor": "white"
           },
           "yaxis": {
            "backgroundcolor": "#E5ECF6",
            "gridcolor": "white",
            "gridwidth": 2,
            "linecolor": "white",
            "showbackground": true,
            "ticks": "",
            "zerolinecolor": "white"
           },
           "zaxis": {
            "backgroundcolor": "#E5ECF6",
            "gridcolor": "white",
            "gridwidth": 2,
            "linecolor": "white",
            "showbackground": true,
            "ticks": "",
            "zerolinecolor": "white"
           }
          },
          "shapedefaults": {
           "line": {
            "color": "#2a3f5f"
           }
          },
          "ternary": {
           "aaxis": {
            "gridcolor": "white",
            "linecolor": "white",
            "ticks": ""
           },
           "baxis": {
            "gridcolor": "white",
            "linecolor": "white",
            "ticks": ""
           },
           "bgcolor": "#E5ECF6",
           "caxis": {
            "gridcolor": "white",
            "linecolor": "white",
            "ticks": ""
           }
          },
          "title": {
           "x": 0.05
          },
          "xaxis": {
           "automargin": true,
           "gridcolor": "white",
           "linecolor": "white",
           "ticks": "",
           "title": {
            "standoff": 15
           },
           "zerolinecolor": "white",
           "zerolinewidth": 2
          },
          "yaxis": {
           "automargin": true,
           "gridcolor": "white",
           "linecolor": "white",
           "ticks": "",
           "title": {
            "standoff": 15
           },
           "zerolinecolor": "white",
           "zerolinewidth": 2
          }
         }
        },
        "title": {
         "text": "XGBClassifier Probability Threshold Optimization",
         "x": 0.45,
         "xanchor": "center",
         "y": 0.95,
         "yanchor": "top"
        },
        "xaxis": {
         "anchor": "y",
         "domain": [
          0,
          1
         ],
         "title": {
          "text": "Probability Threshold"
         }
        },
        "yaxis": {
         "anchor": "x",
         "domain": [
          0,
          1
         ],
         "title": {
          "text": "Cost Function"
         }
        }
       }
      },
      "text/html": [
       "<div>\n",
       "        \n",
       "        \n",
       "            <div id=\"57f3ef4b-f04b-4cab-8033-a4e1466676ec\" class=\"plotly-graph-div\" style=\"height:525px; width:100%;\"></div>\n",
       "            <script type=\"text/javascript\">\n",
       "                require([\"plotly\"], function(Plotly) {\n",
       "                    window.PLOTLYENV=window.PLOTLYENV || {};\n",
       "                    \n",
       "                if (document.getElementById(\"57f3ef4b-f04b-4cab-8033-a4e1466676ec\")) {\n",
       "                    Plotly.newPlot(\n",
       "                        '57f3ef4b-f04b-4cab-8033-a4e1466676ec',\n",
       "                        [{\"hovertemplate\": \"Probability Threshold=%{x}<br>Cost Function=%{y}<extra></extra>\", \"legendgroup\": \"\", \"line\": {\"color\": \"#636efa\", \"dash\": \"solid\", \"shape\": \"linear\"}, \"mode\": \"lines\", \"name\": \"\", \"orientation\": \"v\", \"showlegend\": false, \"type\": \"scatter\", \"x\": [0.0, 0.01, 0.02, 0.03, 0.04, 0.05, 0.06, 0.07, 0.08, 0.09, 0.1, 0.11, 0.12, 0.13, 0.14, 0.15, 0.16, 0.17, 0.18, 0.19, 0.2, 0.21, 0.22, 0.23, 0.24, 0.25, 0.26, 0.27, 0.28, 0.29, 0.3, 0.31, 0.32, 0.33, 0.34, 0.35000000000000003, 0.36, 0.37, 0.38, 0.39, 0.4, 0.41000000000000003, 0.42, 0.43, 0.44, 0.45, 0.46, 0.47000000000000003, 0.48, 0.49, 0.5, 0.51, 0.52, 0.53, 0.54, 0.55, 0.56, 0.5700000000000001, 0.58, 0.59, 0.6, 0.61, 0.62, 0.63, 0.64, 0.65, 0.66, 0.67, 0.68, 0.6900000000000001, 0.7000000000000001, 0.71, 0.72, 0.73, 0.74, 0.75, 0.76, 0.77, 0.78, 0.79, 0.8, 0.81, 0.8200000000000001, 0.8300000000000001, 0.84, 0.85, 0.86, 0.87, 0.88, 0.89, 0.9, 0.91, 0.92, 0.93, 0.9400000000000001, 0.9500000000000001, 0.96, 0.97, 0.98, 0.99], \"xaxis\": \"x\", \"y\": [0, 52500, 57000, 60000, 61500, 61500, 63000, 66000, 61000, 57500, 57500, 49000, 49000, 49000, 49000, 49000, 49000, 44000, 45500, 45500, 45500, 35500, 35500, 35500, 35500, 35500, 35500, 35500, 35500, 35500, 35500, 35500, 38500, 40000, 41500, 43000, 43000, 43000, 43000, 43000, 43000, 44500, 44500, 44500, 44500, 44500, 44500, 44500, 44500, 44500, 44500, 44500, 44500, 44500, 44500, 44500, 44500, 39500, 39500, 39500, 41000, 41000, 41000, 41000, 41000, 41000, 36000, 36000, 36000, 36000, 36000, 36000, 36000, 36000, 36000, 36000, 36000, 36000, 37500, 32500, 32500, 32500, 32500, 27500, 22500, 22500, 22500, 17500, 17500, 17500, 19000, 19000, 14000, 10500, 10500, 10500, 5500, 500, -11500, -15000], \"yaxis\": \"y\"}],\n",
       "                        {\"legend\": {\"tracegroupgap\": 0}, \"margin\": {\"t\": 60}, \"plot_bgcolor\": \"rgb(245,245,245)\", \"shapes\": [{\"line\": {\"color\": \"red\", \"width\": 2}, \"type\": \"line\", \"x0\": 0.07, \"x1\": 0.07, \"y0\": -15000, \"y1\": 66000}], \"template\": {\"data\": {\"bar\": [{\"error_x\": {\"color\": \"#2a3f5f\"}, \"error_y\": {\"color\": \"#2a3f5f\"}, \"marker\": {\"line\": {\"color\": \"#E5ECF6\", \"width\": 0.5}}, \"type\": \"bar\"}], \"barpolar\": [{\"marker\": {\"line\": {\"color\": \"#E5ECF6\", \"width\": 0.5}}, \"type\": \"barpolar\"}], \"carpet\": [{\"aaxis\": {\"endlinecolor\": \"#2a3f5f\", \"gridcolor\": \"white\", \"linecolor\": \"white\", \"minorgridcolor\": \"white\", \"startlinecolor\": \"#2a3f5f\"}, \"baxis\": {\"endlinecolor\": \"#2a3f5f\", \"gridcolor\": \"white\", \"linecolor\": \"white\", \"minorgridcolor\": \"white\", \"startlinecolor\": \"#2a3f5f\"}, \"type\": \"carpet\"}], \"choropleth\": [{\"colorbar\": {\"outlinewidth\": 0, \"ticks\": \"\"}, \"type\": \"choropleth\"}], \"contour\": [{\"colorbar\": {\"outlinewidth\": 0, \"ticks\": \"\"}, \"colorscale\": [[0.0, \"#0d0887\"], [0.1111111111111111, \"#46039f\"], [0.2222222222222222, \"#7201a8\"], [0.3333333333333333, \"#9c179e\"], [0.4444444444444444, \"#bd3786\"], [0.5555555555555556, \"#d8576b\"], [0.6666666666666666, \"#ed7953\"], [0.7777777777777778, \"#fb9f3a\"], [0.8888888888888888, \"#fdca26\"], [1.0, \"#f0f921\"]], \"type\": \"contour\"}], \"contourcarpet\": [{\"colorbar\": {\"outlinewidth\": 0, \"ticks\": \"\"}, \"type\": \"contourcarpet\"}], \"heatmap\": [{\"colorbar\": {\"outlinewidth\": 0, \"ticks\": \"\"}, \"colorscale\": [[0.0, \"#0d0887\"], [0.1111111111111111, \"#46039f\"], [0.2222222222222222, \"#7201a8\"], [0.3333333333333333, \"#9c179e\"], [0.4444444444444444, \"#bd3786\"], [0.5555555555555556, \"#d8576b\"], [0.6666666666666666, \"#ed7953\"], [0.7777777777777778, \"#fb9f3a\"], [0.8888888888888888, \"#fdca26\"], [1.0, \"#f0f921\"]], \"type\": \"heatmap\"}], \"heatmapgl\": [{\"colorbar\": {\"outlinewidth\": 0, \"ticks\": \"\"}, \"colorscale\": [[0.0, \"#0d0887\"], [0.1111111111111111, \"#46039f\"], [0.2222222222222222, \"#7201a8\"], [0.3333333333333333, \"#9c179e\"], [0.4444444444444444, \"#bd3786\"], [0.5555555555555556, \"#d8576b\"], [0.6666666666666666, \"#ed7953\"], [0.7777777777777778, \"#fb9f3a\"], [0.8888888888888888, \"#fdca26\"], [1.0, \"#f0f921\"]], \"type\": \"heatmapgl\"}], \"histogram\": [{\"marker\": {\"colorbar\": {\"outlinewidth\": 0, \"ticks\": \"\"}}, \"type\": \"histogram\"}], \"histogram2d\": [{\"colorbar\": {\"outlinewidth\": 0, \"ticks\": \"\"}, \"colorscale\": [[0.0, \"#0d0887\"], [0.1111111111111111, \"#46039f\"], [0.2222222222222222, \"#7201a8\"], [0.3333333333333333, \"#9c179e\"], [0.4444444444444444, \"#bd3786\"], [0.5555555555555556, \"#d8576b\"], [0.6666666666666666, \"#ed7953\"], [0.7777777777777778, \"#fb9f3a\"], [0.8888888888888888, \"#fdca26\"], [1.0, \"#f0f921\"]], \"type\": \"histogram2d\"}], \"histogram2dcontour\": [{\"colorbar\": {\"outlinewidth\": 0, \"ticks\": \"\"}, \"colorscale\": [[0.0, \"#0d0887\"], [0.1111111111111111, \"#46039f\"], [0.2222222222222222, \"#7201a8\"], [0.3333333333333333, \"#9c179e\"], [0.4444444444444444, \"#bd3786\"], [0.5555555555555556, \"#d8576b\"], [0.6666666666666666, \"#ed7953\"], [0.7777777777777778, \"#fb9f3a\"], [0.8888888888888888, \"#fdca26\"], [1.0, \"#f0f921\"]], \"type\": \"histogram2dcontour\"}], \"mesh3d\": [{\"colorbar\": {\"outlinewidth\": 0, \"ticks\": \"\"}, \"type\": \"mesh3d\"}], \"parcoords\": [{\"line\": {\"colorbar\": {\"outlinewidth\": 0, \"ticks\": \"\"}}, \"type\": \"parcoords\"}], \"pie\": [{\"automargin\": true, \"type\": \"pie\"}], \"scatter\": [{\"marker\": {\"colorbar\": {\"outlinewidth\": 0, \"ticks\": \"\"}}, \"type\": \"scatter\"}], \"scatter3d\": [{\"line\": {\"colorbar\": {\"outlinewidth\": 0, \"ticks\": \"\"}}, \"marker\": {\"colorbar\": {\"outlinewidth\": 0, \"ticks\": \"\"}}, \"type\": \"scatter3d\"}], \"scattercarpet\": [{\"marker\": {\"colorbar\": {\"outlinewidth\": 0, \"ticks\": \"\"}}, \"type\": \"scattercarpet\"}], \"scattergeo\": [{\"marker\": {\"colorbar\": {\"outlinewidth\": 0, \"ticks\": \"\"}}, \"type\": \"scattergeo\"}], \"scattergl\": [{\"marker\": {\"colorbar\": {\"outlinewidth\": 0, \"ticks\": \"\"}}, \"type\": \"scattergl\"}], \"scattermapbox\": [{\"marker\": {\"colorbar\": {\"outlinewidth\": 0, \"ticks\": \"\"}}, \"type\": \"scattermapbox\"}], \"scatterpolar\": [{\"marker\": {\"colorbar\": {\"outlinewidth\": 0, \"ticks\": \"\"}}, \"type\": \"scatterpolar\"}], \"scatterpolargl\": [{\"marker\": {\"colorbar\": {\"outlinewidth\": 0, \"ticks\": \"\"}}, \"type\": \"scatterpolargl\"}], \"scatterternary\": [{\"marker\": {\"colorbar\": {\"outlinewidth\": 0, \"ticks\": \"\"}}, \"type\": \"scatterternary\"}], \"surface\": [{\"colorbar\": {\"outlinewidth\": 0, \"ticks\": \"\"}, \"colorscale\": [[0.0, \"#0d0887\"], [0.1111111111111111, \"#46039f\"], [0.2222222222222222, \"#7201a8\"], [0.3333333333333333, \"#9c179e\"], [0.4444444444444444, \"#bd3786\"], [0.5555555555555556, \"#d8576b\"], [0.6666666666666666, \"#ed7953\"], [0.7777777777777778, \"#fb9f3a\"], [0.8888888888888888, \"#fdca26\"], [1.0, \"#f0f921\"]], \"type\": \"surface\"}], \"table\": [{\"cells\": {\"fill\": {\"color\": \"#EBF0F8\"}, \"line\": {\"color\": \"white\"}}, \"header\": {\"fill\": {\"color\": \"#C8D4E3\"}, \"line\": {\"color\": \"white\"}}, \"type\": \"table\"}]}, \"layout\": {\"annotationdefaults\": {\"arrowcolor\": \"#2a3f5f\", \"arrowhead\": 0, \"arrowwidth\": 1}, \"coloraxis\": {\"colorbar\": {\"outlinewidth\": 0, \"ticks\": \"\"}}, \"colorscale\": {\"diverging\": [[0, \"#8e0152\"], [0.1, \"#c51b7d\"], [0.2, \"#de77ae\"], [0.3, \"#f1b6da\"], [0.4, \"#fde0ef\"], [0.5, \"#f7f7f7\"], [0.6, \"#e6f5d0\"], [0.7, \"#b8e186\"], [0.8, \"#7fbc41\"], [0.9, \"#4d9221\"], [1, \"#276419\"]], \"sequential\": [[0.0, \"#0d0887\"], [0.1111111111111111, \"#46039f\"], [0.2222222222222222, \"#7201a8\"], [0.3333333333333333, \"#9c179e\"], [0.4444444444444444, \"#bd3786\"], [0.5555555555555556, \"#d8576b\"], [0.6666666666666666, \"#ed7953\"], [0.7777777777777778, \"#fb9f3a\"], [0.8888888888888888, \"#fdca26\"], [1.0, \"#f0f921\"]], \"sequentialminus\": [[0.0, \"#0d0887\"], [0.1111111111111111, \"#46039f\"], [0.2222222222222222, \"#7201a8\"], [0.3333333333333333, \"#9c179e\"], [0.4444444444444444, \"#bd3786\"], [0.5555555555555556, \"#d8576b\"], [0.6666666666666666, \"#ed7953\"], [0.7777777777777778, \"#fb9f3a\"], [0.8888888888888888, \"#fdca26\"], [1.0, \"#f0f921\"]]}, \"colorway\": [\"#636efa\", \"#EF553B\", \"#00cc96\", \"#ab63fa\", \"#FFA15A\", \"#19d3f3\", \"#FF6692\", \"#B6E880\", \"#FF97FF\", \"#FECB52\"], \"font\": {\"color\": \"#2a3f5f\"}, \"geo\": {\"bgcolor\": \"white\", \"lakecolor\": \"white\", \"landcolor\": \"#E5ECF6\", \"showlakes\": true, \"showland\": true, \"subunitcolor\": \"white\"}, \"hoverlabel\": {\"align\": \"left\"}, \"hovermode\": \"closest\", \"mapbox\": {\"style\": \"light\"}, \"paper_bgcolor\": \"white\", \"plot_bgcolor\": \"#E5ECF6\", \"polar\": {\"angularaxis\": {\"gridcolor\": \"white\", \"linecolor\": \"white\", \"ticks\": \"\"}, \"bgcolor\": \"#E5ECF6\", \"radialaxis\": {\"gridcolor\": \"white\", \"linecolor\": \"white\", \"ticks\": \"\"}}, \"scene\": {\"xaxis\": {\"backgroundcolor\": \"#E5ECF6\", \"gridcolor\": \"white\", \"gridwidth\": 2, \"linecolor\": \"white\", \"showbackground\": true, \"ticks\": \"\", \"zerolinecolor\": \"white\"}, \"yaxis\": {\"backgroundcolor\": \"#E5ECF6\", \"gridcolor\": \"white\", \"gridwidth\": 2, \"linecolor\": \"white\", \"showbackground\": true, \"ticks\": \"\", \"zerolinecolor\": \"white\"}, \"zaxis\": {\"backgroundcolor\": \"#E5ECF6\", \"gridcolor\": \"white\", \"gridwidth\": 2, \"linecolor\": \"white\", \"showbackground\": true, \"ticks\": \"\", \"zerolinecolor\": \"white\"}}, \"shapedefaults\": {\"line\": {\"color\": \"#2a3f5f\"}}, \"ternary\": {\"aaxis\": {\"gridcolor\": \"white\", \"linecolor\": \"white\", \"ticks\": \"\"}, \"baxis\": {\"gridcolor\": \"white\", \"linecolor\": \"white\", \"ticks\": \"\"}, \"bgcolor\": \"#E5ECF6\", \"caxis\": {\"gridcolor\": \"white\", \"linecolor\": \"white\", \"ticks\": \"\"}}, \"title\": {\"x\": 0.05}, \"xaxis\": {\"automargin\": true, \"gridcolor\": \"white\", \"linecolor\": \"white\", \"ticks\": \"\", \"title\": {\"standoff\": 15}, \"zerolinecolor\": \"white\", \"zerolinewidth\": 2}, \"yaxis\": {\"automargin\": true, \"gridcolor\": \"white\", \"linecolor\": \"white\", \"ticks\": \"\", \"title\": {\"standoff\": 15}, \"zerolinecolor\": \"white\", \"zerolinewidth\": 2}}}, \"title\": {\"text\": \"XGBClassifier Probability Threshold Optimization\", \"x\": 0.45, \"xanchor\": \"center\", \"y\": 0.95, \"yanchor\": \"top\"}, \"xaxis\": {\"anchor\": \"y\", \"domain\": [0.0, 1.0], \"title\": {\"text\": \"Probability Threshold\"}}, \"yaxis\": {\"anchor\": \"x\", \"domain\": [0.0, 1.0], \"title\": {\"text\": \"Cost Function\"}}},\n",
       "                        {\"responsive\": true}\n",
       "                    ).then(function(){\n",
       "                            \n",
       "var gd = document.getElementById('57f3ef4b-f04b-4cab-8033-a4e1466676ec');\n",
       "var x = new MutationObserver(function (mutations, observer) {{\n",
       "        var display = window.getComputedStyle(gd).display;\n",
       "        if (!display || display === 'none') {{\n",
       "            console.log([gd, 'removed!']);\n",
       "            Plotly.purge(gd);\n",
       "            observer.disconnect();\n",
       "        }}\n",
       "}});\n",
       "\n",
       "// Listen for the removal of the full notebook cells\n",
       "var notebookContainer = gd.closest('#notebook-container');\n",
       "if (notebookContainer) {{\n",
       "    x.observe(notebookContainer, {childList: true});\n",
       "}}\n",
       "\n",
       "// Listen for the clearing of the current output cell\n",
       "var outputEl = gd.closest('.output');\n",
       "if (outputEl) {{\n",
       "    x.observe(outputEl, {childList: true});\n",
       "}}\n",
       "\n",
       "                        })\n",
       "                };\n",
       "                });\n",
       "            </script>\n",
       "        </div>"
      ]
     },
     "metadata": {},
     "output_type": "display_data"
    },
    {
     "name": "stdout",
     "output_type": "stream",
     "text": [
      "Optimized Probability Threshold: 0.07 | Optimized Cost Function: 66000\n"
     ]
    }
   ],
   "source": [
    "\n",
    "# optimize threshold for trained model\n",
    "pc.optimize_threshold(tuned_xgb, true_negative = 1500, false_negative = -5000)"
   ]
  },
  {
   "cell_type": "code",
   "execution_count": 58,
   "metadata": {},
   "outputs": [
    {
     "name": "stdout",
     "output_type": "stream",
     "text": [
      "Transformation Pipeline and Model Succesfully Saved\n"
     ]
    }
   ],
   "source": [
    "# Save Models\n",
    "pc.save_model(tuned_xgb,'D:\\\\Data_science_project\\\\Data_science_project\\\\pycaret\\\\xgb_saved_model_02072020')"
   ]
  },
  {
   "cell_type": "code",
   "execution_count": 59,
   "metadata": {},
   "outputs": [
    {
     "name": "stdout",
     "output_type": "stream",
     "text": [
      "Transformation Pipeline and Model Successfully Loaded\n"
     ]
    }
   ],
   "source": [
    "\n",
    "# Loading the saved model\n",
    "loaded_model = pc.load_model('D:\\\\Data_science_project\\\\Data_science_project\\\\pycaret\\\\xgb_saved_model_02072020')"
   ]
  },
  {
   "cell_type": "code",
   "execution_count": 61,
   "metadata": {},
   "outputs": [],
   "source": [
    "# Interpret Model\n",
    "# pc.interpret_model(xgboost_model)\n",
    "\n"
   ]
  },
  {
   "cell_type": "code",
   "execution_count": 62,
   "metadata": {},
   "outputs": [],
   "source": [
    "# Finalize Model For Prediction\n",
    "final_xgb_model = pc.finalize_model(tuned_xgb)"
   ]
  },
  {
   "cell_type": "code",
   "execution_count": 63,
   "metadata": {},
   "outputs": [
    {
     "data": {
      "text/plain": [
       "age                             55.00\n",
       "anaemia                          0.00\n",
       "creatinine_phosphokinase      7861.00\n",
       "diabetes                         0.00\n",
       "ejection_fraction               38.00\n",
       "high_blood_pressure              0.00\n",
       "platelets                   263358.03\n",
       "serum_creatinine                 1.10\n",
       "serum_sodium                   136.00\n",
       "sex                              1.00\n",
       "smoking                          0.00\n",
       "time                             6.00\n",
       "DEATH_EVENT                      1.00\n",
       "Name: 1, dtype: float64"
      ]
     },
     "execution_count": 63,
     "metadata": {},
     "output_type": "execute_result"
    }
   ],
   "source": [
    "\n",
    "# Method 1\n",
    "data.iloc[1]"
   ]
  },
  {
   "cell_type": "code",
   "execution_count": 64,
   "metadata": {},
   "outputs": [
    {
     "data": {
      "text/html": [
       "<div>\n",
       "<style scoped>\n",
       "    .dataframe tbody tr th:only-of-type {\n",
       "        vertical-align: middle;\n",
       "    }\n",
       "\n",
       "    .dataframe tbody tr th {\n",
       "        vertical-align: top;\n",
       "    }\n",
       "\n",
       "    .dataframe thead th {\n",
       "        text-align: right;\n",
       "    }\n",
       "</style>\n",
       "<table border=\"1\" class=\"dataframe\">\n",
       "  <thead>\n",
       "    <tr style=\"text-align: right;\">\n",
       "      <th></th>\n",
       "      <th>age</th>\n",
       "      <th>anaemia</th>\n",
       "      <th>creatinine_phosphokinase</th>\n",
       "      <th>diabetes</th>\n",
       "      <th>ejection_fraction</th>\n",
       "      <th>high_blood_pressure</th>\n",
       "      <th>platelets</th>\n",
       "      <th>serum_creatinine</th>\n",
       "      <th>serum_sodium</th>\n",
       "      <th>sex</th>\n",
       "      <th>smoking</th>\n",
       "      <th>time</th>\n",
       "      <th>DEATH_EVENT</th>\n",
       "    </tr>\n",
       "  </thead>\n",
       "  <tbody>\n",
       "    <tr>\n",
       "      <th>1</th>\n",
       "      <td>55.0</td>\n",
       "      <td>0</td>\n",
       "      <td>7861</td>\n",
       "      <td>0</td>\n",
       "      <td>38</td>\n",
       "      <td>0</td>\n",
       "      <td>263358.03</td>\n",
       "      <td>1.1</td>\n",
       "      <td>136</td>\n",
       "      <td>1</td>\n",
       "      <td>0</td>\n",
       "      <td>6</td>\n",
       "      <td>1</td>\n",
       "    </tr>\n",
       "  </tbody>\n",
       "</table>\n",
       "</div>"
      ],
      "text/plain": [
       "    age  anaemia  creatinine_phosphokinase  diabetes  ejection_fraction  \\\n",
       "1  55.0        0                      7861         0                 38   \n",
       "\n",
       "   high_blood_pressure  platelets  serum_creatinine  serum_sodium  sex  \\\n",
       "1                    0  263358.03               1.1           136    1   \n",
       "\n",
       "   smoking  time  DEATH_EVENT  \n",
       "1        0     6            1  "
      ]
     },
     "execution_count": 64,
     "metadata": {},
     "output_type": "execute_result"
    }
   ],
   "source": [
    "data.iloc[[1]]"
   ]
  },
  {
   "cell_type": "code",
   "execution_count": 65,
   "metadata": {},
   "outputs": [],
   "source": [
    "unseen_data = data.iloc[[1],:-1]"
   ]
  },
  {
   "cell_type": "code",
   "execution_count": 66,
   "metadata": {},
   "outputs": [
    {
     "data": {
      "text/html": [
       "<div>\n",
       "<style scoped>\n",
       "    .dataframe tbody tr th:only-of-type {\n",
       "        vertical-align: middle;\n",
       "    }\n",
       "\n",
       "    .dataframe tbody tr th {\n",
       "        vertical-align: top;\n",
       "    }\n",
       "\n",
       "    .dataframe thead th {\n",
       "        text-align: right;\n",
       "    }\n",
       "</style>\n",
       "<table border=\"1\" class=\"dataframe\">\n",
       "  <thead>\n",
       "    <tr style=\"text-align: right;\">\n",
       "      <th></th>\n",
       "      <th>age</th>\n",
       "      <th>anaemia</th>\n",
       "      <th>creatinine_phosphokinase</th>\n",
       "      <th>diabetes</th>\n",
       "      <th>ejection_fraction</th>\n",
       "      <th>high_blood_pressure</th>\n",
       "      <th>platelets</th>\n",
       "      <th>serum_creatinine</th>\n",
       "      <th>serum_sodium</th>\n",
       "      <th>sex</th>\n",
       "      <th>smoking</th>\n",
       "      <th>time</th>\n",
       "    </tr>\n",
       "  </thead>\n",
       "  <tbody>\n",
       "    <tr>\n",
       "      <th>1</th>\n",
       "      <td>55.0</td>\n",
       "      <td>0</td>\n",
       "      <td>7861</td>\n",
       "      <td>0</td>\n",
       "      <td>38</td>\n",
       "      <td>0</td>\n",
       "      <td>263358.03</td>\n",
       "      <td>1.1</td>\n",
       "      <td>136</td>\n",
       "      <td>1</td>\n",
       "      <td>0</td>\n",
       "      <td>6</td>\n",
       "    </tr>\n",
       "  </tbody>\n",
       "</table>\n",
       "</div>"
      ],
      "text/plain": [
       "    age  anaemia  creatinine_phosphokinase  diabetes  ejection_fraction  \\\n",
       "1  55.0        0                      7861         0                 38   \n",
       "\n",
       "   high_blood_pressure  platelets  serum_creatinine  serum_sodium  sex  \\\n",
       "1                    0  263358.03               1.1           136    1   \n",
       "\n",
       "   smoking  time  \n",
       "1        0     6  "
      ]
     },
     "execution_count": 66,
     "metadata": {},
     "output_type": "execute_result"
    }
   ],
   "source": [
    "\n",
    "unseen_data"
   ]
  },
  {
   "cell_type": "code",
   "execution_count": 67,
   "metadata": {},
   "outputs": [
    {
     "data": {
      "text/plain": [
       "pandas.core.frame.DataFrame"
      ]
     },
     "execution_count": 67,
     "metadata": {},
     "output_type": "execute_result"
    }
   ],
   "source": [
    "type(unseen_data)"
   ]
  },
  {
   "cell_type": "code",
   "execution_count": 68,
   "metadata": {},
   "outputs": [],
   "source": [
    "# Predict with Model\n",
    "prediction = pc.predict_model(final_xgb_model,data=unseen_data)"
   ]
  },
  {
   "cell_type": "code",
   "execution_count": 69,
   "metadata": {},
   "outputs": [
    {
     "data": {
      "text/html": [
       "<div>\n",
       "<style scoped>\n",
       "    .dataframe tbody tr th:only-of-type {\n",
       "        vertical-align: middle;\n",
       "    }\n",
       "\n",
       "    .dataframe tbody tr th {\n",
       "        vertical-align: top;\n",
       "    }\n",
       "\n",
       "    .dataframe thead th {\n",
       "        text-align: right;\n",
       "    }\n",
       "</style>\n",
       "<table border=\"1\" class=\"dataframe\">\n",
       "  <thead>\n",
       "    <tr style=\"text-align: right;\">\n",
       "      <th></th>\n",
       "      <th>age</th>\n",
       "      <th>anaemia</th>\n",
       "      <th>creatinine_phosphokinase</th>\n",
       "      <th>diabetes</th>\n",
       "      <th>ejection_fraction</th>\n",
       "      <th>high_blood_pressure</th>\n",
       "      <th>platelets</th>\n",
       "      <th>serum_creatinine</th>\n",
       "      <th>serum_sodium</th>\n",
       "      <th>sex</th>\n",
       "      <th>smoking</th>\n",
       "      <th>time</th>\n",
       "      <th>Label</th>\n",
       "      <th>Score</th>\n",
       "    </tr>\n",
       "  </thead>\n",
       "  <tbody>\n",
       "    <tr>\n",
       "      <th>0</th>\n",
       "      <td>NaN</td>\n",
       "      <td>NaN</td>\n",
       "      <td>NaN</td>\n",
       "      <td>NaN</td>\n",
       "      <td>NaN</td>\n",
       "      <td>NaN</td>\n",
       "      <td>NaN</td>\n",
       "      <td>NaN</td>\n",
       "      <td>NaN</td>\n",
       "      <td>NaN</td>\n",
       "      <td>NaN</td>\n",
       "      <td>NaN</td>\n",
       "      <td>NaN</td>\n",
       "      <td>0.9992</td>\n",
       "    </tr>\n",
       "    <tr>\n",
       "      <th>1</th>\n",
       "      <td>55.0</td>\n",
       "      <td>0.0</td>\n",
       "      <td>7861.0</td>\n",
       "      <td>0.0</td>\n",
       "      <td>38.0</td>\n",
       "      <td>0.0</td>\n",
       "      <td>263358.03</td>\n",
       "      <td>1.1</td>\n",
       "      <td>136.0</td>\n",
       "      <td>1.0</td>\n",
       "      <td>0.0</td>\n",
       "      <td>6.0</td>\n",
       "      <td>1</td>\n",
       "      <td>NaN</td>\n",
       "    </tr>\n",
       "  </tbody>\n",
       "</table>\n",
       "</div>"
      ],
      "text/plain": [
       "    age  anaemia  creatinine_phosphokinase  diabetes  ejection_fraction  \\\n",
       "0   NaN      NaN                       NaN       NaN                NaN   \n",
       "1  55.0      0.0                    7861.0       0.0               38.0   \n",
       "\n",
       "   high_blood_pressure  platelets  serum_creatinine  serum_sodium  sex  \\\n",
       "0                  NaN        NaN               NaN           NaN  NaN   \n",
       "1                  0.0  263358.03               1.1         136.0  1.0   \n",
       "\n",
       "   smoking  time Label   Score  \n",
       "0      NaN   NaN   NaN  0.9992  \n",
       "1      0.0   6.0     1     NaN  "
      ]
     },
     "execution_count": 69,
     "metadata": {},
     "output_type": "execute_result"
    }
   ],
   "source": [
    "prediction"
   ]
  },
  {
   "cell_type": "code",
   "execution_count": 70,
   "metadata": {},
   "outputs": [
    {
     "data": {
      "text/html": [
       "['age', 'anaemia', 'creatinine_phosphokinase', 'diabetes', 'ejection_fraction', 'high_blood_pressure', 'platelets', 'serum_creatinine', 'serum_sodium', 'sex', 'smoking', 'time', 'DEATH_EVENT']"
      ],
      "text/plain": [
       "['age',\n",
       " 'anaemia',\n",
       " 'creatinine_phosphokinase',\n",
       " 'diabetes',\n",
       " 'ejection_fraction',\n",
       " 'high_blood_pressure',\n",
       " 'platelets',\n",
       " 'serum_creatinine',\n",
       " 'serum_sodium',\n",
       " 'sex',\n",
       " 'smoking',\n",
       " 'time',\n",
       " 'DEATH_EVENT']"
      ]
     },
     "execution_count": 70,
     "metadata": {},
     "output_type": "execute_result"
    }
   ],
   "source": [
    "\n",
    "# Method 2 (Dict=>Df)\n",
    "data.columns.tolist()"
   ]
  },
  {
   "cell_type": "code",
   "execution_count": 71,
   "metadata": {},
   "outputs": [],
   "source": [
    "\n",
    "col_names = ['age', 'anaemia', 'creatinine_phosphokinase', 'diabetes', 'ejection_fraction', 'high_blood_pressure', 'platelets', 'serum_creatinine', 'serum_sodium', 'sex', 'smoking', 'time']"
   ]
  },
  {
   "cell_type": "code",
   "execution_count": 72,
   "metadata": {},
   "outputs": [
    {
     "data": {
      "text/html": [
       "[55.0, 0.0, 7861.0, 0.0, 38.0, 0.0, 263358.03, 1.1, 136.0, 1.0, 0.0, 6.0, 1.0]"
      ],
      "text/plain": [
       "[55.0, 0.0, 7861.0, 0.0, 38.0, 0.0, 263358.03, 1.1, 136.0, 1.0, 0.0, 6.0, 1.0]"
      ]
     },
     "execution_count": 72,
     "metadata": {},
     "output_type": "execute_result"
    }
   ],
   "source": [
    "list(data.iloc[1])"
   ]
  },
  {
   "cell_type": "code",
   "execution_count": 73,
   "metadata": {},
   "outputs": [],
   "source": [
    "sample_values = [55.0, 0.0, 7861.0, 0.0, 38.0, 0.0, 263358.03, 1.1, 136.0, 1.0, 0.0, 6.0]"
   ]
  },
  {
   "cell_type": "code",
   "execution_count": 74,
   "metadata": {},
   "outputs": [],
   "source": [
    "\n",
    "d = dict(zip(col_names,sample_values))"
   ]
  },
  {
   "cell_type": "code",
   "execution_count": 75,
   "metadata": {},
   "outputs": [
    {
     "data": {
      "text/plain": [
       "{'age': 55.0,\n",
       " 'anaemia': 0.0,\n",
       " 'creatinine_phosphokinase': 7861.0,\n",
       " 'diabetes': 0.0,\n",
       " 'ejection_fraction': 38.0,\n",
       " 'high_blood_pressure': 0.0,\n",
       " 'platelets': 263358.03,\n",
       " 'serum_creatinine': 1.1,\n",
       " 'serum_sodium': 136.0,\n",
       " 'sex': 1.0,\n",
       " 'smoking': 0.0,\n",
       " 'time': 6.0}"
      ]
     },
     "execution_count": 75,
     "metadata": {},
     "output_type": "execute_result"
    }
   ],
   "source": [
    "d"
   ]
  },
  {
   "cell_type": "code",
   "execution_count": 76,
   "metadata": {},
   "outputs": [],
   "source": [
    "\n",
    "unseen_data2 = pd.DataFrame([d])"
   ]
  },
  {
   "cell_type": "code",
   "execution_count": 77,
   "metadata": {},
   "outputs": [
    {
     "data": {
      "text/html": [
       "<div>\n",
       "<style scoped>\n",
       "    .dataframe tbody tr th:only-of-type {\n",
       "        vertical-align: middle;\n",
       "    }\n",
       "\n",
       "    .dataframe tbody tr th {\n",
       "        vertical-align: top;\n",
       "    }\n",
       "\n",
       "    .dataframe thead th {\n",
       "        text-align: right;\n",
       "    }\n",
       "</style>\n",
       "<table border=\"1\" class=\"dataframe\">\n",
       "  <thead>\n",
       "    <tr style=\"text-align: right;\">\n",
       "      <th></th>\n",
       "      <th>age</th>\n",
       "      <th>anaemia</th>\n",
       "      <th>creatinine_phosphokinase</th>\n",
       "      <th>diabetes</th>\n",
       "      <th>ejection_fraction</th>\n",
       "      <th>high_blood_pressure</th>\n",
       "      <th>platelets</th>\n",
       "      <th>serum_creatinine</th>\n",
       "      <th>serum_sodium</th>\n",
       "      <th>sex</th>\n",
       "      <th>smoking</th>\n",
       "      <th>time</th>\n",
       "    </tr>\n",
       "  </thead>\n",
       "  <tbody>\n",
       "    <tr>\n",
       "      <th>0</th>\n",
       "      <td>55.0</td>\n",
       "      <td>0.0</td>\n",
       "      <td>7861.0</td>\n",
       "      <td>0.0</td>\n",
       "      <td>38.0</td>\n",
       "      <td>0.0</td>\n",
       "      <td>263358.03</td>\n",
       "      <td>1.1</td>\n",
       "      <td>136.0</td>\n",
       "      <td>1.0</td>\n",
       "      <td>0.0</td>\n",
       "      <td>6.0</td>\n",
       "    </tr>\n",
       "  </tbody>\n",
       "</table>\n",
       "</div>"
      ],
      "text/plain": [
       "    age  anaemia  creatinine_phosphokinase  diabetes  ejection_fraction  \\\n",
       "0  55.0      0.0                    7861.0       0.0               38.0   \n",
       "\n",
       "   high_blood_pressure  platelets  serum_creatinine  serum_sodium  sex  \\\n",
       "0                  0.0  263358.03               1.1         136.0  1.0   \n",
       "\n",
       "   smoking  time  \n",
       "0      0.0   6.0  "
      ]
     },
     "execution_count": 77,
     "metadata": {},
     "output_type": "execute_result"
    }
   ],
   "source": [
    "unseen_data2"
   ]
  },
  {
   "cell_type": "code",
   "execution_count": 78,
   "metadata": {},
   "outputs": [],
   "source": [
    "# Predict with Model\n",
    "prediction2 = pc.predict_model(final_xgb_model,data=unseen_data2)"
   ]
  },
  {
   "cell_type": "code",
   "execution_count": 79,
   "metadata": {},
   "outputs": [
    {
     "data": {
      "text/html": [
       "<div>\n",
       "<style scoped>\n",
       "    .dataframe tbody tr th:only-of-type {\n",
       "        vertical-align: middle;\n",
       "    }\n",
       "\n",
       "    .dataframe tbody tr th {\n",
       "        vertical-align: top;\n",
       "    }\n",
       "\n",
       "    .dataframe thead th {\n",
       "        text-align: right;\n",
       "    }\n",
       "</style>\n",
       "<table border=\"1\" class=\"dataframe\">\n",
       "  <thead>\n",
       "    <tr style=\"text-align: right;\">\n",
       "      <th></th>\n",
       "      <th>age</th>\n",
       "      <th>anaemia</th>\n",
       "      <th>creatinine_phosphokinase</th>\n",
       "      <th>diabetes</th>\n",
       "      <th>ejection_fraction</th>\n",
       "      <th>high_blood_pressure</th>\n",
       "      <th>platelets</th>\n",
       "      <th>serum_creatinine</th>\n",
       "      <th>serum_sodium</th>\n",
       "      <th>sex</th>\n",
       "      <th>smoking</th>\n",
       "      <th>time</th>\n",
       "      <th>Label</th>\n",
       "      <th>Score</th>\n",
       "    </tr>\n",
       "  </thead>\n",
       "  <tbody>\n",
       "    <tr>\n",
       "      <th>0</th>\n",
       "      <td>55.0</td>\n",
       "      <td>0.0</td>\n",
       "      <td>7861.0</td>\n",
       "      <td>0.0</td>\n",
       "      <td>38.0</td>\n",
       "      <td>0.0</td>\n",
       "      <td>263358.03</td>\n",
       "      <td>1.1</td>\n",
       "      <td>136.0</td>\n",
       "      <td>1.0</td>\n",
       "      <td>0.0</td>\n",
       "      <td>6.0</td>\n",
       "      <td>1</td>\n",
       "      <td>0.9995</td>\n",
       "    </tr>\n",
       "  </tbody>\n",
       "</table>\n",
       "</div>"
      ],
      "text/plain": [
       "    age  anaemia  creatinine_phosphokinase  diabetes  ejection_fraction  \\\n",
       "0  55.0      0.0                    7861.0       0.0               38.0   \n",
       "\n",
       "   high_blood_pressure  platelets  serum_creatinine  serum_sodium  sex  \\\n",
       "0                  0.0  263358.03               1.1         136.0  1.0   \n",
       "\n",
       "   smoking  time Label   Score  \n",
       "0      0.0   6.0     1  0.9995  "
      ]
     },
     "execution_count": 79,
     "metadata": {},
     "output_type": "execute_result"
    }
   ],
   "source": [
    "prediction2"
   ]
  },
  {
   "cell_type": "code",
   "execution_count": null,
   "metadata": {},
   "outputs": [],
   "source": []
  }
 ],
 "metadata": {
  "kernelspec": {
   "display_name": "Python 3",
   "language": "python",
   "name": "python3"
  },
  "language_info": {
   "codemirror_mode": {
    "name": "ipython",
    "version": 3
   },
   "file_extension": ".py",
   "mimetype": "text/x-python",
   "name": "python",
   "nbconvert_exporter": "python",
   "pygments_lexer": "ipython3",
   "version": "3.7.9"
  }
 },
 "nbformat": 4,
 "nbformat_minor": 4
}

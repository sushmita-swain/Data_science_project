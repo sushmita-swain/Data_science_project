{
 "cells": [
  {
   "cell_type": "markdown",
   "metadata": {},
   "source": [
    "Business Problem\n",
    "\n",
    "\n",
    "The bank want to build a model such that bank can give a variable rate of intrest to some people. This model will be implemented on bulk but bank done a proof of concept and collected data for some people. Now using this data we have to build a machine learning model which can help us to predict the Interest Rate.\n",
    "\n",
    "Now we are having data for many variables such as Amount Requested,Amount Funded By Investors,Interest Rate,Loan Length,Loan Purpose,Debt To Income Ratio,Home Ownership,Monthly Income,Open CREDIT Lines,Revolving CREDIT Balance,Inquiries in the Last 6 Months,Employment Length.\n",
    "\n",
    "Now we have to use this information to make prediction on what should be the Interest Rate\n",
    "\n",
    "The task now is to predict such a loan rate given the data.\n",
    "Have you ever thought you get a different interest rate than your friend when you borrow personal loan.\n",
    "\n",
    "\n",
    "Solution Approach:\n",
    "As we need to Interest Rate, which is continuous in nature, Linear Regression can be used for prediction\n",
    "\n",
    "Multiple Linear Regression\n",
    "Now you know how to build a model with one X (feature variable) and Y (response variable). But what if you have three feature variables, or may be 10 or 100? Building a separate model for each of them, combining them, and then understanding them will be a very difficult and next to impossible task. By using multiple linear regression, you can build models between a response variable and many feature variables.\n",
    "\n",
    "Let's see how to do that."
   ]
  },
  {
   "cell_type": "markdown",
   "metadata": {},
   "source": [
    "Step 1 : Importing LIbraries and Understanding Data\n",
    "\n",
    "\n",
    "Numpy, pandas , seaborn and matplotlib.pyplot are imported with aliases np, pd, sns and plt respectively"
   ]
  },
  {
   "cell_type": "code",
   "execution_count": 3,
   "metadata": {},
   "outputs": [],
   "source": [
    "import pandas as pd\n",
    "import numpy as np"
   ]
  },
  {
   "cell_type": "code",
   "execution_count": 4,
   "metadata": {},
   "outputs": [],
   "source": [
    "# Importing LabourTrainingEvaluationData.csv\n",
    "LoanData = pd.read_csv(r'C:\\Users\\40101464\\Desktop\\PPT-20190507\\Linear Regression-20190708\\Case Studies with Solution\\Case 2\\loans data (1).csv')"
   ]
  },
  {
   "cell_type": "code",
   "execution_count": 5,
   "metadata": {},
   "outputs": [
    {
     "data": {
      "text/html": [
       "<div>\n",
       "<style scoped>\n",
       "    .dataframe tbody tr th:only-of-type {\n",
       "        vertical-align: middle;\n",
       "    }\n",
       "\n",
       "    .dataframe tbody tr th {\n",
       "        vertical-align: top;\n",
       "    }\n",
       "\n",
       "    .dataframe thead th {\n",
       "        text-align: right;\n",
       "    }\n",
       "</style>\n",
       "<table border=\"1\" class=\"dataframe\">\n",
       "  <thead>\n",
       "    <tr style=\"text-align: right;\">\n",
       "      <th></th>\n",
       "      <th>ID</th>\n",
       "      <th>Amount.Requested</th>\n",
       "      <th>Amount.Funded.By.Investors</th>\n",
       "      <th>Interest.Rate</th>\n",
       "      <th>Loan.Length</th>\n",
       "      <th>Loan.Purpose</th>\n",
       "      <th>Debt.To.Income.Ratio</th>\n",
       "      <th>Home.Ownership</th>\n",
       "      <th>Monthly.Income</th>\n",
       "      <th>Open.CREDIT.Lines</th>\n",
       "      <th>Revolving.CREDIT.Balance</th>\n",
       "      <th>Inquiries.in.the.Last.6.Months</th>\n",
       "      <th>Employment.Length</th>\n",
       "    </tr>\n",
       "  </thead>\n",
       "  <tbody>\n",
       "    <tr>\n",
       "      <th>0</th>\n",
       "      <td>81174.0</td>\n",
       "      <td>20000</td>\n",
       "      <td>20000.0</td>\n",
       "      <td>0.09</td>\n",
       "      <td>36 months</td>\n",
       "      <td>debt_consolidation</td>\n",
       "      <td>0.15</td>\n",
       "      <td>MORTGAGE</td>\n",
       "      <td>6541.67</td>\n",
       "      <td>14</td>\n",
       "      <td>14272</td>\n",
       "      <td>2</td>\n",
       "      <td>1 year</td>\n",
       "    </tr>\n",
       "    <tr>\n",
       "      <th>1</th>\n",
       "      <td>99592.0</td>\n",
       "      <td>19200</td>\n",
       "      <td>19200.0</td>\n",
       "      <td>0.12</td>\n",
       "      <td>36 months</td>\n",
       "      <td>debt_consolidation</td>\n",
       "      <td>0.28</td>\n",
       "      <td>MORTGAGE</td>\n",
       "      <td>4583.33</td>\n",
       "      <td>12</td>\n",
       "      <td>11140</td>\n",
       "      <td>1</td>\n",
       "      <td>2 years</td>\n",
       "    </tr>\n",
       "    <tr>\n",
       "      <th>2</th>\n",
       "      <td>80059.0</td>\n",
       "      <td>35000</td>\n",
       "      <td>35000.0</td>\n",
       "      <td>0.22</td>\n",
       "      <td>60 months</td>\n",
       "      <td>debt_consolidation</td>\n",
       "      <td>0.24</td>\n",
       "      <td>MORTGAGE</td>\n",
       "      <td>11500.00</td>\n",
       "      <td>14</td>\n",
       "      <td>21977</td>\n",
       "      <td>1</td>\n",
       "      <td>2 years</td>\n",
       "    </tr>\n",
       "    <tr>\n",
       "      <th>3</th>\n",
       "      <td>15825.0</td>\n",
       "      <td>10000</td>\n",
       "      <td>9975.0</td>\n",
       "      <td>0.10</td>\n",
       "      <td>36 months</td>\n",
       "      <td>debt_consolidation</td>\n",
       "      <td>0.14</td>\n",
       "      <td>MORTGAGE</td>\n",
       "      <td>3833.33</td>\n",
       "      <td>10</td>\n",
       "      <td>9346</td>\n",
       "      <td>0</td>\n",
       "      <td>5 years</td>\n",
       "    </tr>\n",
       "    <tr>\n",
       "      <th>4</th>\n",
       "      <td>33182.0</td>\n",
       "      <td>12000</td>\n",
       "      <td>12000.0</td>\n",
       "      <td>0.12</td>\n",
       "      <td>36 months</td>\n",
       "      <td>credit_card</td>\n",
       "      <td>0.19</td>\n",
       "      <td>RENT</td>\n",
       "      <td>3195.00</td>\n",
       "      <td>11</td>\n",
       "      <td>14469</td>\n",
       "      <td>0</td>\n",
       "      <td>9 years</td>\n",
       "    </tr>\n",
       "  </tbody>\n",
       "</table>\n",
       "</div>"
      ],
      "text/plain": [
       "        ID  Amount.Requested  Amount.Funded.By.Investors  Interest.Rate  \\\n",
       "0  81174.0             20000                     20000.0           0.09   \n",
       "1  99592.0             19200                     19200.0           0.12   \n",
       "2  80059.0             35000                     35000.0           0.22   \n",
       "3  15825.0             10000                      9975.0           0.10   \n",
       "4  33182.0             12000                     12000.0           0.12   \n",
       "\n",
       "  Loan.Length        Loan.Purpose  Debt.To.Income.Ratio Home.Ownership  \\\n",
       "0   36 months  debt_consolidation                  0.15       MORTGAGE   \n",
       "1   36 months  debt_consolidation                  0.28       MORTGAGE   \n",
       "2   60 months  debt_consolidation                  0.24       MORTGAGE   \n",
       "3   36 months  debt_consolidation                  0.14       MORTGAGE   \n",
       "4   36 months         credit_card                  0.19           RENT   \n",
       "\n",
       "   Monthly.Income  Open.CREDIT.Lines  Revolving.CREDIT.Balance  \\\n",
       "0         6541.67                 14                     14272   \n",
       "1         4583.33                 12                     11140   \n",
       "2        11500.00                 14                     21977   \n",
       "3         3833.33                 10                      9346   \n",
       "4         3195.00                 11                     14469   \n",
       "\n",
       "   Inquiries.in.the.Last.6.Months Employment.Length  \n",
       "0                               2            1 year  \n",
       "1                               1           2 years  \n",
       "2                               1           2 years  \n",
       "3                               0           5 years  \n",
       "4                               0           9 years  "
      ]
     },
     "execution_count": 5,
     "metadata": {},
     "output_type": "execute_result"
    }
   ],
   "source": [
    "# Looking at the first five rows\n",
    "LoanData.head()"
   ]
  },
  {
   "cell_type": "code",
   "execution_count": 6,
   "metadata": {},
   "outputs": [
    {
     "data": {
      "text/html": [
       "<div>\n",
       "<style scoped>\n",
       "    .dataframe tbody tr th:only-of-type {\n",
       "        vertical-align: middle;\n",
       "    }\n",
       "\n",
       "    .dataframe tbody tr th {\n",
       "        vertical-align: top;\n",
       "    }\n",
       "\n",
       "    .dataframe thead th {\n",
       "        text-align: right;\n",
       "    }\n",
       "</style>\n",
       "<table border=\"1\" class=\"dataframe\">\n",
       "  <thead>\n",
       "    <tr style=\"text-align: right;\">\n",
       "      <th></th>\n",
       "      <th>ID</th>\n",
       "      <th>Amount.Requested</th>\n",
       "      <th>Amount.Funded.By.Investors</th>\n",
       "      <th>Interest.Rate</th>\n",
       "      <th>Loan.Length</th>\n",
       "      <th>Loan.Purpose</th>\n",
       "      <th>Debt.To.Income.Ratio</th>\n",
       "      <th>Home.Ownership</th>\n",
       "      <th>Monthly.Income</th>\n",
       "      <th>Open.CREDIT.Lines</th>\n",
       "      <th>Revolving.CREDIT.Balance</th>\n",
       "      <th>Inquiries.in.the.Last.6.Months</th>\n",
       "      <th>Employment.Length</th>\n",
       "    </tr>\n",
       "  </thead>\n",
       "  <tbody>\n",
       "    <tr>\n",
       "      <th>2495</th>\n",
       "      <td>23735.0</td>\n",
       "      <td>30000</td>\n",
       "      <td>29950.00</td>\n",
       "      <td>0.17</td>\n",
       "      <td>60 months</td>\n",
       "      <td>debt_consolidation</td>\n",
       "      <td>0.19</td>\n",
       "      <td>MORTGAGE</td>\n",
       "      <td>9250.00</td>\n",
       "      <td>15</td>\n",
       "      <td>45880</td>\n",
       "      <td>1</td>\n",
       "      <td>8 years</td>\n",
       "    </tr>\n",
       "    <tr>\n",
       "      <th>2496</th>\n",
       "      <td>65882.0</td>\n",
       "      <td>16000</td>\n",
       "      <td>16000.00</td>\n",
       "      <td>0.14</td>\n",
       "      <td>60 months</td>\n",
       "      <td>home_improvement</td>\n",
       "      <td>0.22</td>\n",
       "      <td>OWN</td>\n",
       "      <td>8903.25</td>\n",
       "      <td>18</td>\n",
       "      <td>18898</td>\n",
       "      <td>1</td>\n",
       "      <td>10+ years</td>\n",
       "    </tr>\n",
       "    <tr>\n",
       "      <th>2497</th>\n",
       "      <td>55610.0</td>\n",
       "      <td>10000</td>\n",
       "      <td>10000.00</td>\n",
       "      <td>0.14</td>\n",
       "      <td>36 months</td>\n",
       "      <td>debt_consolidation</td>\n",
       "      <td>0.05</td>\n",
       "      <td>MORTGAGE</td>\n",
       "      <td>2166.67</td>\n",
       "      <td>4</td>\n",
       "      <td>4544</td>\n",
       "      <td>0</td>\n",
       "      <td>10+ years</td>\n",
       "    </tr>\n",
       "    <tr>\n",
       "      <th>2498</th>\n",
       "      <td>38576.0</td>\n",
       "      <td>6000</td>\n",
       "      <td>6000.00</td>\n",
       "      <td>0.12</td>\n",
       "      <td>36 months</td>\n",
       "      <td>major_purchase</td>\n",
       "      <td>0.17</td>\n",
       "      <td>RENT</td>\n",
       "      <td>3500.00</td>\n",
       "      <td>8</td>\n",
       "      <td>1275</td>\n",
       "      <td>0</td>\n",
       "      <td>5 years</td>\n",
       "    </tr>\n",
       "    <tr>\n",
       "      <th>2499</th>\n",
       "      <td>3116.0</td>\n",
       "      <td>9000</td>\n",
       "      <td>5242.75</td>\n",
       "      <td>0.14</td>\n",
       "      <td>36 months</td>\n",
       "      <td>debt_consolidation</td>\n",
       "      <td>0.07</td>\n",
       "      <td>RENT</td>\n",
       "      <td>3875.00</td>\n",
       "      <td>7</td>\n",
       "      <td>7589</td>\n",
       "      <td>0</td>\n",
       "      <td>10+ years</td>\n",
       "    </tr>\n",
       "  </tbody>\n",
       "</table>\n",
       "</div>"
      ],
      "text/plain": [
       "           ID  Amount.Requested  Amount.Funded.By.Investors  Interest.Rate  \\\n",
       "2495  23735.0             30000                    29950.00           0.17   \n",
       "2496  65882.0             16000                    16000.00           0.14   \n",
       "2497  55610.0             10000                    10000.00           0.14   \n",
       "2498  38576.0              6000                     6000.00           0.12   \n",
       "2499   3116.0              9000                     5242.75           0.14   \n",
       "\n",
       "     Loan.Length        Loan.Purpose  Debt.To.Income.Ratio Home.Ownership  \\\n",
       "2495   60 months  debt_consolidation                  0.19       MORTGAGE   \n",
       "2496   60 months    home_improvement                  0.22            OWN   \n",
       "2497   36 months  debt_consolidation                  0.05       MORTGAGE   \n",
       "2498   36 months      major_purchase                  0.17           RENT   \n",
       "2499   36 months  debt_consolidation                  0.07           RENT   \n",
       "\n",
       "      Monthly.Income  Open.CREDIT.Lines  Revolving.CREDIT.Balance  \\\n",
       "2495         9250.00                 15                     45880   \n",
       "2496         8903.25                 18                     18898   \n",
       "2497         2166.67                  4                      4544   \n",
       "2498         3500.00                  8                      1275   \n",
       "2499         3875.00                  7                      7589   \n",
       "\n",
       "      Inquiries.in.the.Last.6.Months Employment.Length  \n",
       "2495                               1           8 years  \n",
       "2496                               1         10+ years  \n",
       "2497                               0         10+ years  \n",
       "2498                               0           5 years  \n",
       "2499                               0         10+ years  "
      ]
     },
     "execution_count": 6,
     "metadata": {},
     "output_type": "execute_result"
    }
   ],
   "source": [
    "# Looking at the last five rows\n",
    "LoanData.tail()"
   ]
  },
  {
   "cell_type": "code",
   "execution_count": 8,
   "metadata": {},
   "outputs": [
    {
     "data": {
      "text/plain": [
       "2500"
      ]
     },
     "execution_count": 8,
     "metadata": {},
     "output_type": "execute_result"
    }
   ],
   "source": [
    "len(LoanData)"
   ]
  },
  {
   "cell_type": "markdown",
   "metadata": {},
   "source": [
    "Lets check the data type"
   ]
  },
  {
   "cell_type": "code",
   "execution_count": 7,
   "metadata": {},
   "outputs": [
    {
     "name": "stdout",
     "output_type": "stream",
     "text": [
      "<class 'pandas.core.frame.DataFrame'>\n",
      "RangeIndex: 2500 entries, 0 to 2499\n",
      "Data columns (total 13 columns):\n",
      "ID                                2499 non-null float64\n",
      "Amount.Requested                  2500 non-null int64\n",
      "Amount.Funded.By.Investors        2500 non-null float64\n",
      "Interest.Rate                     2500 non-null float64\n",
      "Loan.Length                       2499 non-null object\n",
      "Loan.Purpose                      2499 non-null object\n",
      "Debt.To.Income.Ratio              2500 non-null float64\n",
      "Home.Ownership                    2499 non-null object\n",
      "Monthly.Income                    2500 non-null float64\n",
      "Open.CREDIT.Lines                 2500 non-null int64\n",
      "Revolving.CREDIT.Balance          2500 non-null int64\n",
      "Inquiries.in.the.Last.6.Months    2500 non-null int64\n",
      "Employment.Length                 2422 non-null object\n",
      "dtypes: float64(5), int64(4), object(4)\n",
      "memory usage: 254.0+ KB\n"
     ]
    }
   ],
   "source": [
    "# What type of values are stored in the columns?\n",
    "LoanData.info()"
   ]
  },
  {
   "cell_type": "code",
   "execution_count": 9,
   "metadata": {},
   "outputs": [
    {
     "data": {
      "text/html": [
       "<div>\n",
       "<style scoped>\n",
       "    .dataframe tbody tr th:only-of-type {\n",
       "        vertical-align: middle;\n",
       "    }\n",
       "\n",
       "    .dataframe tbody tr th {\n",
       "        vertical-align: top;\n",
       "    }\n",
       "\n",
       "    .dataframe thead th {\n",
       "        text-align: right;\n",
       "    }\n",
       "</style>\n",
       "<table border=\"1\" class=\"dataframe\">\n",
       "  <thead>\n",
       "    <tr style=\"text-align: right;\">\n",
       "      <th></th>\n",
       "      <th>ID</th>\n",
       "      <th>Amount.Requested</th>\n",
       "      <th>Amount.Funded.By.Investors</th>\n",
       "      <th>Interest.Rate</th>\n",
       "      <th>Debt.To.Income.Ratio</th>\n",
       "      <th>Monthly.Income</th>\n",
       "      <th>Open.CREDIT.Lines</th>\n",
       "      <th>Revolving.CREDIT.Balance</th>\n",
       "      <th>Inquiries.in.the.Last.6.Months</th>\n",
       "    </tr>\n",
       "  </thead>\n",
       "  <tbody>\n",
       "    <tr>\n",
       "      <th>count</th>\n",
       "      <td>2499.000000</td>\n",
       "      <td>2500.000000</td>\n",
       "      <td>2500.000000</td>\n",
       "      <td>2500.000000</td>\n",
       "      <td>2500.000000</td>\n",
       "      <td>2500.000000</td>\n",
       "      <td>2500.000000</td>\n",
       "      <td>2500.000000</td>\n",
       "      <td>2500.000000</td>\n",
       "    </tr>\n",
       "    <tr>\n",
       "      <th>mean</th>\n",
       "      <td>51643.325330</td>\n",
       "      <td>12389.590000</td>\n",
       "      <td>11984.346044</td>\n",
       "      <td>0.130396</td>\n",
       "      <td>0.153752</td>\n",
       "      <td>5685.153348</td>\n",
       "      <td>10.060800</td>\n",
       "      <td>15225.668800</td>\n",
       "      <td>0.910400</td>\n",
       "    </tr>\n",
       "    <tr>\n",
       "      <th>std</th>\n",
       "      <td>30053.637661</td>\n",
       "      <td>7814.420929</td>\n",
       "      <td>7743.480223</td>\n",
       "      <td>0.041301</td>\n",
       "      <td>0.075164</td>\n",
       "      <td>3963.376189</td>\n",
       "      <td>4.516687</td>\n",
       "      <td>18308.723678</td>\n",
       "      <td>1.235064</td>\n",
       "    </tr>\n",
       "    <tr>\n",
       "      <th>min</th>\n",
       "      <td>10.000000</td>\n",
       "      <td>1000.000000</td>\n",
       "      <td>200.000000</td>\n",
       "      <td>0.050000</td>\n",
       "      <td>0.000000</td>\n",
       "      <td>588.500000</td>\n",
       "      <td>2.000000</td>\n",
       "      <td>0.000000</td>\n",
       "      <td>0.000000</td>\n",
       "    </tr>\n",
       "    <tr>\n",
       "      <th>25%</th>\n",
       "      <td>26570.500000</td>\n",
       "      <td>6000.000000</td>\n",
       "      <td>6000.000000</td>\n",
       "      <td>0.100000</td>\n",
       "      <td>0.100000</td>\n",
       "      <td>3474.267500</td>\n",
       "      <td>7.000000</td>\n",
       "      <td>5545.250000</td>\n",
       "      <td>0.000000</td>\n",
       "    </tr>\n",
       "    <tr>\n",
       "      <th>50%</th>\n",
       "      <td>50673.000000</td>\n",
       "      <td>10000.000000</td>\n",
       "      <td>10000.000000</td>\n",
       "      <td>0.130000</td>\n",
       "      <td>0.150000</td>\n",
       "      <td>5000.000000</td>\n",
       "      <td>9.000000</td>\n",
       "      <td>10938.000000</td>\n",
       "      <td>1.000000</td>\n",
       "    </tr>\n",
       "    <tr>\n",
       "      <th>75%</th>\n",
       "      <td>77583.000000</td>\n",
       "      <td>17000.000000</td>\n",
       "      <td>16000.000000</td>\n",
       "      <td>0.160000</td>\n",
       "      <td>0.210000</td>\n",
       "      <td>6800.000000</td>\n",
       "      <td>13.000000</td>\n",
       "      <td>18870.250000</td>\n",
       "      <td>1.000000</td>\n",
       "    </tr>\n",
       "    <tr>\n",
       "      <th>max</th>\n",
       "      <td>104202.000000</td>\n",
       "      <td>35000.000000</td>\n",
       "      <td>35000.000000</td>\n",
       "      <td>0.250000</td>\n",
       "      <td>0.350000</td>\n",
       "      <td>102750.000000</td>\n",
       "      <td>38.000000</td>\n",
       "      <td>270800.000000</td>\n",
       "      <td>9.000000</td>\n",
       "    </tr>\n",
       "  </tbody>\n",
       "</table>\n",
       "</div>"
      ],
      "text/plain": [
       "                  ID  Amount.Requested  Amount.Funded.By.Investors  \\\n",
       "count    2499.000000       2500.000000                 2500.000000   \n",
       "mean    51643.325330      12389.590000                11984.346044   \n",
       "std     30053.637661       7814.420929                 7743.480223   \n",
       "min        10.000000       1000.000000                  200.000000   \n",
       "25%     26570.500000       6000.000000                 6000.000000   \n",
       "50%     50673.000000      10000.000000                10000.000000   \n",
       "75%     77583.000000      17000.000000                16000.000000   \n",
       "max    104202.000000      35000.000000                35000.000000   \n",
       "\n",
       "       Interest.Rate  Debt.To.Income.Ratio  Monthly.Income  Open.CREDIT.Lines  \\\n",
       "count    2500.000000           2500.000000     2500.000000        2500.000000   \n",
       "mean        0.130396              0.153752     5685.153348          10.060800   \n",
       "std         0.041301              0.075164     3963.376189           4.516687   \n",
       "min         0.050000              0.000000      588.500000           2.000000   \n",
       "25%         0.100000              0.100000     3474.267500           7.000000   \n",
       "50%         0.130000              0.150000     5000.000000           9.000000   \n",
       "75%         0.160000              0.210000     6800.000000          13.000000   \n",
       "max         0.250000              0.350000   102750.000000          38.000000   \n",
       "\n",
       "       Revolving.CREDIT.Balance  Inquiries.in.the.Last.6.Months  \n",
       "count               2500.000000                     2500.000000  \n",
       "mean               15225.668800                        0.910400  \n",
       "std                18308.723678                        1.235064  \n",
       "min                    0.000000                        0.000000  \n",
       "25%                 5545.250000                        0.000000  \n",
       "50%                10938.000000                        1.000000  \n",
       "75%                18870.250000                        1.000000  \n",
       "max               270800.000000                        9.000000  "
      ]
     },
     "execution_count": 9,
     "metadata": {},
     "output_type": "execute_result"
    }
   ],
   "source": [
    "# Let's look at some statistical information about our dataframe.\n",
    "LoanData.describe()"
   ]
  },
  {
   "cell_type": "markdown",
   "metadata": {},
   "source": [
    "Step 2: Visualising Data"
   ]
  },
  {
   "cell_type": "code",
   "execution_count": 10,
   "metadata": {},
   "outputs": [],
   "source": [
    "import matplotlib.pyplot as plt\n",
    "import seaborn as sns\n",
    "%matplotlib inline"
   ]
  },
  {
   "cell_type": "code",
   "execution_count": 11,
   "metadata": {},
   "outputs": [
    {
     "name": "stderr",
     "output_type": "stream",
     "text": [
      "C:\\ProgramData\\Anaconda3\\lib\\site-packages\\seaborn\\axisgrid.py:2065: UserWarning: The `size` parameter has been renamed to `height`; pleaes update your code.\n",
      "  warnings.warn(msg, UserWarning)\n"
     ]
    },
    {
     "data": {
      "text/plain": [
       "<seaborn.axisgrid.PairGrid at 0x180d5e38c50>"
      ]
     },
     "execution_count": 11,
     "metadata": {},
     "output_type": "execute_result"
    },
    {
     "data": {
      "image/png": "[encoded data removed]",
      "text/plain": [
       "<Figure size 1058.4x504 with 3 Axes>"
      ]
     },
     "metadata": {
      "needs_background": "light"
     },
     "output_type": "display_data"
    }
   ],
   "source": [
    "# Visualise the relationship between the features and the response using scatterplots\n",
    "sns.pairplot(LoanData, x_vars=['Debt.To.Income.Ratio','Monthly.Income','Inquiries.in.the.Last.6.Months'], y_vars='Interest.Rate',\n",
    "             size=7, aspect=0.7, kind='scatter')"
   ]
  },
  {
   "cell_type": "code",
   "execution_count": 12,
   "metadata": {},
   "outputs": [
    {
     "data": {
      "text/plain": [
       "<matplotlib.axes._subplots.AxesSubplot at 0x180d4bfe748>"
      ]
     },
     "execution_count": 12,
     "metadata": {},
     "output_type": "execute_result"
    },
    {
     "data": {
      "image/png": "[encoded data removed]",
      "text/plain": [
       "<Figure size 432x288 with 1 Axes>"
      ]
     },
     "metadata": {
      "needs_background": "light"
     },
     "output_type": "display_data"
    }
   ],
   "source": [
    "sns.boxplot(data=LoanData[\"Debt.To.Income.Ratio\"])"
   ]
  },
  {
   "cell_type": "code",
   "execution_count": 13,
   "metadata": {},
   "outputs": [
    {
     "data": {
      "text/plain": [
       "<matplotlib.axes._subplots.AxesSubplot at 0x180d4cad630>"
      ]
     },
     "execution_count": 13,
     "metadata": {},
     "output_type": "execute_result"
    },
    {
     "data": {
      "image/png": "[encoded data removed]",
      "text/plain": [
       "<Figure size 432x288 with 1 Axes>"
      ]
     },
     "metadata": {
      "needs_background": "light"
     },
     "output_type": "display_data"
    }
   ],
   "source": [
    "sns.boxplot(data=LoanData[\"Monthly.Income\"])"
   ]
  },
  {
   "cell_type": "markdown",
   "metadata": {},
   "source": [
    "Exploration of Categorical Variables"
   ]
  },
  {
   "cell_type": "code",
   "execution_count": 14,
   "metadata": {},
   "outputs": [
    {
     "data": {
      "text/plain": [
       "<matplotlib.axes._subplots.AxesSubplot at 0x180d6514588>"
      ]
     },
     "execution_count": 14,
     "metadata": {},
     "output_type": "execute_result"
    },
    {
     "data": {
      "image/png": "[encoded data removed]",
      "text/plain": [
       "<Figure size 432x288 with 1 Axes>"
      ]
     },
     "metadata": {
      "needs_background": "light"
     },
     "output_type": "display_data"
    }
   ],
   "source": [
    "sns.boxplot( x=LoanData[\"Loan.Length\"], y=LoanData[\"Interest.Rate\"] )"
   ]
  },
  {
   "cell_type": "code",
   "execution_count": 15,
   "metadata": {},
   "outputs": [
    {
     "data": {
      "text/plain": [
       "Loan.Length\n",
       ".               1\n",
       "36 months    1950\n",
       "60 months     547\n",
       "Name: ID, dtype: int64"
      ]
     },
     "execution_count": 15,
     "metadata": {},
     "output_type": "execute_result"
    }
   ],
   "source": [
    "LoanData.groupby(\"Loan.Length\")[\"ID\"].nunique()"
   ]
  },
  {
   "cell_type": "code",
   "execution_count": 17,
   "metadata": {},
   "outputs": [],
   "source": [
    "# We can see we have one row which is creating problem\n",
    "# So let us replace that row by mode value which is 36 months\n",
    "LoanData[\"Loan.Length\"].replace(['.'],['36 months'],inplace=True)"
   ]
  },
  {
   "cell_type": "markdown",
   "metadata": {},
   "source": [
    "df['Consolidated Latitude'] = df['Consolidated Latitude'].replace('nan', np.nan).fillna(0)\n",
    "\n",
    "def missing_value_treatment(val):\n",
    "    try:\n",
    "        if np.isnan(val)!=True:\n",
    "            return float(val)\n",
    "    except:\n",
    "        return 0.00\n",
    "\n",
    "volume_data['Neighborhood Index'] = volume_data['Neighborhood Index'].map(lambda x: missing_value_treatment(x))\n"
   ]
  },
  {
   "cell_type": "code",
   "execution_count": 18,
   "metadata": {},
   "outputs": [
    {
     "data": {
      "text/plain": [
       "Loan.Length\n",
       "36 months    1951\n",
       "60 months     547\n",
       "Name: ID, dtype: int64"
      ]
     },
     "execution_count": 18,
     "metadata": {},
     "output_type": "execute_result"
    }
   ],
   "source": [
    "LoanData.groupby(\"Loan.Length\")[\"ID\"].nunique()\n",
    "# We can see that the value is replaced."
   ]
  },
  {
   "cell_type": "markdown",
   "metadata": {},
   "source": [
    "Seperate the Numerical and Categorical variables"
   ]
  },
  {
   "cell_type": "code",
   "execution_count": 21,
   "metadata": {},
   "outputs": [
    {
     "data": {
      "text/plain": [
       "['ID',\n",
       " 'Amount.Requested',\n",
       " 'Amount.Funded.By.Investors',\n",
       " 'Interest.Rate',\n",
       " 'Debt.To.Income.Ratio',\n",
       " 'Monthly.Income',\n",
       " 'Open.CREDIT.Lines',\n",
       " 'Revolving.CREDIT.Balance',\n",
       " 'Inquiries.in.the.Last.6.Months']"
      ]
     },
     "execution_count": 21,
     "metadata": {},
     "output_type": "execute_result"
    }
   ],
   "source": [
    "#Numerical Variables:\n",
    "\n",
    "LoanData.select_dtypes(include=[np.number]).columns.tolist()"
   ]
  },
  {
   "cell_type": "code",
   "execution_count": 22,
   "metadata": {},
   "outputs": [],
   "source": [
    "#Removing ID\n",
    "LoanData_num = LoanData[['Amount.Requested',\n",
    " 'Amount.Funded.By.Investors',\n",
    " 'Interest.Rate',\n",
    " 'Debt.To.Income.Ratio',\n",
    " 'Monthly.Income',\n",
    " 'Open.CREDIT.Lines',\n",
    " 'Revolving.CREDIT.Balance',\n",
    " 'Inquiries.in.the.Last.6.Months']]"
   ]
  },
  {
   "cell_type": "code",
   "execution_count": 23,
   "metadata": {},
   "outputs": [
    {
     "data": {
      "text/plain": [
       "Index(['Amount.Requested', 'Amount.Funded.By.Investors', 'Interest.Rate',\n",
       "       'Debt.To.Income.Ratio', 'Monthly.Income', 'Open.CREDIT.Lines',\n",
       "       'Revolving.CREDIT.Balance', 'Inquiries.in.the.Last.6.Months'],\n",
       "      dtype='object')"
      ]
     },
     "execution_count": 23,
     "metadata": {},
     "output_type": "execute_result"
    }
   ],
   "source": [
    "LoanData_num.columns"
   ]
  },
  {
   "cell_type": "markdown",
   "metadata": {},
   "source": [
    "Categorical Variables: The variables which are having category should be converted to dummy variables.\n",
    "\n",
    "The Linear regression will only accept numbers so we will make dummy variables."
   ]
  },
  {
   "cell_type": "markdown",
   "metadata": {},
   "source": [
    "Creation of dummy variables"
   ]
  },
  {
   "cell_type": "code",
   "execution_count": 24,
   "metadata": {},
   "outputs": [
    {
     "data": {
      "text/plain": [
       "['Loan.Length', 'Loan.Purpose', 'Home.Ownership', 'Employment.Length']"
      ]
     },
     "execution_count": 24,
     "metadata": {},
     "output_type": "execute_result"
    }
   ],
   "source": [
    "LoanData.select_dtypes(include=['object']).columns.tolist()"
   ]
  },
  {
   "cell_type": "code",
   "execution_count": 25,
   "metadata": {},
   "outputs": [],
   "source": [
    "LoanData_dummies = pd.get_dummies(LoanData[['Loan.Length', 'Loan.Purpose', 'Home.Ownership', 'Employment.Length']])"
   ]
  },
  {
   "cell_type": "code",
   "execution_count": 26,
   "metadata": {},
   "outputs": [
    {
     "data": {
      "text/html": [
       "<div>\n",
       "<style scoped>\n",
       "    .dataframe tbody tr th:only-of-type {\n",
       "        vertical-align: middle;\n",
       "    }\n",
       "\n",
       "    .dataframe tbody tr th {\n",
       "        vertical-align: top;\n",
       "    }\n",
       "\n",
       "    .dataframe thead th {\n",
       "        text-align: right;\n",
       "    }\n",
       "</style>\n",
       "<table border=\"1\" class=\"dataframe\">\n",
       "  <thead>\n",
       "    <tr style=\"text-align: right;\">\n",
       "      <th></th>\n",
       "      <th>Loan.Length_36 months</th>\n",
       "      <th>Loan.Length_60 months</th>\n",
       "      <th>Loan.Purpose_car</th>\n",
       "      <th>Loan.Purpose_credit_card</th>\n",
       "      <th>Loan.Purpose_debt_consolidation</th>\n",
       "      <th>Loan.Purpose_educational</th>\n",
       "      <th>Loan.Purpose_home_improvement</th>\n",
       "      <th>Loan.Purpose_house</th>\n",
       "      <th>Loan.Purpose_major_purchase</th>\n",
       "      <th>Loan.Purpose_medical</th>\n",
       "      <th>...</th>\n",
       "      <th>Employment.Length_1 year</th>\n",
       "      <th>Employment.Length_10+ years</th>\n",
       "      <th>Employment.Length_2 years</th>\n",
       "      <th>Employment.Length_3 years</th>\n",
       "      <th>Employment.Length_4 years</th>\n",
       "      <th>Employment.Length_5 years</th>\n",
       "      <th>Employment.Length_6 years</th>\n",
       "      <th>Employment.Length_7 years</th>\n",
       "      <th>Employment.Length_8 years</th>\n",
       "      <th>Employment.Length_9 years</th>\n",
       "    </tr>\n",
       "  </thead>\n",
       "  <tbody>\n",
       "    <tr>\n",
       "      <th>0</th>\n",
       "      <td>1</td>\n",
       "      <td>0</td>\n",
       "      <td>0</td>\n",
       "      <td>0</td>\n",
       "      <td>1</td>\n",
       "      <td>0</td>\n",
       "      <td>0</td>\n",
       "      <td>0</td>\n",
       "      <td>0</td>\n",
       "      <td>0</td>\n",
       "      <td>...</td>\n",
       "      <td>1</td>\n",
       "      <td>0</td>\n",
       "      <td>0</td>\n",
       "      <td>0</td>\n",
       "      <td>0</td>\n",
       "      <td>0</td>\n",
       "      <td>0</td>\n",
       "      <td>0</td>\n",
       "      <td>0</td>\n",
       "      <td>0</td>\n",
       "    </tr>\n",
       "    <tr>\n",
       "      <th>1</th>\n",
       "      <td>1</td>\n",
       "      <td>0</td>\n",
       "      <td>0</td>\n",
       "      <td>0</td>\n",
       "      <td>1</td>\n",
       "      <td>0</td>\n",
       "      <td>0</td>\n",
       "      <td>0</td>\n",
       "      <td>0</td>\n",
       "      <td>0</td>\n",
       "      <td>...</td>\n",
       "      <td>0</td>\n",
       "      <td>0</td>\n",
       "      <td>1</td>\n",
       "      <td>0</td>\n",
       "      <td>0</td>\n",
       "      <td>0</td>\n",
       "      <td>0</td>\n",
       "      <td>0</td>\n",
       "      <td>0</td>\n",
       "      <td>0</td>\n",
       "    </tr>\n",
       "    <tr>\n",
       "      <th>2</th>\n",
       "      <td>0</td>\n",
       "      <td>1</td>\n",
       "      <td>0</td>\n",
       "      <td>0</td>\n",
       "      <td>1</td>\n",
       "      <td>0</td>\n",
       "      <td>0</td>\n",
       "      <td>0</td>\n",
       "      <td>0</td>\n",
       "      <td>0</td>\n",
       "      <td>...</td>\n",
       "      <td>0</td>\n",
       "      <td>0</td>\n",
       "      <td>1</td>\n",
       "      <td>0</td>\n",
       "      <td>0</td>\n",
       "      <td>0</td>\n",
       "      <td>0</td>\n",
       "      <td>0</td>\n",
       "      <td>0</td>\n",
       "      <td>0</td>\n",
       "    </tr>\n",
       "    <tr>\n",
       "      <th>3</th>\n",
       "      <td>1</td>\n",
       "      <td>0</td>\n",
       "      <td>0</td>\n",
       "      <td>0</td>\n",
       "      <td>1</td>\n",
       "      <td>0</td>\n",
       "      <td>0</td>\n",
       "      <td>0</td>\n",
       "      <td>0</td>\n",
       "      <td>0</td>\n",
       "      <td>...</td>\n",
       "      <td>0</td>\n",
       "      <td>0</td>\n",
       "      <td>0</td>\n",
       "      <td>0</td>\n",
       "      <td>0</td>\n",
       "      <td>1</td>\n",
       "      <td>0</td>\n",
       "      <td>0</td>\n",
       "      <td>0</td>\n",
       "      <td>0</td>\n",
       "    </tr>\n",
       "    <tr>\n",
       "      <th>4</th>\n",
       "      <td>1</td>\n",
       "      <td>0</td>\n",
       "      <td>0</td>\n",
       "      <td>1</td>\n",
       "      <td>0</td>\n",
       "      <td>0</td>\n",
       "      <td>0</td>\n",
       "      <td>0</td>\n",
       "      <td>0</td>\n",
       "      <td>0</td>\n",
       "      <td>...</td>\n",
       "      <td>0</td>\n",
       "      <td>0</td>\n",
       "      <td>0</td>\n",
       "      <td>0</td>\n",
       "      <td>0</td>\n",
       "      <td>0</td>\n",
       "      <td>0</td>\n",
       "      <td>0</td>\n",
       "      <td>0</td>\n",
       "      <td>1</td>\n",
       "    </tr>\n",
       "  </tbody>\n",
       "</table>\n",
       "<p>5 rows × 31 columns</p>\n",
       "</div>"
      ],
      "text/plain": [
       "   Loan.Length_36 months  Loan.Length_60 months  Loan.Purpose_car  \\\n",
       "0                      1                      0                 0   \n",
       "1                      1                      0                 0   \n",
       "2                      0                      1                 0   \n",
       "3                      1                      0                 0   \n",
       "4                      1                      0                 0   \n",
       "\n",
       "   Loan.Purpose_credit_card  Loan.Purpose_debt_consolidation  \\\n",
       "0                         0                                1   \n",
       "1                         0                                1   \n",
       "2                         0                                1   \n",
       "3                         0                                1   \n",
       "4                         1                                0   \n",
       "\n",
       "   Loan.Purpose_educational  Loan.Purpose_home_improvement  \\\n",
       "0                         0                              0   \n",
       "1                         0                              0   \n",
       "2                         0                              0   \n",
       "3                         0                              0   \n",
       "4                         0                              0   \n",
       "\n",
       "   Loan.Purpose_house  Loan.Purpose_major_purchase  Loan.Purpose_medical  \\\n",
       "0                   0                            0                     0   \n",
       "1                   0                            0                     0   \n",
       "2                   0                            0                     0   \n",
       "3                   0                            0                     0   \n",
       "4                   0                            0                     0   \n",
       "\n",
       "             ...              Employment.Length_1 year  \\\n",
       "0            ...                                     1   \n",
       "1            ...                                     0   \n",
       "2            ...                                     0   \n",
       "3            ...                                     0   \n",
       "4            ...                                     0   \n",
       "\n",
       "   Employment.Length_10+ years  Employment.Length_2 years  \\\n",
       "0                            0                          0   \n",
       "1                            0                          1   \n",
       "2                            0                          1   \n",
       "3                            0                          0   \n",
       "4                            0                          0   \n",
       "\n",
       "   Employment.Length_3 years  Employment.Length_4 years  \\\n",
       "0                          0                          0   \n",
       "1                          0                          0   \n",
       "2                          0                          0   \n",
       "3                          0                          0   \n",
       "4                          0                          0   \n",
       "\n",
       "   Employment.Length_5 years  Employment.Length_6 years  \\\n",
       "0                          0                          0   \n",
       "1                          0                          0   \n",
       "2                          0                          0   \n",
       "3                          1                          0   \n",
       "4                          0                          0   \n",
       "\n",
       "   Employment.Length_7 years  Employment.Length_8 years  \\\n",
       "0                          0                          0   \n",
       "1                          0                          0   \n",
       "2                          0                          0   \n",
       "3                          0                          0   \n",
       "4                          0                          0   \n",
       "\n",
       "   Employment.Length_9 years  \n",
       "0                          0  \n",
       "1                          0  \n",
       "2                          0  \n",
       "3                          0  \n",
       "4                          1  \n",
       "\n",
       "[5 rows x 31 columns]"
      ]
     },
     "execution_count": 26,
     "metadata": {},
     "output_type": "execute_result"
    }
   ],
   "source": [
    "LoanData_dummies.head()"
   ]
  },
  {
   "cell_type": "markdown",
   "metadata": {},
   "source": [
    "Combine Numerical and Dummy variables"
   ]
  },
  {
   "cell_type": "code",
   "execution_count": 27,
   "metadata": {},
   "outputs": [],
   "source": [
    "LoanData_combined = pd.concat([LoanData_num, LoanData_dummies], axis=1)"
   ]
  },
  {
   "cell_type": "code",
   "execution_count": 28,
   "metadata": {},
   "outputs": [
    {
     "data": {
      "text/html": [
       "<div>\n",
       "<style scoped>\n",
       "    .dataframe tbody tr th:only-of-type {\n",
       "        vertical-align: middle;\n",
       "    }\n",
       "\n",
       "    .dataframe tbody tr th {\n",
       "        vertical-align: top;\n",
       "    }\n",
       "\n",
       "    .dataframe thead th {\n",
       "        text-align: right;\n",
       "    }\n",
       "</style>\n",
       "<table border=\"1\" class=\"dataframe\">\n",
       "  <thead>\n",
       "    <tr style=\"text-align: right;\">\n",
       "      <th></th>\n",
       "      <th>Amount.Requested</th>\n",
       "      <th>Amount.Funded.By.Investors</th>\n",
       "      <th>Interest.Rate</th>\n",
       "      <th>Debt.To.Income.Ratio</th>\n",
       "      <th>Monthly.Income</th>\n",
       "      <th>Open.CREDIT.Lines</th>\n",
       "      <th>Revolving.CREDIT.Balance</th>\n",
       "      <th>Inquiries.in.the.Last.6.Months</th>\n",
       "      <th>Loan.Length_36 months</th>\n",
       "      <th>Loan.Length_60 months</th>\n",
       "      <th>...</th>\n",
       "      <th>Employment.Length_1 year</th>\n",
       "      <th>Employment.Length_10+ years</th>\n",
       "      <th>Employment.Length_2 years</th>\n",
       "      <th>Employment.Length_3 years</th>\n",
       "      <th>Employment.Length_4 years</th>\n",
       "      <th>Employment.Length_5 years</th>\n",
       "      <th>Employment.Length_6 years</th>\n",
       "      <th>Employment.Length_7 years</th>\n",
       "      <th>Employment.Length_8 years</th>\n",
       "      <th>Employment.Length_9 years</th>\n",
       "    </tr>\n",
       "  </thead>\n",
       "  <tbody>\n",
       "    <tr>\n",
       "      <th>0</th>\n",
       "      <td>20000</td>\n",
       "      <td>20000.0</td>\n",
       "      <td>0.09</td>\n",
       "      <td>0.15</td>\n",
       "      <td>6541.67</td>\n",
       "      <td>14</td>\n",
       "      <td>14272</td>\n",
       "      <td>2</td>\n",
       "      <td>1</td>\n",
       "      <td>0</td>\n",
       "      <td>...</td>\n",
       "      <td>1</td>\n",
       "      <td>0</td>\n",
       "      <td>0</td>\n",
       "      <td>0</td>\n",
       "      <td>0</td>\n",
       "      <td>0</td>\n",
       "      <td>0</td>\n",
       "      <td>0</td>\n",
       "      <td>0</td>\n",
       "      <td>0</td>\n",
       "    </tr>\n",
       "    <tr>\n",
       "      <th>1</th>\n",
       "      <td>19200</td>\n",
       "      <td>19200.0</td>\n",
       "      <td>0.12</td>\n",
       "      <td>0.28</td>\n",
       "      <td>4583.33</td>\n",
       "      <td>12</td>\n",
       "      <td>11140</td>\n",
       "      <td>1</td>\n",
       "      <td>1</td>\n",
       "      <td>0</td>\n",
       "      <td>...</td>\n",
       "      <td>0</td>\n",
       "      <td>0</td>\n",
       "      <td>1</td>\n",
       "      <td>0</td>\n",
       "      <td>0</td>\n",
       "      <td>0</td>\n",
       "      <td>0</td>\n",
       "      <td>0</td>\n",
       "      <td>0</td>\n",
       "      <td>0</td>\n",
       "    </tr>\n",
       "    <tr>\n",
       "      <th>2</th>\n",
       "      <td>35000</td>\n",
       "      <td>35000.0</td>\n",
       "      <td>0.22</td>\n",
       "      <td>0.24</td>\n",
       "      <td>11500.00</td>\n",
       "      <td>14</td>\n",
       "      <td>21977</td>\n",
       "      <td>1</td>\n",
       "      <td>0</td>\n",
       "      <td>1</td>\n",
       "      <td>...</td>\n",
       "      <td>0</td>\n",
       "      <td>0</td>\n",
       "      <td>1</td>\n",
       "      <td>0</td>\n",
       "      <td>0</td>\n",
       "      <td>0</td>\n",
       "      <td>0</td>\n",
       "      <td>0</td>\n",
       "      <td>0</td>\n",
       "      <td>0</td>\n",
       "    </tr>\n",
       "    <tr>\n",
       "      <th>3</th>\n",
       "      <td>10000</td>\n",
       "      <td>9975.0</td>\n",
       "      <td>0.10</td>\n",
       "      <td>0.14</td>\n",
       "      <td>3833.33</td>\n",
       "      <td>10</td>\n",
       "      <td>9346</td>\n",
       "      <td>0</td>\n",
       "      <td>1</td>\n",
       "      <td>0</td>\n",
       "      <td>...</td>\n",
       "      <td>0</td>\n",
       "      <td>0</td>\n",
       "      <td>0</td>\n",
       "      <td>0</td>\n",
       "      <td>0</td>\n",
       "      <td>1</td>\n",
       "      <td>0</td>\n",
       "      <td>0</td>\n",
       "      <td>0</td>\n",
       "      <td>0</td>\n",
       "    </tr>\n",
       "    <tr>\n",
       "      <th>4</th>\n",
       "      <td>12000</td>\n",
       "      <td>12000.0</td>\n",
       "      <td>0.12</td>\n",
       "      <td>0.19</td>\n",
       "      <td>3195.00</td>\n",
       "      <td>11</td>\n",
       "      <td>14469</td>\n",
       "      <td>0</td>\n",
       "      <td>1</td>\n",
       "      <td>0</td>\n",
       "      <td>...</td>\n",
       "      <td>0</td>\n",
       "      <td>0</td>\n",
       "      <td>0</td>\n",
       "      <td>0</td>\n",
       "      <td>0</td>\n",
       "      <td>0</td>\n",
       "      <td>0</td>\n",
       "      <td>0</td>\n",
       "      <td>0</td>\n",
       "      <td>1</td>\n",
       "    </tr>\n",
       "  </tbody>\n",
       "</table>\n",
       "<p>5 rows × 39 columns</p>\n",
       "</div>"
      ],
      "text/plain": [
       "   Amount.Requested  Amount.Funded.By.Investors  Interest.Rate  \\\n",
       "0             20000                     20000.0           0.09   \n",
       "1             19200                     19200.0           0.12   \n",
       "2             35000                     35000.0           0.22   \n",
       "3             10000                      9975.0           0.10   \n",
       "4             12000                     12000.0           0.12   \n",
       "\n",
       "   Debt.To.Income.Ratio  Monthly.Income  Open.CREDIT.Lines  \\\n",
       "0                  0.15         6541.67                 14   \n",
       "1                  0.28         4583.33                 12   \n",
       "2                  0.24        11500.00                 14   \n",
       "3                  0.14         3833.33                 10   \n",
       "4                  0.19         3195.00                 11   \n",
       "\n",
       "   Revolving.CREDIT.Balance  Inquiries.in.the.Last.6.Months  \\\n",
       "0                     14272                               2   \n",
       "1                     11140                               1   \n",
       "2                     21977                               1   \n",
       "3                      9346                               0   \n",
       "4                     14469                               0   \n",
       "\n",
       "   Loan.Length_36 months  Loan.Length_60 months            ...              \\\n",
       "0                      1                      0            ...               \n",
       "1                      1                      0            ...               \n",
       "2                      0                      1            ...               \n",
       "3                      1                      0            ...               \n",
       "4                      1                      0            ...               \n",
       "\n",
       "   Employment.Length_1 year  Employment.Length_10+ years  \\\n",
       "0                         1                            0   \n",
       "1                         0                            0   \n",
       "2                         0                            0   \n",
       "3                         0                            0   \n",
       "4                         0                            0   \n",
       "\n",
       "   Employment.Length_2 years  Employment.Length_3 years  \\\n",
       "0                          0                          0   \n",
       "1                          1                          0   \n",
       "2                          1                          0   \n",
       "3                          0                          0   \n",
       "4                          0                          0   \n",
       "\n",
       "   Employment.Length_4 years  Employment.Length_5 years  \\\n",
       "0                          0                          0   \n",
       "1                          0                          0   \n",
       "2                          0                          0   \n",
       "3                          0                          1   \n",
       "4                          0                          0   \n",
       "\n",
       "   Employment.Length_6 years  Employment.Length_7 years  \\\n",
       "0                          0                          0   \n",
       "1                          0                          0   \n",
       "2                          0                          0   \n",
       "3                          0                          0   \n",
       "4                          0                          0   \n",
       "\n",
       "   Employment.Length_8 years  Employment.Length_9 years  \n",
       "0                          0                          0  \n",
       "1                          0                          0  \n",
       "2                          0                          0  \n",
       "3                          0                          0  \n",
       "4                          0                          1  \n",
       "\n",
       "[5 rows x 39 columns]"
      ]
     },
     "execution_count": 28,
     "metadata": {},
     "output_type": "execute_result"
    }
   ],
   "source": [
    "LoanData_combined.head()"
   ]
  },
  {
   "cell_type": "code",
   "execution_count": 29,
   "metadata": {},
   "outputs": [
    {
     "data": {
      "text/plain": [
       "Amount.Requested                   0\n",
       "Amount.Funded.By.Investors         0\n",
       "Interest.Rate                      0\n",
       "Debt.To.Income.Ratio               0\n",
       "Monthly.Income                     0\n",
       "Open.CREDIT.Lines                  0\n",
       "Revolving.CREDIT.Balance           0\n",
       "Inquiries.in.the.Last.6.Months     0\n",
       "Loan.Length_36 months              0\n",
       "Loan.Length_60 months              0\n",
       "Loan.Purpose_car                   0\n",
       "Loan.Purpose_credit_card           0\n",
       "Loan.Purpose_debt_consolidation    0\n",
       "Loan.Purpose_educational           0\n",
       "Loan.Purpose_home_improvement      0\n",
       "Loan.Purpose_house                 0\n",
       "Loan.Purpose_major_purchase        0\n",
       "Loan.Purpose_medical               0\n",
       "Loan.Purpose_moving                0\n",
       "Loan.Purpose_other                 0\n",
       "Loan.Purpose_renewable_energy      0\n",
       "Loan.Purpose_small_business        0\n",
       "Loan.Purpose_vacation              0\n",
       "Loan.Purpose_wedding               0\n",
       "Home.Ownership_MORTGAGE            0\n",
       "Home.Ownership_NONE                0\n",
       "Home.Ownership_OTHER               0\n",
       "Home.Ownership_OWN                 0\n",
       "Home.Ownership_RENT                0\n",
       "Employment.Length_1 year           0\n",
       "Employment.Length_10+ years        0\n",
       "Employment.Length_2 years          0\n",
       "Employment.Length_3 years          0\n",
       "Employment.Length_4 years          0\n",
       "Employment.Length_5 years          0\n",
       "Employment.Length_6 years          0\n",
       "Employment.Length_7 years          0\n",
       "Employment.Length_8 years          0\n",
       "Employment.Length_9 years          0\n",
       "dtype: int64"
      ]
     },
     "execution_count": 29,
     "metadata": {},
     "output_type": "execute_result"
    }
   ],
   "source": [
    "LoanData_combined.isnull().sum(axis = 0)"
   ]
  },
  {
   "cell_type": "markdown",
   "metadata": {},
   "source": [
    "Step 3 : Splitting the data in Training and Test set\n",
    "Using sklearn we split 70% of our data into training set and rest in test set.\n",
    "\n",
    "Setting random_state will give the same training and test set everytime on running the code."
   ]
  },
  {
   "cell_type": "code",
   "execution_count": 30,
   "metadata": {},
   "outputs": [],
   "source": [
    "# Putting feature variable to X\n",
    "X = LoanData_combined.drop('Interest.Rate', axis= 1)\n",
    "\n",
    "# Putting response variable to y\n",
    "y = LoanData_combined['Interest.Rate']"
   ]
  },
  {
   "cell_type": "code",
   "execution_count": 31,
   "metadata": {},
   "outputs": [],
   "source": [
    "#random_state is the seed used by the random number generator. It can be any integer.\n",
    "from sklearn.model_selection import train_test_split\n",
    "X_train, X_test, y_train, y_test = train_test_split(X, y, train_size=0.7 , random_state=100)"
   ]
  },
  {
   "cell_type": "markdown",
   "metadata": {},
   "source": [
    "Step 4 : Performing Linear Regression"
   ]
  },
  {
   "cell_type": "code",
   "execution_count": 32,
   "metadata": {},
   "outputs": [],
   "source": [
    "from sklearn.linear_model import LinearRegression"
   ]
  },
  {
   "cell_type": "code",
   "execution_count": 33,
   "metadata": {},
   "outputs": [],
   "source": [
    "# Representing LinearRegression as lr(Creating LinearRegression Object)\n",
    "lm = LinearRegression()"
   ]
  },
  {
   "cell_type": "code",
   "execution_count": 34,
   "metadata": {},
   "outputs": [
    {
     "data": {
      "text/plain": [
       "LinearRegression(copy_X=True, fit_intercept=True, n_jobs=None, normalize=False)"
      ]
     },
     "execution_count": 34,
     "metadata": {},
     "output_type": "execute_result"
    }
   ],
   "source": [
    "# fit the model to the training data\n",
    "lm.fit(X_train,y_train)"
   ]
  },
  {
   "cell_type": "markdown",
   "metadata": {},
   "source": [
    "Step 5 : Model Evaluation"
   ]
  },
  {
   "cell_type": "code",
   "execution_count": 35,
   "metadata": {},
   "outputs": [
    {
     "name": "stdout",
     "output_type": "stream",
     "text": [
      "0.12703576133003758\n"
     ]
    }
   ],
   "source": [
    "# print the intercept\n",
    "print(lm.intercept_)"
   ]
  },
  {
   "cell_type": "code",
   "execution_count": 36,
   "metadata": {},
   "outputs": [
    {
     "data": {
      "text/html": [
       "<div>\n",
       "<style scoped>\n",
       "    .dataframe tbody tr th:only-of-type {\n",
       "        vertical-align: middle;\n",
       "    }\n",
       "\n",
       "    .dataframe tbody tr th {\n",
       "        vertical-align: top;\n",
       "    }\n",
       "\n",
       "    .dataframe thead th {\n",
       "        text-align: right;\n",
       "    }\n",
       "</style>\n",
       "<table border=\"1\" class=\"dataframe\">\n",
       "  <thead>\n",
       "    <tr style=\"text-align: right;\">\n",
       "      <th></th>\n",
       "      <th>Coefficient</th>\n",
       "    </tr>\n",
       "  </thead>\n",
       "  <tbody>\n",
       "    <tr>\n",
       "      <th>Amount.Requested</th>\n",
       "      <td>5.124897e-08</td>\n",
       "    </tr>\n",
       "    <tr>\n",
       "      <th>Amount.Funded.By.Investors</th>\n",
       "      <td>1.234640e-06</td>\n",
       "    </tr>\n",
       "    <tr>\n",
       "      <th>Debt.To.Income.Ratio</th>\n",
       "      <td>5.383595e-02</td>\n",
       "    </tr>\n",
       "    <tr>\n",
       "      <th>Monthly.Income</th>\n",
       "      <td>-5.826722e-07</td>\n",
       "    </tr>\n",
       "    <tr>\n",
       "      <th>Open.CREDIT.Lines</th>\n",
       "      <td>-1.221760e-04</td>\n",
       "    </tr>\n",
       "    <tr>\n",
       "      <th>Revolving.CREDIT.Balance</th>\n",
       "      <td>-3.953612e-08</td>\n",
       "    </tr>\n",
       "    <tr>\n",
       "      <th>Inquiries.in.the.Last.6.Months</th>\n",
       "      <td>6.153026e-03</td>\n",
       "    </tr>\n",
       "    <tr>\n",
       "      <th>Loan.Length_36 months</th>\n",
       "      <td>-1.720037e-02</td>\n",
       "    </tr>\n",
       "    <tr>\n",
       "      <th>Loan.Length_60 months</th>\n",
       "      <td>1.720037e-02</td>\n",
       "    </tr>\n",
       "    <tr>\n",
       "      <th>Loan.Purpose_car</th>\n",
       "      <td>-3.483940e-02</td>\n",
       "    </tr>\n",
       "    <tr>\n",
       "      <th>Loan.Purpose_credit_card</th>\n",
       "      <td>-1.744019e-02</td>\n",
       "    </tr>\n",
       "    <tr>\n",
       "      <th>Loan.Purpose_debt_consolidation</th>\n",
       "      <td>-1.519723e-02</td>\n",
       "    </tr>\n",
       "    <tr>\n",
       "      <th>Loan.Purpose_educational</th>\n",
       "      <td>-2.170702e-02</td>\n",
       "    </tr>\n",
       "    <tr>\n",
       "      <th>Loan.Purpose_home_improvement</th>\n",
       "      <td>-2.885164e-02</td>\n",
       "    </tr>\n",
       "    <tr>\n",
       "      <th>Loan.Purpose_house</th>\n",
       "      <td>-1.869967e-02</td>\n",
       "    </tr>\n",
       "    <tr>\n",
       "      <th>Loan.Purpose_major_purchase</th>\n",
       "      <td>-3.189800e-02</td>\n",
       "    </tr>\n",
       "    <tr>\n",
       "      <th>Loan.Purpose_medical</th>\n",
       "      <td>-3.275979e-02</td>\n",
       "    </tr>\n",
       "    <tr>\n",
       "      <th>Loan.Purpose_moving</th>\n",
       "      <td>-6.376962e-03</td>\n",
       "    </tr>\n",
       "    <tr>\n",
       "      <th>Loan.Purpose_other</th>\n",
       "      <td>-9.815357e-03</td>\n",
       "    </tr>\n",
       "    <tr>\n",
       "      <th>Loan.Purpose_renewable_energy</th>\n",
       "      <td>-4.003874e-02</td>\n",
       "    </tr>\n",
       "    <tr>\n",
       "      <th>Loan.Purpose_small_business</th>\n",
       "      <td>-2.000448e-02</td>\n",
       "    </tr>\n",
       "    <tr>\n",
       "      <th>Loan.Purpose_vacation</th>\n",
       "      <td>-1.900348e-02</td>\n",
       "    </tr>\n",
       "    <tr>\n",
       "      <th>Loan.Purpose_wedding</th>\n",
       "      <td>-1.996155e-02</td>\n",
       "    </tr>\n",
       "    <tr>\n",
       "      <th>Home.Ownership_MORTGAGE</th>\n",
       "      <td>-3.587703e-04</td>\n",
       "    </tr>\n",
       "    <tr>\n",
       "      <th>Home.Ownership_NONE</th>\n",
       "      <td>-5.975458e-02</td>\n",
       "    </tr>\n",
       "    <tr>\n",
       "      <th>Home.Ownership_OTHER</th>\n",
       "      <td>4.222325e-02</td>\n",
       "    </tr>\n",
       "    <tr>\n",
       "      <th>Home.Ownership_OWN</th>\n",
       "      <td>6.393314e-03</td>\n",
       "    </tr>\n",
       "    <tr>\n",
       "      <th>Home.Ownership_RENT</th>\n",
       "      <td>1.149678e-02</td>\n",
       "    </tr>\n",
       "    <tr>\n",
       "      <th>Employment.Length_1 year</th>\n",
       "      <td>3.797093e-04</td>\n",
       "    </tr>\n",
       "    <tr>\n",
       "      <th>Employment.Length_10+ years</th>\n",
       "      <td>2.000932e-03</td>\n",
       "    </tr>\n",
       "    <tr>\n",
       "      <th>Employment.Length_2 years</th>\n",
       "      <td>-2.094933e-03</td>\n",
       "    </tr>\n",
       "    <tr>\n",
       "      <th>Employment.Length_3 years</th>\n",
       "      <td>-2.295792e-03</td>\n",
       "    </tr>\n",
       "    <tr>\n",
       "      <th>Employment.Length_4 years</th>\n",
       "      <td>2.462447e-03</td>\n",
       "    </tr>\n",
       "    <tr>\n",
       "      <th>Employment.Length_5 years</th>\n",
       "      <td>1.205459e-03</td>\n",
       "    </tr>\n",
       "    <tr>\n",
       "      <th>Employment.Length_6 years</th>\n",
       "      <td>2.140746e-03</td>\n",
       "    </tr>\n",
       "    <tr>\n",
       "      <th>Employment.Length_7 years</th>\n",
       "      <td>3.381001e-03</td>\n",
       "    </tr>\n",
       "    <tr>\n",
       "      <th>Employment.Length_8 years</th>\n",
       "      <td>5.156400e-03</td>\n",
       "    </tr>\n",
       "    <tr>\n",
       "      <th>Employment.Length_9 years</th>\n",
       "      <td>-6.893512e-04</td>\n",
       "    </tr>\n",
       "  </tbody>\n",
       "</table>\n",
       "</div>"
      ],
      "text/plain": [
       "                                  Coefficient\n",
       "Amount.Requested                 5.124897e-08\n",
       "Amount.Funded.By.Investors       1.234640e-06\n",
       "Debt.To.Income.Ratio             5.383595e-02\n",
       "Monthly.Income                  -5.826722e-07\n",
       "Open.CREDIT.Lines               -1.221760e-04\n",
       "Revolving.CREDIT.Balance        -3.953612e-08\n",
       "Inquiries.in.the.Last.6.Months   6.153026e-03\n",
       "Loan.Length_36 months           -1.720037e-02\n",
       "Loan.Length_60 months            1.720037e-02\n",
       "Loan.Purpose_car                -3.483940e-02\n",
       "Loan.Purpose_credit_card        -1.744019e-02\n",
       "Loan.Purpose_debt_consolidation -1.519723e-02\n",
       "Loan.Purpose_educational        -2.170702e-02\n",
       "Loan.Purpose_home_improvement   -2.885164e-02\n",
       "Loan.Purpose_house              -1.869967e-02\n",
       "Loan.Purpose_major_purchase     -3.189800e-02\n",
       "Loan.Purpose_medical            -3.275979e-02\n",
       "Loan.Purpose_moving             -6.376962e-03\n",
       "Loan.Purpose_other              -9.815357e-03\n",
       "Loan.Purpose_renewable_energy   -4.003874e-02\n",
       "Loan.Purpose_small_business     -2.000448e-02\n",
       "Loan.Purpose_vacation           -1.900348e-02\n",
       "Loan.Purpose_wedding            -1.996155e-02\n",
       "Home.Ownership_MORTGAGE         -3.587703e-04\n",
       "Home.Ownership_NONE             -5.975458e-02\n",
       "Home.Ownership_OTHER             4.222325e-02\n",
       "Home.Ownership_OWN               6.393314e-03\n",
       "Home.Ownership_RENT              1.149678e-02\n",
       "Employment.Length_1 year         3.797093e-04\n",
       "Employment.Length_10+ years      2.000932e-03\n",
       "Employment.Length_2 years       -2.094933e-03\n",
       "Employment.Length_3 years       -2.295792e-03\n",
       "Employment.Length_4 years        2.462447e-03\n",
       "Employment.Length_5 years        1.205459e-03\n",
       "Employment.Length_6 years        2.140746e-03\n",
       "Employment.Length_7 years        3.381001e-03\n",
       "Employment.Length_8 years        5.156400e-03\n",
       "Employment.Length_9 years       -6.893512e-04"
      ]
     },
     "execution_count": 36,
     "metadata": {},
     "output_type": "execute_result"
    }
   ],
   "source": [
    "# Let's see the coefficient\n",
    "coeff_df = pd.DataFrame(lm.coef_,X_test.columns,columns=['Coefficient'])\n",
    "coeff_df\n"
   ]
  },
  {
   "cell_type": "markdown",
   "metadata": {},
   "source": [
    "From the above result we may infern that if Age increses by 1 unit\n",
    "\n",
    "it will affect Earnings_1978 by -105.198175 units."
   ]
  },
  {
   "cell_type": "markdown",
   "metadata": {},
   "source": [
    "Step 6 : Predictions"
   ]
  },
  {
   "cell_type": "code",
   "execution_count": 37,
   "metadata": {},
   "outputs": [],
   "source": [
    "# Making predictions using the model\n",
    "y_pred = lm.predict(X_test)"
   ]
  },
  {
   "cell_type": "code",
   "execution_count": 38,
   "metadata": {},
   "outputs": [
    {
     "data": {
      "text/plain": [
       "array([0.10838384, 0.15354585, 0.13276408, 0.11720411, 0.09893044,\n",
       "       0.11156684, 0.09952034, 0.11429877, 0.11549423, 0.14985774,\n",
       "       0.1741707 , 0.14983078, 0.1339334 , 0.12431941, 0.13498664,\n",
       "       0.1162575 , 0.16229565, 0.12827419, 0.08396881, 0.17669794,\n",
       "       0.08896328, 0.15068613, 0.08262859, 0.11995058, 0.12005868,\n",
       "       0.10964147, 0.15677268, 0.09883941, 0.1085616 , 0.15700453,\n",
       "       0.14139636, 0.09196573, 0.12770298, 0.14610562, 0.12117327,\n",
       "       0.17157232, 0.13915442, 0.11455124, 0.09963728, 0.10890855,\n",
       "       0.13199406, 0.11888564, 0.118905  , 0.11861732, 0.16335623,\n",
       "       0.11976367, 0.12864432, 0.13992403, 0.11800677, 0.12017655,\n",
       "       0.13876212, 0.1023293 , 0.14178703, 0.16961594, 0.12802037,\n",
       "       0.12460358, 0.14144084, 0.11720995, 0.13167419, 0.19232569,\n",
       "       0.12203603, 0.12147383, 0.11525578, 0.12381754, 0.13661647,\n",
       "       0.11978025, 0.16970086, 0.11207865, 0.14031008, 0.13795546,\n",
       "       0.14010565, 0.12845302, 0.13224712, 0.17288863, 0.12926459,\n",
       "       0.10959427, 0.11666766, 0.12698755, 0.13213543, 0.11184782,\n",
       "       0.16655725, 0.12901937, 0.10413376, 0.10675749, 0.11382191,\n",
       "       0.11950575, 0.11275163, 0.13177112, 0.11519356, 0.13153554,\n",
       "       0.12803127, 0.12601113, 0.11619341, 0.12918913, 0.11721427,\n",
       "       0.14199941, 0.1117651 , 0.11049472, 0.18466023, 0.1201376 ,\n",
       "       0.15276732, 0.10083592, 0.14792702, 0.12536046, 0.19078985,\n",
       "       0.09801501, 0.1202078 , 0.15724092, 0.08903971, 0.12311758,\n",
       "       0.17621991, 0.11490444, 0.18569482, 0.17941494, 0.11055934,\n",
       "       0.13092474, 0.12777822, 0.1518281 , 0.18526203, 0.12253285,\n",
       "       0.17402041, 0.16076666, 0.13041288, 0.13866543, 0.11135241,\n",
       "       0.09908074, 0.12287038, 0.11229404, 0.12948444, 0.18334382,\n",
       "       0.16374162, 0.10493577, 0.104053  , 0.12573177, 0.18637027,\n",
       "       0.17936671, 0.12614301, 0.12824718, 0.13538003, 0.12157348,\n",
       "       0.09570037, 0.08903036, 0.15155358, 0.12537897, 0.10813407,\n",
       "       0.17232719, 0.1304094 , 0.10439546, 0.13664225, 0.1236342 ,\n",
       "       0.11514026, 0.15297926, 0.16468504, 0.12803299, 0.13179331,\n",
       "       0.17256393, 0.12368419, 0.12760104, 0.1096135 , 0.1142425 ,\n",
       "       0.14271029, 0.1651333 , 0.10561063, 0.1290623 , 0.09976877,\n",
       "       0.11766221, 0.13561965, 0.14453899, 0.10343919, 0.11746475,\n",
       "       0.10700966, 0.09883819, 0.16481079, 0.09925726, 0.16026999,\n",
       "       0.10791034, 0.130547  , 0.1405548 , 0.13241765, 0.10950319,\n",
       "       0.08738212, 0.12375914, 0.16260956, 0.12986491, 0.09513048,\n",
       "       0.13158785, 0.12723247, 0.12945235, 0.1216187 , 0.15462919,\n",
       "       0.1207148 , 0.12317238, 0.12200041, 0.13661655, 0.1507627 ,\n",
       "       0.1224613 , 0.13676208, 0.10797257, 0.11075128, 0.11121045,\n",
       "       0.13053127, 0.15345901, 0.11773281, 0.17343664, 0.10245307,\n",
       "       0.12797452, 0.12995366, 0.12669771, 0.13114959, 0.16514939,\n",
       "       0.0998451 , 0.13052343, 0.13026439, 0.10951951, 0.13276693,\n",
       "       0.12701005, 0.18001009, 0.13451873, 0.09692228, 0.10692619,\n",
       "       0.12134085, 0.11834833, 0.15447329, 0.13696644, 0.09312891,\n",
       "       0.12381883, 0.12889304, 0.12701498, 0.10390739, 0.1029811 ,\n",
       "       0.13573237, 0.10871035, 0.1313937 , 0.10953165, 0.10915204,\n",
       "       0.12046167, 0.12248815, 0.10390398, 0.1794938 , 0.1218025 ,\n",
       "       0.12076756, 0.14846581, 0.11473891, 0.12987289, 0.1130567 ,\n",
       "       0.16097957, 0.13879789, 0.13333849, 0.11918269, 0.1308558 ,\n",
       "       0.14571357, 0.12807813, 0.12660923, 0.13152774, 0.12545682,\n",
       "       0.16000522, 0.11131986, 0.0985239 , 0.14115137, 0.13468771,\n",
       "       0.14034654, 0.1205394 , 0.11038244, 0.14453225, 0.0942304 ,\n",
       "       0.12854329, 0.12070639, 0.1272273 , 0.12470499, 0.09554129,\n",
       "       0.10991622, 0.15817923, 0.16911898, 0.13574025, 0.14777636,\n",
       "       0.1269678 , 0.20313579, 0.12086479, 0.16332549, 0.11427   ,\n",
       "       0.11482674, 0.10781298, 0.15701472, 0.12199963, 0.18572146,\n",
       "       0.14298881, 0.16066475, 0.1371887 , 0.16637452, 0.11538792,\n",
       "       0.14387193, 0.09764674, 0.11032384, 0.10196348, 0.13745455,\n",
       "       0.13122355, 0.12342145, 0.14107874, 0.19488426, 0.1228853 ,\n",
       "       0.11843331, 0.15414186, 0.13373807, 0.11296544, 0.15574023,\n",
       "       0.14067857, 0.15755496, 0.12540691, 0.14096497, 0.16063165,\n",
       "       0.15566638, 0.18802289, 0.11959982, 0.11563364, 0.13049081,\n",
       "       0.13367054, 0.1191083 , 0.10358064, 0.16328817, 0.12598636,\n",
       "       0.10375872, 0.10238508, 0.12236068, 0.10843876, 0.12840613,\n",
       "       0.11752945, 0.17467513, 0.1263059 , 0.13369119, 0.1653482 ,\n",
       "       0.14035349, 0.10817067, 0.11422107, 0.10610769, 0.11716548,\n",
       "       0.15584025, 0.10975063, 0.08643436, 0.13328816, 0.15991088,\n",
       "       0.10754502, 0.12094276, 0.13465353, 0.15091621, 0.1429227 ,\n",
       "       0.13923979, 0.1806167 , 0.12197345, 0.10722507, 0.11483825,\n",
       "       0.13461041, 0.11643149, 0.10934933, 0.13392238, 0.11373117,\n",
       "       0.11946494, 0.12793823, 0.12875088, 0.1216581 , 0.13472391,\n",
       "       0.11593306, 0.10302209, 0.1775095 , 0.13077809, 0.09984362,\n",
       "       0.10023927, 0.17605498, 0.14361622, 0.11435101, 0.1736452 ,\n",
       "       0.11727479, 0.15463073, 0.10672463, 0.11826028, 0.11221748,\n",
       "       0.16014668, 0.14771288, 0.14408279, 0.10723106, 0.11005781,\n",
       "       0.12977376, 0.12634599, 0.12619813, 0.16816272, 0.12828493,\n",
       "       0.0972369 , 0.12271057, 0.13015983, 0.12934784, 0.12239427,\n",
       "       0.11274524, 0.1810504 , 0.14260297, 0.19437494, 0.14704605,\n",
       "       0.15950884, 0.13244637, 0.17590991, 0.12859725, 0.10550675,\n",
       "       0.17286787, 0.13401515, 0.09450368, 0.16149125, 0.12834625,\n",
       "       0.17173593, 0.14883085, 0.12748993, 0.09198688, 0.17348292,\n",
       "       0.12824736, 0.09624848, 0.11773098, 0.17146273, 0.17062584,\n",
       "       0.13566329, 0.12131933, 0.11943868, 0.10546051, 0.1229151 ,\n",
       "       0.10028562, 0.11802013, 0.14823578, 0.13039844, 0.16014644,\n",
       "       0.10042612, 0.11314449, 0.12502307, 0.17825997, 0.12934667,\n",
       "       0.13463957, 0.11526503, 0.07565468, 0.15765118, 0.14827787,\n",
       "       0.13336344, 0.12523987, 0.13863177, 0.12072825, 0.13543273,\n",
       "       0.14933281, 0.12178091, 0.10776528, 0.11932452, 0.13923564,\n",
       "       0.18641703, 0.14218609, 0.09481603, 0.12754155, 0.1118577 ,\n",
       "       0.12547772, 0.11293676, 0.12018931, 0.11769219, 0.09204742,\n",
       "       0.13352349, 0.14372508, 0.14080278, 0.10479932, 0.12709849,\n",
       "       0.10714279, 0.16487626, 0.15320535, 0.13170153, 0.13837777,\n",
       "       0.12687772, 0.14719008, 0.12948244, 0.12820315, 0.09314395,\n",
       "       0.13392302, 0.10557829, 0.15364914, 0.1529758 , 0.1273298 ,\n",
       "       0.12574943, 0.10807359, 0.16924761, 0.1114619 , 0.13316312,\n",
       "       0.11179587, 0.18211209, 0.11711687, 0.12005632, 0.12529452,\n",
       "       0.1346147 , 0.1198588 , 0.18046045, 0.12558253, 0.08864576,\n",
       "       0.11392121, 0.12137694, 0.11871362, 0.12073812, 0.1302198 ,\n",
       "       0.13933261, 0.1726885 , 0.09804742, 0.12279112, 0.10874567,\n",
       "       0.12699957, 0.10259307, 0.15156087, 0.17640796, 0.11744626,\n",
       "       0.11594551, 0.0918746 , 0.13219877, 0.15377505, 0.12681623,\n",
       "       0.16511851, 0.14840023, 0.14243249, 0.18597547, 0.11646294,\n",
       "       0.10608512, 0.15237005, 0.14544521, 0.12071447, 0.13958596,\n",
       "       0.08929275, 0.1758066 , 0.08011912, 0.14357261, 0.12361349,\n",
       "       0.10077243, 0.1111975 , 0.12034841, 0.11512744, 0.09820789,\n",
       "       0.1107145 , 0.15257759, 0.12463705, 0.11765356, 0.11728361,\n",
       "       0.13199629, 0.11205842, 0.13813662, 0.14724915, 0.10099702,\n",
       "       0.10511256, 0.12354682, 0.13063173, 0.11218317, 0.10414023,\n",
       "       0.12990621, 0.13373216, 0.12042276, 0.12956808, 0.12313984,\n",
       "       0.1217696 , 0.1271055 , 0.13939297, 0.12054815, 0.1215539 ,\n",
       "       0.12061887, 0.12657933, 0.16135208, 0.13194015, 0.12768447,\n",
       "       0.16379272, 0.1121334 , 0.1346723 , 0.10160047, 0.11423693,\n",
       "       0.11385038, 0.09885728, 0.11438191, 0.15864381, 0.16396354,\n",
       "       0.11238653, 0.13339074, 0.116425  , 0.14320316, 0.1714645 ,\n",
       "       0.12898849, 0.10980907, 0.11453913, 0.12422664, 0.13154469,\n",
       "       0.11944265, 0.09811192, 0.14419736, 0.08932233, 0.10972333,\n",
       "       0.13563205, 0.17941523, 0.13486358, 0.1363609 , 0.16879167,\n",
       "       0.11754523, 0.17537879, 0.11917058, 0.12920346, 0.18203085,\n",
       "       0.12275709, 0.11043619, 0.12510008, 0.12647268, 0.10441304,\n",
       "       0.12719956, 0.18598381, 0.12810054, 0.11759684, 0.13003563,\n",
       "       0.12967754, 0.12226882, 0.12707943, 0.13212563, 0.1122379 ,\n",
       "       0.11857059, 0.12676117, 0.10576916, 0.1589561 , 0.13467195,\n",
       "       0.13033679, 0.14882875, 0.10669371, 0.12671653, 0.11504331,\n",
       "       0.18957589, 0.12431521, 0.10989444, 0.17563544, 0.10350991,\n",
       "       0.16414961, 0.17347629, 0.10283014, 0.12811746, 0.1076981 ,\n",
       "       0.11483226, 0.14403497, 0.10606692, 0.12860048, 0.11713953,\n",
       "       0.13679144, 0.15489606, 0.11400159, 0.12237656, 0.16646815,\n",
       "       0.11388979, 0.11958175, 0.12190045, 0.13285637, 0.11622557,\n",
       "       0.11239021, 0.1240943 , 0.15395999, 0.13822166, 0.12794161,\n",
       "       0.10886737, 0.09140846, 0.13049362, 0.13194456, 0.11066115,\n",
       "       0.13781781, 0.10769769, 0.0909962 , 0.13460139, 0.18312356,\n",
       "       0.11324908, 0.13109946, 0.122093  , 0.12562774, 0.15476963,\n",
       "       0.13269174, 0.12884862, 0.1439992 , 0.17788996, 0.13268071,\n",
       "       0.1280343 , 0.17558008, 0.11987822, 0.09288914, 0.17143605,\n",
       "       0.13705612, 0.11368651, 0.12199495, 0.0998678 , 0.12140803,\n",
       "       0.14331888, 0.12902884, 0.0876749 , 0.11772804, 0.14718487,\n",
       "       0.12531038, 0.17176756, 0.12160542, 0.18156505, 0.10621979,\n",
       "       0.12154652, 0.13250693, 0.12500647, 0.11181348, 0.10858745,\n",
       "       0.14186213, 0.12791391, 0.1115427 , 0.11750246, 0.12180662,\n",
       "       0.15429075, 0.13996631, 0.13327413, 0.14040186, 0.12922681,\n",
       "       0.09476197, 0.11401817, 0.08548013, 0.13605996, 0.12590704,\n",
       "       0.12096796, 0.13224603, 0.10313213, 0.13560489, 0.18012564,\n",
       "       0.12644067, 0.13343274, 0.1764591 , 0.10512357, 0.12586012,\n",
       "       0.10268786, 0.15241867, 0.12905204, 0.13392767, 0.14245242,\n",
       "       0.11066781, 0.16331285, 0.10336812, 0.19060454, 0.12315295,\n",
       "       0.14176543, 0.12536666, 0.17550678, 0.10885637, 0.11915307,\n",
       "       0.11574127, 0.11884852, 0.12387541, 0.14776992, 0.11425853,\n",
       "       0.13577653, 0.13174391, 0.16949193, 0.12521918, 0.1464754 ,\n",
       "       0.11023472, 0.14725322, 0.09700855, 0.1017492 , 0.10821476])"
      ]
     },
     "execution_count": 38,
     "metadata": {},
     "output_type": "execute_result"
    }
   ],
   "source": [
    "y_pred"
   ]
  },
  {
   "cell_type": "markdown",
   "metadata": {},
   "source": [
    "Step 7: Model Performance Metrics"
   ]
  },
  {
   "cell_type": "markdown",
   "metadata": {},
   "source": [
    "Coefficient of Determination (R square)"
   ]
  },
  {
   "cell_type": "code",
   "execution_count": 40,
   "metadata": {},
   "outputs": [],
   "source": [
    "from sklearn.metrics import mean_squared_error, r2_score\n",
    "mse = mean_squared_error(y_test, y_pred)\n",
    "r_squared = r2_score(y_test, y_pred)"
   ]
  },
  {
   "cell_type": "code",
   "execution_count": 41,
   "metadata": {},
   "outputs": [],
   "source": [
    "from math import sqrt\n",
    "rmse = sqrt(mse)"
   ]
  },
  {
   "cell_type": "code",
   "execution_count": 42,
   "metadata": {},
   "outputs": [
    {
     "name": "stdout",
     "output_type": "stream",
     "text": [
      "Mean_Squared_Error : 0.0011763424815525027\n",
      "Root_Mean_Squared_Error : 0.034297849517899846\n",
      "r_square_value : 0.2771566104819654\n"
     ]
    }
   ],
   "source": [
    "print('Mean_Squared_Error :' ,mse)\n",
    "print('Root_Mean_Squared_Error :' ,rmse)\n",
    "print('r_square_value :',r_squared)"
   ]
  }
 ],
 "metadata": {
  "kernelspec": {
   "display_name": "Python 3",
   "language": "python",
   "name": "python3"
  },
  "language_info": {
   "codemirror_mode": {
    "name": "ipython",
    "version": 3
   },
   "file_extension": ".py",
   "mimetype": "text/x-python",
   "name": "python",
   "nbconvert_exporter": "python",
   "pygments_lexer": "ipython3",
   "version": "3.8.5"
  }
 },
 "nbformat": 4,
 "nbformat_minor": 2
}
